{
 "cells": [
  {
   "cell_type": "markdown",
   "metadata": {},
   "source": [
    "# Init"
   ]
  },
  {
   "cell_type": "code",
   "execution_count": 8,
   "metadata": {
    "ExecuteTime": {
     "end_time": "2019-04-19T12:00:40.248436Z",
     "start_time": "2019-04-19T12:00:40.209034Z"
    }
   },
   "outputs": [],
   "source": [
    "import importlib\n",
    "import pandas as pd\n",
    "from models import DistanceModel"
   ]
  },
  {
   "cell_type": "code",
   "execution_count": 9,
   "metadata": {
    "ExecuteTime": {
     "end_time": "2019-04-19T12:00:42.896150Z",
     "start_time": "2019-04-19T12:00:41.171690Z"
    }
   },
   "outputs": [],
   "source": [
    "model = DistanceModel(que_dim= 24 - 2 + 8 - 2,\n",
    "                                  que_input_embs=[102, 42], que_output_embs=[2, 2],\n",
    "                                  pro_dim=27 - 2,\n",
    "                                  pro_input_embs=[102, 102, 42], pro_output_embs=[2, 2, 2],\n",
    "                                  inter_dim=20, output_dim=10)\n",
    "model.load_weights('dump/model.h5')"
   ]
  },
  {
   "cell_type": "code",
   "execution_count": 10,
   "metadata": {
    "ExecuteTime": {
     "end_time": "2019-04-19T12:00:46.690495Z",
     "start_time": "2019-04-19T12:00:46.651422Z"
    }
   },
   "outputs": [],
   "source": [
    "import predictor"
   ]
  },
  {
   "cell_type": "code",
   "execution_count": 11,
   "metadata": {
    "ExecuteTime": {
     "end_time": "2019-04-19T12:00:46.885653Z",
     "start_time": "2019-04-19T12:00:46.856539Z"
    },
    "scrolled": true
   },
   "outputs": [
    {
     "data": {
      "text/plain": [
       "<module 'predictor' from 'C:\\\\Users\\\\nikitosoleil\\\\DataRoot\\\\cv\\\\cv\\\\proj\\\\predictor.py'>"
      ]
     },
     "execution_count": 11,
     "metadata": {},
     "output_type": "execute_result"
    }
   ],
   "source": [
    "importlib.reload(predictor)"
   ]
  },
  {
   "cell_type": "code",
   "execution_count": null,
   "metadata": {
    "ExecuteTime": {
     "start_time": "2019-04-19T12:00:47.170Z"
    }
   },
   "outputs": [],
   "source": [
    "pred = predictor.Predictor(model, 'dump/')"
   ]
  },
  {
   "cell_type": "code",
   "execution_count": null,
   "metadata": {
    "ExecuteTime": {
     "start_time": "2019-04-19T12:00:50.462Z"
    },
    "scrolled": true
   },
   "outputs": [],
   "source": [
    "formatter = predictor.Formatter('../../data/')"
   ]
  },
  {
   "cell_type": "markdown",
   "metadata": {},
   "source": [
    "# From ques"
   ]
  },
  {
   "cell_type": "code",
   "execution_count": null,
   "metadata": {
    "ExecuteTime": {
     "start_time": "2019-04-19T12:00:52.025Z"
    }
   },
   "outputs": [],
   "source": [
    "que_dict = {\n",
    "    'questions_id': ['332a511f1569444485cf7a7a556a5e54'],\n",
    "    'questions_author_id': ['8f6f374ffd834d258ab69d376dd998f5'],\n",
    "    'questions_date_added': ['2016-04-26 11:14:26'],\n",
    "    'questions_title': ['Teacher   career   question'],\n",
    "    'questions_body': ['What  is  a  maths  teacher?   what  is  a  maths  teacher  useful? #college #professor #lecture'],\n",
    "    'questions_tags': ['college lecture professor']\n",
    "}"
   ]
  },
  {
   "cell_type": "code",
   "execution_count": null,
   "metadata": {
    "ExecuteTime": {
     "start_time": "2019-04-19T12:00:52.241Z"
    }
   },
   "outputs": [],
   "source": [
    "que_df, que_tags = predictor.Formatter.convert_que_dict(que_dict)"
   ]
  },
  {
   "cell_type": "code",
   "execution_count": null,
   "metadata": {
    "ExecuteTime": {
     "start_time": "2019-04-19T12:00:52.739Z"
    },
    "scrolled": false
   },
   "outputs": [],
   "source": [
    "tmp = pred.find_pros_by_que(que_df, que_tags)\n",
    "formatter.get_pro(tmp)"
   ]
  },
  {
   "cell_type": "code",
   "execution_count": null,
   "metadata": {
    "ExecuteTime": {
     "end_time": "2019-04-19T11:58:35.246620Z",
     "start_time": "2019-04-19T11:58:26.605Z"
    },
    "scrolled": true
   },
   "outputs": [],
   "source": [
    "tmp = pred.find_ques_by_que(que_df, que_tags)\n",
    "formatter.get_que(tmp)"
   ]
  },
  {
   "cell_type": "markdown",
   "metadata": {},
   "source": [
    "# From pros"
   ]
  },
  {
   "cell_type": "code",
   "execution_count": null,
   "metadata": {
    "ExecuteTime": {
     "end_time": "2019-04-19T11:56:39.249569Z",
     "start_time": "2019-04-19T11:56:27.366Z"
    }
   },
   "outputs": [],
   "source": [
    "pro_dict = {\n",
    "    'professionals_id': ['f64df9b489864952917cb631be1ddac7'],\n",
    "    'professionals_location': ['United States'],\n",
    "    'professionals_industry': ['Telecommunications'],\n",
    "    'professionals_headline': ['Wireless Technology Planning'],\n",
    "    'professionals_date_joined': ['2016-11-28 20:24:01'],\n",
    "    'professionals_subscribed_tags': ['pharmaceutical-industry medicine healthcare-it biology science healthcare research']\n",
    "}"
   ]
  },
  {
   "cell_type": "code",
   "execution_count": null,
   "metadata": {
    "ExecuteTime": {
     "end_time": "2019-04-19T11:56:39.249569Z",
     "start_time": "2019-04-19T11:56:27.642Z"
    }
   },
   "outputs": [],
   "source": [
    "pro_df, pro_tags = predictor.Formatter.convert_pro_dict(pro_dict)"
   ]
  },
  {
   "cell_type": "code",
   "execution_count": null,
   "metadata": {
    "ExecuteTime": {
     "end_time": "2019-04-19T11:56:39.265186Z",
     "start_time": "2019-04-19T11:56:27.880Z"
    }
   },
   "outputs": [],
   "source": [
    "ans_df = pd.read_csv('../../data/answers.csv')\n",
    "que_df = pd.read_csv('../../data/questions.csv')"
   ]
  },
  {
   "cell_type": "code",
   "execution_count": null,
   "metadata": {
    "ExecuteTime": {
     "end_time": "2019-04-19T11:56:39.265186Z",
     "start_time": "2019-04-19T11:56:28.081Z"
    },
    "scrolled": true
   },
   "outputs": [],
   "source": [
    "tmp = pred.find_ques_by_pro(pro_df, que_df, ans_df, pro_tags)\n",
    "formatter.get_que(tmp)"
   ]
  },
  {
   "cell_type": "code",
   "execution_count": null,
   "metadata": {
    "ExecuteTime": {
     "end_time": "2019-04-19T11:56:39.265186Z",
     "start_time": "2019-04-19T11:56:28.290Z"
    },
    "scrolled": true
   },
   "outputs": [],
   "source": [
    "tmp = pred.find_pros_by_pro(pro_df, que_df, ans_df, pro_tags, 10)\n",
    "formatter.get_pro(tmp)"
   ]
  },
  {
   "cell_type": "code",
   "execution_count": null,
   "metadata": {},
   "outputs": [],
   "source": []
  },
  {
   "cell_type": "code",
   "execution_count": null,
   "metadata": {},
   "outputs": [],
   "source": []
  },
  {
   "cell_type": "code",
   "execution_count": null,
   "metadata": {},
   "outputs": [],
   "source": []
  }
 ],
 "metadata": {
  "kernelspec": {
   "display_name": "Python 3",
   "language": "python",
   "name": "python3"
  },
  "toc": {
   "base_numbering": 1,
   "nav_menu": {},
   "number_sections": true,
   "sideBar": true,
   "skip_h1_title": false,
   "title_cell": "Table of Contents",
   "title_sidebar": "Contents",
   "toc_cell": false,
   "toc_position": {},
   "toc_section_display": true,
   "toc_window_display": false
  },
  "varInspector": {
   "cols": {
    "lenName": 16,
    "lenType": 16,
    "lenVar": 40
   },
   "kernels_config": {
    "python": {
     "delete_cmd_postfix": "",
     "delete_cmd_prefix": "del ",
     "library": "var_list.py",
     "varRefreshCmd": "print(var_dic_list())"
    },
    "r": {
     "delete_cmd_postfix": ") ",
     "delete_cmd_prefix": "rm(",
     "library": "var_list.r",
     "varRefreshCmd": "cat(var_dic_list()) "
    }
   },
   "types_to_exclude": [
    "module",
    "function",
    "builtin_function_or_method",
    "instance",
    "_Feature"
   ],
   "window_display": false
  }
 },
 "nbformat": 4,
 "nbformat_minor": 2
}
