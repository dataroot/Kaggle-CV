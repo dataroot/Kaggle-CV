{
 "cells": [
  {
   "cell_type": "markdown",
   "metadata": {},
   "source": [
    "## Test Predictor class"
   ]
  },
  {
   "cell_type": "code",
   "execution_count": 1,
   "metadata": {
    "ExecuteTime": {
     "end_time": "2019-04-18T11:31:54.393229Z",
     "start_time": "2019-04-18T11:31:46.525139Z"
    }
   },
   "outputs": [
    {
     "name": "stderr",
     "output_type": "stream",
     "text": [
      "Using TensorFlow backend.\n"
     ]
    }
   ],
   "source": [
    "from models import DistanceModel"
   ]
  },
  {
   "cell_type": "code",
   "execution_count": 4,
   "metadata": {
    "ExecuteTime": {
     "end_time": "2019-04-18T11:32:36.453969Z",
     "start_time": "2019-04-18T11:32:34.790758Z"
    }
   },
   "outputs": [],
   "source": [
    "model = DistanceModel(que_dim= 27 - 2 + 14 - 2,\n",
    "                                  que_input_embs=[102, 42], que_output_embs=[2, 2],\n",
    "                                  pro_dim=33 - 2,\n",
    "                                  pro_input_embs=[102, 102, 42], pro_output_embs=[2, 2, 2],\n",
    "                                  inter_dim=16, output_dim=10)\n",
    "model.load_weights('dump/model.h5')"
   ]
  },
  {
   "cell_type": "code",
   "execution_count": 5,
   "metadata": {
    "ExecuteTime": {
     "end_time": "2019-04-18T11:32:37.655489Z",
     "start_time": "2019-04-18T11:32:37.651539Z"
    }
   },
   "outputs": [],
   "source": [
    "import importlib"
   ]
  },
  {
   "cell_type": "code",
   "execution_count": 6,
   "metadata": {
    "ExecuteTime": {
     "end_time": "2019-04-18T11:32:42.322426Z",
     "start_time": "2019-04-18T11:32:37.860838Z"
    }
   },
   "outputs": [
    {
     "name": "stderr",
     "output_type": "stream",
     "text": [
      "C:\\Users\\nikitosoleil\\Anaconda3\\lib\\site-packages\\gensim\\utils.py:1197: UserWarning: detected Windows; aliasing chunkize to chunkize_serial\n",
      "  warnings.warn(\"detected Windows; aliasing chunkize to chunkize_serial\")\n"
     ]
    }
   ],
   "source": [
    "import predictor"
   ]
  },
  {
   "cell_type": "code",
   "execution_count": 105,
   "metadata": {
    "ExecuteTime": {
     "end_time": "2019-04-18T12:37:00.605812Z",
     "start_time": "2019-04-18T12:37:00.566691Z"
    },
    "scrolled": true
   },
   "outputs": [
    {
     "data": {
      "text/plain": [
       "<module 'predictor' from 'C:\\\\Users\\\\nikitosoleil\\\\DataRoot\\\\cv\\\\cv\\\\proj\\\\predictor.py'>"
      ]
     },
     "execution_count": 105,
     "metadata": {},
     "output_type": "execute_result"
    }
   ],
   "source": [
    "importlib.reload(predictor)"
   ]
  },
  {
   "cell_type": "code",
   "execution_count": 106,
   "metadata": {
    "ExecuteTime": {
     "end_time": "2019-04-18T12:37:11.226114Z",
     "start_time": "2019-04-18T12:37:00.738957Z"
    }
   },
   "outputs": [
    {
     "name": "stdout",
     "output_type": "stream",
     "text": [
      "[100 10 23 -0.5560829897714368 0.4140303428843267 -3.3346738412898826\n",
      " 0.43776379623592826 1.308695572124488 -2.1737440423302923\n",
      " 1.1405994918381603 -0.5702975770724269 -0.11725153028964996\n",
      " -0.9851715564727783 0.252293199300766 -1.070906400680542\n",
      " -0.31238463521003723 -0.8020544648170471 0.11489026993513107\n",
      " 0.01884876936674118 0.4159659147262573 0.8283409476280212\n",
      " 1.0396236181259155 -0.4579142928123474 -0.7106772661209106\n",
      " -1.1589419841766357 -1.1437820196151733 -0.8788050413131714\n",
      " -1.1638669967651367 0.11068644374608994 -0.11706457287073135\n",
      " 0.8814422488212585]\n",
      "[100 10 23 -0.5560829897714368 0.4140303428843267 -3.3346738412898826\n",
      " 0.43776379623592826 1.308695572124488 -2.1737440423302923\n",
      " 1.1405994918381603 -0.5702975770724269 -0.11725153028964996\n",
      " -0.9851715564727783 0.252293199300766 -1.070906400680542\n",
      " -0.31238463521003723 -0.8020544648170471 0.11489026993513107\n",
      " 0.01884876936674118 0.4159659147262573 0.8283409476280212\n",
      " 1.0396236181259155 -0.4579142928123474 -0.7106772661209106\n",
      " -1.1589419841766357 -1.1437820196151733 -0.8788050413131714\n",
      " -1.1638669967651367 0.11068644374608994 -0.11706457287073135\n",
      " 0.8814422488212585]\n",
      "[ 0.12160952  0.03939573 -0.40439287 -0.01125311 -0.42210618  0.67033625\n",
      " -0.04532274 -1.7624149  -0.24541803  0.14191574]\n"
     ]
    }
   ],
   "source": [
    "pred = predictor.Predictor(model, 'dump/')"
   ]
  },
  {
   "cell_type": "code",
   "execution_count": 30,
   "metadata": {
    "ExecuteTime": {
     "end_time": "2019-04-18T11:45:44.870300Z",
     "start_time": "2019-04-18T11:45:44.865312Z"
    }
   },
   "outputs": [],
   "source": [
    "que_dict = {\n",
    "    'questions_id': ['332a511f1569444485cf7a7a556a5e54'],\n",
    "    'questions_author_id': ['8f6f374ffd834d258ab69d376dd998f5'],\n",
    "    'questions_date_added': ['2016-04-26 11:14:26'],\n",
    "    'questions_title': ['Teacher   career   question'],\n",
    "    'questions_body': ['What  is  a  maths  teacher?   what  is  a  maths  teacher  useful? #college #professor #lecture'],\n",
    "    'questions_tags': ['college professor lecture']\n",
    "}"
   ]
  },
  {
   "cell_type": "code",
   "execution_count": 31,
   "metadata": {
    "ExecuteTime": {
     "end_time": "2019-04-18T11:45:44.968768Z",
     "start_time": "2019-04-18T11:45:44.955802Z"
    }
   },
   "outputs": [],
   "source": [
    "que_df, que_tags = pred.convert_que_dict(que_dict)"
   ]
  },
  {
   "cell_type": "markdown",
   "metadata": {},
   "source": [
    "### Recommend the question to professionals"
   ]
  },
  {
   "cell_type": "code",
   "execution_count": 32,
   "metadata": {
    "ExecuteTime": {
     "end_time": "2019-04-18T11:45:45.090443Z",
     "start_time": "2019-04-18T11:45:45.044566Z"
    },
    "scrolled": true
   },
   "outputs": [
    {
     "data": {
      "text/html": [
       "<div>\n",
       "<style scoped>\n",
       "    .dataframe tbody tr th:only-of-type {\n",
       "        vertical-align: middle;\n",
       "    }\n",
       "\n",
       "    .dataframe tbody tr th {\n",
       "        vertical-align: top;\n",
       "    }\n",
       "\n",
       "    .dataframe thead th {\n",
       "        text-align: right;\n",
       "    }\n",
       "</style>\n",
       "<table border=\"1\" class=\"dataframe\">\n",
       "  <thead>\n",
       "    <tr style=\"text-align: right;\">\n",
       "      <th></th>\n",
       "      <th>id</th>\n",
       "      <th>match_id</th>\n",
       "      <th>match_score</th>\n",
       "    </tr>\n",
       "  </thead>\n",
       "  <tbody>\n",
       "    <tr>\n",
       "      <th>0</th>\n",
       "      <td>332a511f1569444485cf7a7a556a5e54</td>\n",
       "      <td>[f64df9b489864952917cb631be1ddac7]</td>\n",
       "      <td>0.878095</td>\n",
       "    </tr>\n",
       "    <tr>\n",
       "      <th>1</th>\n",
       "      <td>332a511f1569444485cf7a7a556a5e54</td>\n",
       "      <td>[eae832d70c5246f7b8e4064a271b9631]</td>\n",
       "      <td>0.872991</td>\n",
       "    </tr>\n",
       "    <tr>\n",
       "      <th>2</th>\n",
       "      <td>332a511f1569444485cf7a7a556a5e54</td>\n",
       "      <td>[fb2d8790e1b548ae87767251006bf0a4]</td>\n",
       "      <td>0.848396</td>\n",
       "    </tr>\n",
       "    <tr>\n",
       "      <th>3</th>\n",
       "      <td>332a511f1569444485cf7a7a556a5e54</td>\n",
       "      <td>[408c588903de4afd9f2a3120b713d732]</td>\n",
       "      <td>0.842452</td>\n",
       "    </tr>\n",
       "    <tr>\n",
       "      <th>4</th>\n",
       "      <td>332a511f1569444485cf7a7a556a5e54</td>\n",
       "      <td>[3a03b74d6d0b40219d842e95622a91be]</td>\n",
       "      <td>0.839536</td>\n",
       "    </tr>\n",
       "    <tr>\n",
       "      <th>5</th>\n",
       "      <td>332a511f1569444485cf7a7a556a5e54</td>\n",
       "      <td>[4dc7d9040592416f98c0bef1ad2c31f5]</td>\n",
       "      <td>0.834179</td>\n",
       "    </tr>\n",
       "    <tr>\n",
       "      <th>6</th>\n",
       "      <td>332a511f1569444485cf7a7a556a5e54</td>\n",
       "      <td>[16ff670578744fee9c135dd03f7eaff5]</td>\n",
       "      <td>0.830868</td>\n",
       "    </tr>\n",
       "    <tr>\n",
       "      <th>7</th>\n",
       "      <td>332a511f1569444485cf7a7a556a5e54</td>\n",
       "      <td>[0bb33e7087204d11a571c0c9190e1c6b]</td>\n",
       "      <td>0.830506</td>\n",
       "    </tr>\n",
       "    <tr>\n",
       "      <th>8</th>\n",
       "      <td>332a511f1569444485cf7a7a556a5e54</td>\n",
       "      <td>[df0326aca38f4fdfb7613251af52587b]</td>\n",
       "      <td>0.830316</td>\n",
       "    </tr>\n",
       "    <tr>\n",
       "      <th>9</th>\n",
       "      <td>332a511f1569444485cf7a7a556a5e54</td>\n",
       "      <td>[afee49299b50481e9902289beca5b685]</td>\n",
       "      <td>0.829512</td>\n",
       "    </tr>\n",
       "  </tbody>\n",
       "</table>\n",
       "</div>"
      ],
      "text/plain": [
       "                                 id                            match_id  \\\n",
       "0  332a511f1569444485cf7a7a556a5e54  [f64df9b489864952917cb631be1ddac7]   \n",
       "1  332a511f1569444485cf7a7a556a5e54  [eae832d70c5246f7b8e4064a271b9631]   \n",
       "2  332a511f1569444485cf7a7a556a5e54  [fb2d8790e1b548ae87767251006bf0a4]   \n",
       "3  332a511f1569444485cf7a7a556a5e54  [408c588903de4afd9f2a3120b713d732]   \n",
       "4  332a511f1569444485cf7a7a556a5e54  [3a03b74d6d0b40219d842e95622a91be]   \n",
       "5  332a511f1569444485cf7a7a556a5e54  [4dc7d9040592416f98c0bef1ad2c31f5]   \n",
       "6  332a511f1569444485cf7a7a556a5e54  [16ff670578744fee9c135dd03f7eaff5]   \n",
       "7  332a511f1569444485cf7a7a556a5e54  [0bb33e7087204d11a571c0c9190e1c6b]   \n",
       "8  332a511f1569444485cf7a7a556a5e54  [df0326aca38f4fdfb7613251af52587b]   \n",
       "9  332a511f1569444485cf7a7a556a5e54  [afee49299b50481e9902289beca5b685]   \n",
       "\n",
       "   match_score  \n",
       "0     0.878095  \n",
       "1     0.872991  \n",
       "2     0.848396  \n",
       "3     0.842452  \n",
       "4     0.839536  \n",
       "5     0.834179  \n",
       "6     0.830868  \n",
       "7     0.830506  \n",
       "8     0.830316  \n",
       "9     0.829512  "
      ]
     },
     "execution_count": 32,
     "metadata": {},
     "output_type": "execute_result"
    }
   ],
   "source": [
    "pred.find_pros_by_que(que_df, que_tags)"
   ]
  },
  {
   "cell_type": "markdown",
   "metadata": {},
   "source": [
    "### Find similar questions"
   ]
  },
  {
   "cell_type": "code",
   "execution_count": 33,
   "metadata": {
    "ExecuteTime": {
     "end_time": "2019-04-18T11:45:51.209026Z",
     "start_time": "2019-04-18T11:45:51.159178Z"
    },
    "scrolled": false
   },
   "outputs": [
    {
     "data": {
      "text/html": [
       "<div>\n",
       "<style scoped>\n",
       "    .dataframe tbody tr th:only-of-type {\n",
       "        vertical-align: middle;\n",
       "    }\n",
       "\n",
       "    .dataframe tbody tr th {\n",
       "        vertical-align: top;\n",
       "    }\n",
       "\n",
       "    .dataframe thead th {\n",
       "        text-align: right;\n",
       "    }\n",
       "</style>\n",
       "<table border=\"1\" class=\"dataframe\">\n",
       "  <thead>\n",
       "    <tr style=\"text-align: right;\">\n",
       "      <th></th>\n",
       "      <th>id</th>\n",
       "      <th>match_id</th>\n",
       "      <th>match_score</th>\n",
       "    </tr>\n",
       "  </thead>\n",
       "  <tbody>\n",
       "    <tr>\n",
       "      <th>0</th>\n",
       "      <td>332a511f1569444485cf7a7a556a5e54</td>\n",
       "      <td>[332a511f1569444485cf7a7a556a5e54]</td>\n",
       "      <td>0.991790</td>\n",
       "    </tr>\n",
       "    <tr>\n",
       "      <th>1</th>\n",
       "      <td>332a511f1569444485cf7a7a556a5e54</td>\n",
       "      <td>[cb77402ea78f43239add0eacc2806ddf]</td>\n",
       "      <td>0.938819</td>\n",
       "    </tr>\n",
       "    <tr>\n",
       "      <th>2</th>\n",
       "      <td>332a511f1569444485cf7a7a556a5e54</td>\n",
       "      <td>[85ff7763be774769a95f2b61264d0290]</td>\n",
       "      <td>0.937305</td>\n",
       "    </tr>\n",
       "    <tr>\n",
       "      <th>3</th>\n",
       "      <td>332a511f1569444485cf7a7a556a5e54</td>\n",
       "      <td>[cf0fa55997da4bd4a8fc59da8a30c65c]</td>\n",
       "      <td>0.930767</td>\n",
       "    </tr>\n",
       "    <tr>\n",
       "      <th>4</th>\n",
       "      <td>332a511f1569444485cf7a7a556a5e54</td>\n",
       "      <td>[e7d2060951e5479bbbe667e725b65d13]</td>\n",
       "      <td>0.924923</td>\n",
       "    </tr>\n",
       "    <tr>\n",
       "      <th>5</th>\n",
       "      <td>332a511f1569444485cf7a7a556a5e54</td>\n",
       "      <td>[776900824fde4202b0388c0b793444eb]</td>\n",
       "      <td>0.918333</td>\n",
       "    </tr>\n",
       "    <tr>\n",
       "      <th>6</th>\n",
       "      <td>332a511f1569444485cf7a7a556a5e54</td>\n",
       "      <td>[86588f216d754aa78c27016504cee074]</td>\n",
       "      <td>0.913436</td>\n",
       "    </tr>\n",
       "    <tr>\n",
       "      <th>7</th>\n",
       "      <td>332a511f1569444485cf7a7a556a5e54</td>\n",
       "      <td>[ef8f38111292438e8baf3760f89206ed]</td>\n",
       "      <td>0.912007</td>\n",
       "    </tr>\n",
       "    <tr>\n",
       "      <th>8</th>\n",
       "      <td>332a511f1569444485cf7a7a556a5e54</td>\n",
       "      <td>[23e0f09073e94e248059ef8419dbf2c7]</td>\n",
       "      <td>0.911176</td>\n",
       "    </tr>\n",
       "    <tr>\n",
       "      <th>9</th>\n",
       "      <td>332a511f1569444485cf7a7a556a5e54</td>\n",
       "      <td>[e97182f64db84841a7d7f9ce840b4de0]</td>\n",
       "      <td>0.909651</td>\n",
       "    </tr>\n",
       "  </tbody>\n",
       "</table>\n",
       "</div>"
      ],
      "text/plain": [
       "                                 id                            match_id  \\\n",
       "0  332a511f1569444485cf7a7a556a5e54  [332a511f1569444485cf7a7a556a5e54]   \n",
       "1  332a511f1569444485cf7a7a556a5e54  [cb77402ea78f43239add0eacc2806ddf]   \n",
       "2  332a511f1569444485cf7a7a556a5e54  [85ff7763be774769a95f2b61264d0290]   \n",
       "3  332a511f1569444485cf7a7a556a5e54  [cf0fa55997da4bd4a8fc59da8a30c65c]   \n",
       "4  332a511f1569444485cf7a7a556a5e54  [e7d2060951e5479bbbe667e725b65d13]   \n",
       "5  332a511f1569444485cf7a7a556a5e54  [776900824fde4202b0388c0b793444eb]   \n",
       "6  332a511f1569444485cf7a7a556a5e54  [86588f216d754aa78c27016504cee074]   \n",
       "7  332a511f1569444485cf7a7a556a5e54  [ef8f38111292438e8baf3760f89206ed]   \n",
       "8  332a511f1569444485cf7a7a556a5e54  [23e0f09073e94e248059ef8419dbf2c7]   \n",
       "9  332a511f1569444485cf7a7a556a5e54  [e97182f64db84841a7d7f9ce840b4de0]   \n",
       "\n",
       "   match_score  \n",
       "0     0.991790  \n",
       "1     0.938819  \n",
       "2     0.937305  \n",
       "3     0.930767  \n",
       "4     0.924923  \n",
       "5     0.918333  \n",
       "6     0.913436  \n",
       "7     0.912007  \n",
       "8     0.911176  \n",
       "9     0.909651  "
      ]
     },
     "execution_count": 33,
     "metadata": {},
     "output_type": "execute_result"
    }
   ],
   "source": [
    "pred.find_ques_by_que(que_df, que_tags)"
   ]
  },
  {
   "cell_type": "code",
   "execution_count": 11,
   "metadata": {
    "ExecuteTime": {
     "end_time": "2019-04-18T10:54:44.272553Z",
     "start_time": "2019-04-18T10:54:44.263567Z"
    }
   },
   "outputs": [
    {
     "data": {
      "text/plain": [
       "array([356])"
      ]
     },
     "execution_count": 11,
     "metadata": {},
     "output_type": "execute_result"
    }
   ],
   "source": [
    "np.arange(0, pred.que_ids.shape[0]).reshape(-1, 1)[pred.que_ids == '332a511f1569444485cf7a7a556a5e54']"
   ]
  },
  {
   "cell_type": "code",
   "execution_count": 14,
   "metadata": {
    "ExecuteTime": {
     "end_time": "2019-04-18T10:55:11.151372Z",
     "start_time": "2019-04-18T10:55:11.146388Z"
    }
   },
   "outputs": [
    {
     "data": {
      "text/plain": [
       "array([-0.16272298, -0.37503865,  0.155104  ,  0.1808311 ,  0.16123109,\n",
       "       -0.2178492 , -0.41472468,  0.14317678, -0.02055809, -0.18998995],\n",
       "      dtype=float32)"
      ]
     },
     "execution_count": 14,
     "metadata": {},
     "output_type": "execute_result"
    }
   ],
   "source": [
    "pred.que_lat_vecs[356, :]"
   ]
  },
  {
   "cell_type": "code",
   "execution_count": 15,
   "metadata": {
    "ExecuteTime": {
     "end_time": "2019-04-18T10:55:11.562049Z",
     "start_time": "2019-04-18T10:55:11.557041Z"
    }
   },
   "outputs": [
    {
     "data": {
      "text/plain": [
       "array([14, 10, -0.22259948167676602, -0.5578865162861019,\n",
       "       -0.4425965550060855, -0.06277095584967236, -0.6340867716159001,\n",
       "       -0.3775441067623759, -0.3598273694515228, -0.6401242613792419,\n",
       "       -0.1037975326180458, -0.7375578284263611, -0.7670846581459045,\n",
       "       -0.730384886264801, 0.3594370186328888, 0.5902867317199707,\n",
       "       0.20080788433551788, 0.8254199028015137, 0.652858316898346,\n",
       "       -0.5015465617179871, 0.021854806691408157, 0.40655016899108887,\n",
       "       -0.5136355757713318, -0.042927633970975876, -0.2778507471084595,\n",
       "       0.03534337133169174, 0.578580915927887, 0.3535146713256836],\n",
       "      dtype=object)"
      ]
     },
     "execution_count": 15,
     "metadata": {},
     "output_type": "execute_result"
    }
   ],
   "source": [
    "pred.que_feat[356, :]"
   ]
  },
  {
   "cell_type": "code",
   "execution_count": null,
   "metadata": {},
   "outputs": [],
   "source": []
  },
  {
   "cell_type": "markdown",
   "metadata": {},
   "source": [
    "---"
   ]
  },
  {
   "cell_type": "code",
   "execution_count": 46,
   "metadata": {
    "ExecuteTime": {
     "end_time": "2019-04-18T11:50:44.170318Z",
     "start_time": "2019-04-18T11:50:44.166329Z"
    }
   },
   "outputs": [],
   "source": [
    "pro_dict = {\n",
    "    'professionals_id': ['44b2484ecd3642c6a47514f3876cf14a'],\n",
    "    'professionals_location': ['Cambridge, Massachusetts'],\n",
    "    'professionals_industry': ['Healthcare, Pharmaceuticals, Life Science'],\n",
    "    'professionals_headline': ['Scientist and Healthcare Entrepreneur'],\n",
    "    'professionals_date_joined': ['2012-01-25 20:40:43'],\n",
    "    'professionals_subscribed_tags': ['pharmaceutical-industry medicine healthcare-it biology science healthcare research']\n",
    "}"
   ]
  },
  {
   "cell_type": "code",
   "execution_count": 47,
   "metadata": {
    "ExecuteTime": {
     "end_time": "2019-04-18T11:50:44.344147Z",
     "start_time": "2019-04-18T11:50:44.337163Z"
    }
   },
   "outputs": [],
   "source": [
    "pro_df, pro_tags = predictor.Predictor.convert_pro_dict(pro_dict)"
   ]
  },
  {
   "cell_type": "markdown",
   "metadata": {},
   "source": [
    "### Recommend questions to the professional"
   ]
  },
  {
   "cell_type": "code",
   "execution_count": 37,
   "metadata": {
    "ExecuteTime": {
     "end_time": "2019-04-18T11:46:10.278342Z",
     "start_time": "2019-04-18T11:46:10.274352Z"
    }
   },
   "outputs": [],
   "source": [
    "import pandas as pd"
   ]
  },
  {
   "cell_type": "code",
   "execution_count": 48,
   "metadata": {
    "ExecuteTime": {
     "end_time": "2019-04-18T11:50:46.121727Z",
     "start_time": "2019-04-18T11:50:45.370698Z"
    }
   },
   "outputs": [],
   "source": [
    "ans_df = pd.read_csv('../../data/answers.csv')\n",
    "que_df = pd.read_csv('../../data/questions.csv')"
   ]
  },
  {
   "cell_type": "code",
   "execution_count": 84,
   "metadata": {
    "ExecuteTime": {
     "end_time": "2019-04-18T12:31:08.829473Z",
     "start_time": "2019-04-18T12:31:08.695399Z"
    },
    "scrolled": true
   },
   "outputs": [
    {
     "name": "stdout",
     "output_type": "stream",
     "text": [
      "[[100 10 23 -0.5560829897714368 0.4140303428843267 -3.3346738412898826\n",
      "  0.43776379623592826 1.308695572124488 -0.6637406984602068\n",
      "  0.3097139032095262 0.9863223311285867 -0.11725153028964996\n",
      "  -0.9851716160774231 0.2522932291030884 -1.070906400680542\n",
      "  -0.31238463521003723 -0.8020545244216919 0.11489026993513107\n",
      "  0.018848776817321777 0.4159659445285797 0.8283408880233765\n",
      "  1.0396236181259155 -0.4579142928123474 -0.7106772661209106\n",
      "  -1.1589419841766357 -1.1437820196151733 -0.8788050413131714\n",
      "  -1.1638669967651367 0.11068644374608994 -0.11706457287073135\n",
      "  0.8814422488212585]]\n"
     ]
    },
    {
     "data": {
      "text/html": [
       "<div>\n",
       "<style scoped>\n",
       "    .dataframe tbody tr th:only-of-type {\n",
       "        vertical-align: middle;\n",
       "    }\n",
       "\n",
       "    .dataframe tbody tr th {\n",
       "        vertical-align: top;\n",
       "    }\n",
       "\n",
       "    .dataframe thead th {\n",
       "        text-align: right;\n",
       "    }\n",
       "</style>\n",
       "<table border=\"1\" class=\"dataframe\">\n",
       "  <thead>\n",
       "    <tr style=\"text-align: right;\">\n",
       "      <th></th>\n",
       "      <th>id</th>\n",
       "      <th>match_id</th>\n",
       "      <th>match_score</th>\n",
       "    </tr>\n",
       "  </thead>\n",
       "  <tbody>\n",
       "    <tr>\n",
       "      <th>0</th>\n",
       "      <td>44b2484ecd3642c6a47514f3876cf14a</td>\n",
       "      <td>[d5822443bad84a7092e805fb1629f769]</td>\n",
       "      <td>0.798401</td>\n",
       "    </tr>\n",
       "    <tr>\n",
       "      <th>1</th>\n",
       "      <td>44b2484ecd3642c6a47514f3876cf14a</td>\n",
       "      <td>[f0f74e63b05a4ad7b8a92e6e108ae545]</td>\n",
       "      <td>0.763545</td>\n",
       "    </tr>\n",
       "    <tr>\n",
       "      <th>2</th>\n",
       "      <td>44b2484ecd3642c6a47514f3876cf14a</td>\n",
       "      <td>[319c16e889cf4198b508935b3294f2e9]</td>\n",
       "      <td>0.761038</td>\n",
       "    </tr>\n",
       "    <tr>\n",
       "      <th>3</th>\n",
       "      <td>44b2484ecd3642c6a47514f3876cf14a</td>\n",
       "      <td>[89f7581ca5fd4e7885184d1fa0f4e6dd]</td>\n",
       "      <td>0.760006</td>\n",
       "    </tr>\n",
       "    <tr>\n",
       "      <th>4</th>\n",
       "      <td>44b2484ecd3642c6a47514f3876cf14a</td>\n",
       "      <td>[bfab77ba3de24e5784fe764558b6ea7b]</td>\n",
       "      <td>0.750374</td>\n",
       "    </tr>\n",
       "    <tr>\n",
       "      <th>5</th>\n",
       "      <td>44b2484ecd3642c6a47514f3876cf14a</td>\n",
       "      <td>[4c66ee5a680e45bf9c7ce8b30fdbb6da]</td>\n",
       "      <td>0.747826</td>\n",
       "    </tr>\n",
       "    <tr>\n",
       "      <th>6</th>\n",
       "      <td>44b2484ecd3642c6a47514f3876cf14a</td>\n",
       "      <td>[f922046b741344c095534c01602c0aea]</td>\n",
       "      <td>0.745425</td>\n",
       "    </tr>\n",
       "    <tr>\n",
       "      <th>7</th>\n",
       "      <td>44b2484ecd3642c6a47514f3876cf14a</td>\n",
       "      <td>[040f9c98fa5a49c98f54a91bc082b65d]</td>\n",
       "      <td>0.740921</td>\n",
       "    </tr>\n",
       "    <tr>\n",
       "      <th>8</th>\n",
       "      <td>44b2484ecd3642c6a47514f3876cf14a</td>\n",
       "      <td>[e46d0678611c48a18774eddd75cea3b6]</td>\n",
       "      <td>0.738813</td>\n",
       "    </tr>\n",
       "    <tr>\n",
       "      <th>9</th>\n",
       "      <td>44b2484ecd3642c6a47514f3876cf14a</td>\n",
       "      <td>[45ce5b52ceda4469b53277c02ba1497e]</td>\n",
       "      <td>0.733469</td>\n",
       "    </tr>\n",
       "  </tbody>\n",
       "</table>\n",
       "</div>"
      ],
      "text/plain": [
       "                                 id                            match_id  \\\n",
       "0  44b2484ecd3642c6a47514f3876cf14a  [d5822443bad84a7092e805fb1629f769]   \n",
       "1  44b2484ecd3642c6a47514f3876cf14a  [f0f74e63b05a4ad7b8a92e6e108ae545]   \n",
       "2  44b2484ecd3642c6a47514f3876cf14a  [319c16e889cf4198b508935b3294f2e9]   \n",
       "3  44b2484ecd3642c6a47514f3876cf14a  [89f7581ca5fd4e7885184d1fa0f4e6dd]   \n",
       "4  44b2484ecd3642c6a47514f3876cf14a  [bfab77ba3de24e5784fe764558b6ea7b]   \n",
       "5  44b2484ecd3642c6a47514f3876cf14a  [4c66ee5a680e45bf9c7ce8b30fdbb6da]   \n",
       "6  44b2484ecd3642c6a47514f3876cf14a  [f922046b741344c095534c01602c0aea]   \n",
       "7  44b2484ecd3642c6a47514f3876cf14a  [040f9c98fa5a49c98f54a91bc082b65d]   \n",
       "8  44b2484ecd3642c6a47514f3876cf14a  [e46d0678611c48a18774eddd75cea3b6]   \n",
       "9  44b2484ecd3642c6a47514f3876cf14a  [45ce5b52ceda4469b53277c02ba1497e]   \n",
       "\n",
       "   match_score  \n",
       "0     0.798401  \n",
       "1     0.763545  \n",
       "2     0.761038  \n",
       "3     0.760006  \n",
       "4     0.750374  \n",
       "5     0.747826  \n",
       "6     0.745425  \n",
       "7     0.740921  \n",
       "8     0.738813  \n",
       "9     0.733469  "
      ]
     },
     "execution_count": 84,
     "metadata": {},
     "output_type": "execute_result"
    }
   ],
   "source": [
    "pred.find_ques_by_pro(pro_df, que_df, ans_df, pro_tags)"
   ]
  },
  {
   "cell_type": "code",
   "execution_count": 107,
   "metadata": {
    "ExecuteTime": {
     "end_time": "2019-04-18T12:37:35.920653Z",
     "start_time": "2019-04-18T12:37:35.186818Z"
    },
    "scrolled": true
   },
   "outputs": [
    {
     "name": "stdout",
     "output_type": "stream",
     "text": [
      "[[100 10 23 -0.5560829897714368 0.4140303428843267 -3.3346738412898826\n",
      "  0.43776379623592826 1.308695572124488 -0.6637406984602068\n",
      "  0.3097139032095262 0.9863223311285867 -0.11725153028964996\n",
      "  -0.9851716160774231 0.2522932291030884 -1.070906400680542\n",
      "  -0.31238463521003723 -0.8020545244216919 0.11489026993513107\n",
      "  0.018848776817321777 0.4159659445285797 0.8283408880233765\n",
      "  1.0396236181259155 -0.4579142928123474 -0.7106772661209106\n",
      "  -1.1589419841766357 -1.1437820196151733 -0.8788050413131714\n",
      "  -1.1638669967651367 0.11068644374608994 -0.11706457287073135\n",
      "  0.8814422488212585]]\n",
      "[[ 0.09889327  0.02275338  0.04679578  0.02456458 -0.3907954   0.20065689\n",
      "   0.4277932  -0.65781915  0.11931917  0.01335122]]\n"
     ]
    }
   ],
   "source": [
    "s = pred.find_pros_by_pro(pro_df, que_df, ans_df, pro_tags, 10000)"
   ]
  },
  {
   "cell_type": "code",
   "execution_count": 98,
   "metadata": {
    "ExecuteTime": {
     "end_time": "2019-04-18T12:33:54.400435Z",
     "start_time": "2019-04-18T12:33:54.370516Z"
    },
    "scrolled": true
   },
   "outputs": [
    {
     "data": {
      "text/html": [
       "<div>\n",
       "<style scoped>\n",
       "    .dataframe tbody tr th:only-of-type {\n",
       "        vertical-align: middle;\n",
       "    }\n",
       "\n",
       "    .dataframe tbody tr th {\n",
       "        vertical-align: top;\n",
       "    }\n",
       "\n",
       "    .dataframe thead th {\n",
       "        text-align: right;\n",
       "    }\n",
       "</style>\n",
       "<table border=\"1\" class=\"dataframe\">\n",
       "  <thead>\n",
       "    <tr style=\"text-align: right;\">\n",
       "      <th></th>\n",
       "      <th>id</th>\n",
       "      <th>match_id</th>\n",
       "      <th>match_score</th>\n",
       "    </tr>\n",
       "  </thead>\n",
       "  <tbody>\n",
       "    <tr>\n",
       "      <th>0</th>\n",
       "      <td>44b2484ecd3642c6a47514f3876cf14a</td>\n",
       "      <td>[e3a8860444b04d3485d678388ba675be]</td>\n",
       "      <td>0.761654</td>\n",
       "    </tr>\n",
       "    <tr>\n",
       "      <th>1</th>\n",
       "      <td>44b2484ecd3642c6a47514f3876cf14a</td>\n",
       "      <td>[0166e174028843dca3a392053f9732c8]</td>\n",
       "      <td>0.707236</td>\n",
       "    </tr>\n",
       "    <tr>\n",
       "      <th>2</th>\n",
       "      <td>44b2484ecd3642c6a47514f3876cf14a</td>\n",
       "      <td>[77a65aed859f4b11983cd07399f1e3b1]</td>\n",
       "      <td>0.702257</td>\n",
       "    </tr>\n",
       "    <tr>\n",
       "      <th>3</th>\n",
       "      <td>44b2484ecd3642c6a47514f3876cf14a</td>\n",
       "      <td>[d42114db82844f2b8f2c79664b770c10]</td>\n",
       "      <td>0.699048</td>\n",
       "    </tr>\n",
       "    <tr>\n",
       "      <th>4</th>\n",
       "      <td>44b2484ecd3642c6a47514f3876cf14a</td>\n",
       "      <td>[17931d09114940d4a23d7f88af20dd59]</td>\n",
       "      <td>0.695093</td>\n",
       "    </tr>\n",
       "    <tr>\n",
       "      <th>5</th>\n",
       "      <td>44b2484ecd3642c6a47514f3876cf14a</td>\n",
       "      <td>[96a3880b926d49fab0a4bc17994580a2]</td>\n",
       "      <td>0.695076</td>\n",
       "    </tr>\n",
       "    <tr>\n",
       "      <th>6</th>\n",
       "      <td>44b2484ecd3642c6a47514f3876cf14a</td>\n",
       "      <td>[5c6bc970b7ef482da7efa9a33907a234]</td>\n",
       "      <td>0.694400</td>\n",
       "    </tr>\n",
       "    <tr>\n",
       "      <th>7</th>\n",
       "      <td>44b2484ecd3642c6a47514f3876cf14a</td>\n",
       "      <td>[40d2a3407dab4c819afa0c51fbf284ac]</td>\n",
       "      <td>0.687783</td>\n",
       "    </tr>\n",
       "    <tr>\n",
       "      <th>8</th>\n",
       "      <td>44b2484ecd3642c6a47514f3876cf14a</td>\n",
       "      <td>[1a49821dcc314d9f93f3e6711f7a3cd7]</td>\n",
       "      <td>0.681966</td>\n",
       "    </tr>\n",
       "    <tr>\n",
       "      <th>9</th>\n",
       "      <td>44b2484ecd3642c6a47514f3876cf14a</td>\n",
       "      <td>[62fe681dfa8844ae94a6bdb10aef27cc]</td>\n",
       "      <td>0.680656</td>\n",
       "    </tr>\n",
       "    <tr>\n",
       "      <th>10</th>\n",
       "      <td>44b2484ecd3642c6a47514f3876cf14a</td>\n",
       "      <td>[c39329e6c790449f812590c3b897aca8]</td>\n",
       "      <td>0.674632</td>\n",
       "    </tr>\n",
       "    <tr>\n",
       "      <th>11</th>\n",
       "      <td>44b2484ecd3642c6a47514f3876cf14a</td>\n",
       "      <td>[47359d7eb98441498631287976e94086]</td>\n",
       "      <td>0.674192</td>\n",
       "    </tr>\n",
       "    <tr>\n",
       "      <th>12</th>\n",
       "      <td>44b2484ecd3642c6a47514f3876cf14a</td>\n",
       "      <td>[8f48370932c443e19600787107bc6edc]</td>\n",
       "      <td>0.670859</td>\n",
       "    </tr>\n",
       "    <tr>\n",
       "      <th>13</th>\n",
       "      <td>44b2484ecd3642c6a47514f3876cf14a</td>\n",
       "      <td>[6f03318a272f460d8df27914cd6de1f1]</td>\n",
       "      <td>0.670569</td>\n",
       "    </tr>\n",
       "    <tr>\n",
       "      <th>14</th>\n",
       "      <td>44b2484ecd3642c6a47514f3876cf14a</td>\n",
       "      <td>[64fdb079c8bb499896c91874764b6910]</td>\n",
       "      <td>0.647743</td>\n",
       "    </tr>\n",
       "    <tr>\n",
       "      <th>15</th>\n",
       "      <td>44b2484ecd3642c6a47514f3876cf14a</td>\n",
       "      <td>[80b146f8b74847d58a34989970536511]</td>\n",
       "      <td>0.645000</td>\n",
       "    </tr>\n",
       "    <tr>\n",
       "      <th>16</th>\n",
       "      <td>44b2484ecd3642c6a47514f3876cf14a</td>\n",
       "      <td>[8725054cf9af45d280327217e851ab41]</td>\n",
       "      <td>0.639234</td>\n",
       "    </tr>\n",
       "    <tr>\n",
       "      <th>17</th>\n",
       "      <td>44b2484ecd3642c6a47514f3876cf14a</td>\n",
       "      <td>[8cb68357763f4e90a7537bffc9ac11ea]</td>\n",
       "      <td>0.636517</td>\n",
       "    </tr>\n",
       "    <tr>\n",
       "      <th>18</th>\n",
       "      <td>44b2484ecd3642c6a47514f3876cf14a</td>\n",
       "      <td>[a3ba3216d0c147a0a88c56bb34dff033]</td>\n",
       "      <td>0.636286</td>\n",
       "    </tr>\n",
       "    <tr>\n",
       "      <th>19</th>\n",
       "      <td>44b2484ecd3642c6a47514f3876cf14a</td>\n",
       "      <td>[b987ec3d01784103b6c32a7e8eb439f6]</td>\n",
       "      <td>0.635845</td>\n",
       "    </tr>\n",
       "    <tr>\n",
       "      <th>20</th>\n",
       "      <td>44b2484ecd3642c6a47514f3876cf14a</td>\n",
       "      <td>[11c049d0272d4fa28738ad33eb450f12]</td>\n",
       "      <td>0.632351</td>\n",
       "    </tr>\n",
       "    <tr>\n",
       "      <th>21</th>\n",
       "      <td>44b2484ecd3642c6a47514f3876cf14a</td>\n",
       "      <td>[428b3e58119c4f86b2cd628ceee8fbeb]</td>\n",
       "      <td>0.632162</td>\n",
       "    </tr>\n",
       "    <tr>\n",
       "      <th>22</th>\n",
       "      <td>44b2484ecd3642c6a47514f3876cf14a</td>\n",
       "      <td>[35342f32efeb432ba9f6d40512682bcd]</td>\n",
       "      <td>0.631702</td>\n",
       "    </tr>\n",
       "    <tr>\n",
       "      <th>23</th>\n",
       "      <td>44b2484ecd3642c6a47514f3876cf14a</td>\n",
       "      <td>[db79aeafba18418ca36b8695a6c4b34f]</td>\n",
       "      <td>0.631316</td>\n",
       "    </tr>\n",
       "    <tr>\n",
       "      <th>24</th>\n",
       "      <td>44b2484ecd3642c6a47514f3876cf14a</td>\n",
       "      <td>[cf9f6541d60b4f4798af43a429894e59]</td>\n",
       "      <td>0.630626</td>\n",
       "    </tr>\n",
       "    <tr>\n",
       "      <th>25</th>\n",
       "      <td>44b2484ecd3642c6a47514f3876cf14a</td>\n",
       "      <td>[16c13f8926a341b7ba5291b43b45b0eb]</td>\n",
       "      <td>0.630469</td>\n",
       "    </tr>\n",
       "    <tr>\n",
       "      <th>26</th>\n",
       "      <td>44b2484ecd3642c6a47514f3876cf14a</td>\n",
       "      <td>[2b37ae0a2587481482f0be9d7b8a9f26]</td>\n",
       "      <td>0.630325</td>\n",
       "    </tr>\n",
       "    <tr>\n",
       "      <th>27</th>\n",
       "      <td>44b2484ecd3642c6a47514f3876cf14a</td>\n",
       "      <td>[fc62f2d027214725ba683d62c242bc2b]</td>\n",
       "      <td>0.623707</td>\n",
       "    </tr>\n",
       "    <tr>\n",
       "      <th>28</th>\n",
       "      <td>44b2484ecd3642c6a47514f3876cf14a</td>\n",
       "      <td>[4e9b35234bdb4b02930ce248e29be3cd]</td>\n",
       "      <td>0.620558</td>\n",
       "    </tr>\n",
       "    <tr>\n",
       "      <th>29</th>\n",
       "      <td>44b2484ecd3642c6a47514f3876cf14a</td>\n",
       "      <td>[55f1595cc0a340d6abb4b73eed67f644]</td>\n",
       "      <td>0.613985</td>\n",
       "    </tr>\n",
       "    <tr>\n",
       "      <th>...</th>\n",
       "      <td>...</td>\n",
       "      <td>...</td>\n",
       "      <td>...</td>\n",
       "    </tr>\n",
       "    <tr>\n",
       "      <th>9970</th>\n",
       "      <td>44b2484ecd3642c6a47514f3876cf14a</td>\n",
       "      <td>[e773d6ccade64f38b1b960c6b64f0a2a]</td>\n",
       "      <td>0.158626</td>\n",
       "    </tr>\n",
       "    <tr>\n",
       "      <th>9971</th>\n",
       "      <td>44b2484ecd3642c6a47514f3876cf14a</td>\n",
       "      <td>[258cade180394e3c80559a75f5bd874b]</td>\n",
       "      <td>0.158529</td>\n",
       "    </tr>\n",
       "    <tr>\n",
       "      <th>9972</th>\n",
       "      <td>44b2484ecd3642c6a47514f3876cf14a</td>\n",
       "      <td>[209fcd55fefa4fe29ccedcdc26bd5d89]</td>\n",
       "      <td>0.158206</td>\n",
       "    </tr>\n",
       "    <tr>\n",
       "      <th>9973</th>\n",
       "      <td>44b2484ecd3642c6a47514f3876cf14a</td>\n",
       "      <td>[4ee8012894c944eb891b8887df51b3ec]</td>\n",
       "      <td>0.158193</td>\n",
       "    </tr>\n",
       "    <tr>\n",
       "      <th>9974</th>\n",
       "      <td>44b2484ecd3642c6a47514f3876cf14a</td>\n",
       "      <td>[e1321bada5224826a91d8cb7994888d0]</td>\n",
       "      <td>0.158104</td>\n",
       "    </tr>\n",
       "    <tr>\n",
       "      <th>9975</th>\n",
       "      <td>44b2484ecd3642c6a47514f3876cf14a</td>\n",
       "      <td>[cc0ef2b535894a77a92cc740be6c2513]</td>\n",
       "      <td>0.157884</td>\n",
       "    </tr>\n",
       "    <tr>\n",
       "      <th>9976</th>\n",
       "      <td>44b2484ecd3642c6a47514f3876cf14a</td>\n",
       "      <td>[603f8306af1a4707b35422e2fbb376d6]</td>\n",
       "      <td>0.157772</td>\n",
       "    </tr>\n",
       "    <tr>\n",
       "      <th>9977</th>\n",
       "      <td>44b2484ecd3642c6a47514f3876cf14a</td>\n",
       "      <td>[9800ccb6076042c3aa5d3b789e886c6c]</td>\n",
       "      <td>0.157159</td>\n",
       "    </tr>\n",
       "    <tr>\n",
       "      <th>9978</th>\n",
       "      <td>44b2484ecd3642c6a47514f3876cf14a</td>\n",
       "      <td>[13cbbcd3bb624a90803392348666913d]</td>\n",
       "      <td>0.157060</td>\n",
       "    </tr>\n",
       "    <tr>\n",
       "      <th>9979</th>\n",
       "      <td>44b2484ecd3642c6a47514f3876cf14a</td>\n",
       "      <td>[5cbd4a64a328414781df8b75e47ffad3]</td>\n",
       "      <td>0.156872</td>\n",
       "    </tr>\n",
       "    <tr>\n",
       "      <th>9980</th>\n",
       "      <td>44b2484ecd3642c6a47514f3876cf14a</td>\n",
       "      <td>[df478629d3604135b5f9b3af12c2bdc5]</td>\n",
       "      <td>0.156834</td>\n",
       "    </tr>\n",
       "    <tr>\n",
       "      <th>9981</th>\n",
       "      <td>44b2484ecd3642c6a47514f3876cf14a</td>\n",
       "      <td>[4593370bcdef483e99b23659a84d06c0]</td>\n",
       "      <td>0.156695</td>\n",
       "    </tr>\n",
       "    <tr>\n",
       "      <th>9982</th>\n",
       "      <td>44b2484ecd3642c6a47514f3876cf14a</td>\n",
       "      <td>[cf4019892cf24e2c8b4536570b46b7d1]</td>\n",
       "      <td>0.156511</td>\n",
       "    </tr>\n",
       "    <tr>\n",
       "      <th>9983</th>\n",
       "      <td>44b2484ecd3642c6a47514f3876cf14a</td>\n",
       "      <td>[b0376031d64e412c8517ecd1f3832284]</td>\n",
       "      <td>0.156403</td>\n",
       "    </tr>\n",
       "    <tr>\n",
       "      <th>9984</th>\n",
       "      <td>44b2484ecd3642c6a47514f3876cf14a</td>\n",
       "      <td>[eff34da33a0a4d6e8edb95430ac4ff0e]</td>\n",
       "      <td>0.155987</td>\n",
       "    </tr>\n",
       "    <tr>\n",
       "      <th>9985</th>\n",
       "      <td>44b2484ecd3642c6a47514f3876cf14a</td>\n",
       "      <td>[c021b1cc3a0c45b79a72fb04e2651d35]</td>\n",
       "      <td>0.155434</td>\n",
       "    </tr>\n",
       "    <tr>\n",
       "      <th>9986</th>\n",
       "      <td>44b2484ecd3642c6a47514f3876cf14a</td>\n",
       "      <td>[fd232e144cfd44eab38ee0017d2caafa]</td>\n",
       "      <td>0.155174</td>\n",
       "    </tr>\n",
       "    <tr>\n",
       "      <th>9987</th>\n",
       "      <td>44b2484ecd3642c6a47514f3876cf14a</td>\n",
       "      <td>[ba589b5df524433a93db2791eac3f991]</td>\n",
       "      <td>0.154564</td>\n",
       "    </tr>\n",
       "    <tr>\n",
       "      <th>9988</th>\n",
       "      <td>44b2484ecd3642c6a47514f3876cf14a</td>\n",
       "      <td>[59dbd43c917749c9ab96050639a0ea9a]</td>\n",
       "      <td>0.154263</td>\n",
       "    </tr>\n",
       "    <tr>\n",
       "      <th>9989</th>\n",
       "      <td>44b2484ecd3642c6a47514f3876cf14a</td>\n",
       "      <td>[62e29f2b1a9349159cc2a21ff06c8c11]</td>\n",
       "      <td>0.154220</td>\n",
       "    </tr>\n",
       "    <tr>\n",
       "      <th>9990</th>\n",
       "      <td>44b2484ecd3642c6a47514f3876cf14a</td>\n",
       "      <td>[70855821c28f4b4c8fb5e627e081bb56]</td>\n",
       "      <td>0.154187</td>\n",
       "    </tr>\n",
       "    <tr>\n",
       "      <th>9991</th>\n",
       "      <td>44b2484ecd3642c6a47514f3876cf14a</td>\n",
       "      <td>[895b1656666d41768548609bc7ee4e3f]</td>\n",
       "      <td>0.154170</td>\n",
       "    </tr>\n",
       "    <tr>\n",
       "      <th>9992</th>\n",
       "      <td>44b2484ecd3642c6a47514f3876cf14a</td>\n",
       "      <td>[ceb4c77d26c24b47bf532778d1a3f2c2]</td>\n",
       "      <td>0.154155</td>\n",
       "    </tr>\n",
       "    <tr>\n",
       "      <th>9993</th>\n",
       "      <td>44b2484ecd3642c6a47514f3876cf14a</td>\n",
       "      <td>[1d532ea1c59c4e168ee12036b210fe3b]</td>\n",
       "      <td>0.153889</td>\n",
       "    </tr>\n",
       "    <tr>\n",
       "      <th>9994</th>\n",
       "      <td>44b2484ecd3642c6a47514f3876cf14a</td>\n",
       "      <td>[cb7141606c7b4a00ab42547b55091978]</td>\n",
       "      <td>0.153724</td>\n",
       "    </tr>\n",
       "    <tr>\n",
       "      <th>9995</th>\n",
       "      <td>44b2484ecd3642c6a47514f3876cf14a</td>\n",
       "      <td>[80f1e6a9b2324293b3576232f7aa028c]</td>\n",
       "      <td>0.153457</td>\n",
       "    </tr>\n",
       "    <tr>\n",
       "      <th>9996</th>\n",
       "      <td>44b2484ecd3642c6a47514f3876cf14a</td>\n",
       "      <td>[a3f6a49eac98480eb48ce267d901c35e]</td>\n",
       "      <td>0.153233</td>\n",
       "    </tr>\n",
       "    <tr>\n",
       "      <th>9997</th>\n",
       "      <td>44b2484ecd3642c6a47514f3876cf14a</td>\n",
       "      <td>[9a08785395d445ffb856522caec3fc8a]</td>\n",
       "      <td>0.152828</td>\n",
       "    </tr>\n",
       "    <tr>\n",
       "      <th>9998</th>\n",
       "      <td>44b2484ecd3642c6a47514f3876cf14a</td>\n",
       "      <td>[874bb5c4fd4b4e498660c1f2c0a4ab3e]</td>\n",
       "      <td>0.152807</td>\n",
       "    </tr>\n",
       "    <tr>\n",
       "      <th>9999</th>\n",
       "      <td>44b2484ecd3642c6a47514f3876cf14a</td>\n",
       "      <td>[1f705b9756404cb99a5d3416a8931a43]</td>\n",
       "      <td>0.152591</td>\n",
       "    </tr>\n",
       "  </tbody>\n",
       "</table>\n",
       "<p>10000 rows × 3 columns</p>\n",
       "</div>"
      ],
      "text/plain": [
       "                                    id                            match_id  \\\n",
       "0     44b2484ecd3642c6a47514f3876cf14a  [e3a8860444b04d3485d678388ba675be]   \n",
       "1     44b2484ecd3642c6a47514f3876cf14a  [0166e174028843dca3a392053f9732c8]   \n",
       "2     44b2484ecd3642c6a47514f3876cf14a  [77a65aed859f4b11983cd07399f1e3b1]   \n",
       "3     44b2484ecd3642c6a47514f3876cf14a  [d42114db82844f2b8f2c79664b770c10]   \n",
       "4     44b2484ecd3642c6a47514f3876cf14a  [17931d09114940d4a23d7f88af20dd59]   \n",
       "5     44b2484ecd3642c6a47514f3876cf14a  [96a3880b926d49fab0a4bc17994580a2]   \n",
       "6     44b2484ecd3642c6a47514f3876cf14a  [5c6bc970b7ef482da7efa9a33907a234]   \n",
       "7     44b2484ecd3642c6a47514f3876cf14a  [40d2a3407dab4c819afa0c51fbf284ac]   \n",
       "8     44b2484ecd3642c6a47514f3876cf14a  [1a49821dcc314d9f93f3e6711f7a3cd7]   \n",
       "9     44b2484ecd3642c6a47514f3876cf14a  [62fe681dfa8844ae94a6bdb10aef27cc]   \n",
       "10    44b2484ecd3642c6a47514f3876cf14a  [c39329e6c790449f812590c3b897aca8]   \n",
       "11    44b2484ecd3642c6a47514f3876cf14a  [47359d7eb98441498631287976e94086]   \n",
       "12    44b2484ecd3642c6a47514f3876cf14a  [8f48370932c443e19600787107bc6edc]   \n",
       "13    44b2484ecd3642c6a47514f3876cf14a  [6f03318a272f460d8df27914cd6de1f1]   \n",
       "14    44b2484ecd3642c6a47514f3876cf14a  [64fdb079c8bb499896c91874764b6910]   \n",
       "15    44b2484ecd3642c6a47514f3876cf14a  [80b146f8b74847d58a34989970536511]   \n",
       "16    44b2484ecd3642c6a47514f3876cf14a  [8725054cf9af45d280327217e851ab41]   \n",
       "17    44b2484ecd3642c6a47514f3876cf14a  [8cb68357763f4e90a7537bffc9ac11ea]   \n",
       "18    44b2484ecd3642c6a47514f3876cf14a  [a3ba3216d0c147a0a88c56bb34dff033]   \n",
       "19    44b2484ecd3642c6a47514f3876cf14a  [b987ec3d01784103b6c32a7e8eb439f6]   \n",
       "20    44b2484ecd3642c6a47514f3876cf14a  [11c049d0272d4fa28738ad33eb450f12]   \n",
       "21    44b2484ecd3642c6a47514f3876cf14a  [428b3e58119c4f86b2cd628ceee8fbeb]   \n",
       "22    44b2484ecd3642c6a47514f3876cf14a  [35342f32efeb432ba9f6d40512682bcd]   \n",
       "23    44b2484ecd3642c6a47514f3876cf14a  [db79aeafba18418ca36b8695a6c4b34f]   \n",
       "24    44b2484ecd3642c6a47514f3876cf14a  [cf9f6541d60b4f4798af43a429894e59]   \n",
       "25    44b2484ecd3642c6a47514f3876cf14a  [16c13f8926a341b7ba5291b43b45b0eb]   \n",
       "26    44b2484ecd3642c6a47514f3876cf14a  [2b37ae0a2587481482f0be9d7b8a9f26]   \n",
       "27    44b2484ecd3642c6a47514f3876cf14a  [fc62f2d027214725ba683d62c242bc2b]   \n",
       "28    44b2484ecd3642c6a47514f3876cf14a  [4e9b35234bdb4b02930ce248e29be3cd]   \n",
       "29    44b2484ecd3642c6a47514f3876cf14a  [55f1595cc0a340d6abb4b73eed67f644]   \n",
       "...                                ...                                 ...   \n",
       "9970  44b2484ecd3642c6a47514f3876cf14a  [e773d6ccade64f38b1b960c6b64f0a2a]   \n",
       "9971  44b2484ecd3642c6a47514f3876cf14a  [258cade180394e3c80559a75f5bd874b]   \n",
       "9972  44b2484ecd3642c6a47514f3876cf14a  [209fcd55fefa4fe29ccedcdc26bd5d89]   \n",
       "9973  44b2484ecd3642c6a47514f3876cf14a  [4ee8012894c944eb891b8887df51b3ec]   \n",
       "9974  44b2484ecd3642c6a47514f3876cf14a  [e1321bada5224826a91d8cb7994888d0]   \n",
       "9975  44b2484ecd3642c6a47514f3876cf14a  [cc0ef2b535894a77a92cc740be6c2513]   \n",
       "9976  44b2484ecd3642c6a47514f3876cf14a  [603f8306af1a4707b35422e2fbb376d6]   \n",
       "9977  44b2484ecd3642c6a47514f3876cf14a  [9800ccb6076042c3aa5d3b789e886c6c]   \n",
       "9978  44b2484ecd3642c6a47514f3876cf14a  [13cbbcd3bb624a90803392348666913d]   \n",
       "9979  44b2484ecd3642c6a47514f3876cf14a  [5cbd4a64a328414781df8b75e47ffad3]   \n",
       "9980  44b2484ecd3642c6a47514f3876cf14a  [df478629d3604135b5f9b3af12c2bdc5]   \n",
       "9981  44b2484ecd3642c6a47514f3876cf14a  [4593370bcdef483e99b23659a84d06c0]   \n",
       "9982  44b2484ecd3642c6a47514f3876cf14a  [cf4019892cf24e2c8b4536570b46b7d1]   \n",
       "9983  44b2484ecd3642c6a47514f3876cf14a  [b0376031d64e412c8517ecd1f3832284]   \n",
       "9984  44b2484ecd3642c6a47514f3876cf14a  [eff34da33a0a4d6e8edb95430ac4ff0e]   \n",
       "9985  44b2484ecd3642c6a47514f3876cf14a  [c021b1cc3a0c45b79a72fb04e2651d35]   \n",
       "9986  44b2484ecd3642c6a47514f3876cf14a  [fd232e144cfd44eab38ee0017d2caafa]   \n",
       "9987  44b2484ecd3642c6a47514f3876cf14a  [ba589b5df524433a93db2791eac3f991]   \n",
       "9988  44b2484ecd3642c6a47514f3876cf14a  [59dbd43c917749c9ab96050639a0ea9a]   \n",
       "9989  44b2484ecd3642c6a47514f3876cf14a  [62e29f2b1a9349159cc2a21ff06c8c11]   \n",
       "9990  44b2484ecd3642c6a47514f3876cf14a  [70855821c28f4b4c8fb5e627e081bb56]   \n",
       "9991  44b2484ecd3642c6a47514f3876cf14a  [895b1656666d41768548609bc7ee4e3f]   \n",
       "9992  44b2484ecd3642c6a47514f3876cf14a  [ceb4c77d26c24b47bf532778d1a3f2c2]   \n",
       "9993  44b2484ecd3642c6a47514f3876cf14a  [1d532ea1c59c4e168ee12036b210fe3b]   \n",
       "9994  44b2484ecd3642c6a47514f3876cf14a  [cb7141606c7b4a00ab42547b55091978]   \n",
       "9995  44b2484ecd3642c6a47514f3876cf14a  [80f1e6a9b2324293b3576232f7aa028c]   \n",
       "9996  44b2484ecd3642c6a47514f3876cf14a  [a3f6a49eac98480eb48ce267d901c35e]   \n",
       "9997  44b2484ecd3642c6a47514f3876cf14a  [9a08785395d445ffb856522caec3fc8a]   \n",
       "9998  44b2484ecd3642c6a47514f3876cf14a  [874bb5c4fd4b4e498660c1f2c0a4ab3e]   \n",
       "9999  44b2484ecd3642c6a47514f3876cf14a  [1f705b9756404cb99a5d3416a8931a43]   \n",
       "\n",
       "      match_score  \n",
       "0        0.761654  \n",
       "1        0.707236  \n",
       "2        0.702257  \n",
       "3        0.699048  \n",
       "4        0.695093  \n",
       "5        0.695076  \n",
       "6        0.694400  \n",
       "7        0.687783  \n",
       "8        0.681966  \n",
       "9        0.680656  \n",
       "10       0.674632  \n",
       "11       0.674192  \n",
       "12       0.670859  \n",
       "13       0.670569  \n",
       "14       0.647743  \n",
       "15       0.645000  \n",
       "16       0.639234  \n",
       "17       0.636517  \n",
       "18       0.636286  \n",
       "19       0.635845  \n",
       "20       0.632351  \n",
       "21       0.632162  \n",
       "22       0.631702  \n",
       "23       0.631316  \n",
       "24       0.630626  \n",
       "25       0.630469  \n",
       "26       0.630325  \n",
       "27       0.623707  \n",
       "28       0.620558  \n",
       "29       0.613985  \n",
       "...           ...  \n",
       "9970     0.158626  \n",
       "9971     0.158529  \n",
       "9972     0.158206  \n",
       "9973     0.158193  \n",
       "9974     0.158104  \n",
       "9975     0.157884  \n",
       "9976     0.157772  \n",
       "9977     0.157159  \n",
       "9978     0.157060  \n",
       "9979     0.156872  \n",
       "9980     0.156834  \n",
       "9981     0.156695  \n",
       "9982     0.156511  \n",
       "9983     0.156403  \n",
       "9984     0.155987  \n",
       "9985     0.155434  \n",
       "9986     0.155174  \n",
       "9987     0.154564  \n",
       "9988     0.154263  \n",
       "9989     0.154220  \n",
       "9990     0.154187  \n",
       "9991     0.154170  \n",
       "9992     0.154155  \n",
       "9993     0.153889  \n",
       "9994     0.153724  \n",
       "9995     0.153457  \n",
       "9996     0.153233  \n",
       "9997     0.152828  \n",
       "9998     0.152807  \n",
       "9999     0.152591  \n",
       "\n",
       "[10000 rows x 3 columns]"
      ]
     },
     "execution_count": 98,
     "metadata": {},
     "output_type": "execute_result"
    }
   ],
   "source": [
    "s"
   ]
  },
  {
   "cell_type": "code",
   "execution_count": 104,
   "metadata": {
    "ExecuteTime": {
     "end_time": "2019-04-18T12:34:32.756796Z",
     "start_time": "2019-04-18T12:34:32.733780Z"
    }
   },
   "outputs": [
    {
     "data": {
      "text/html": [
       "<div>\n",
       "<style scoped>\n",
       "    .dataframe tbody tr th:only-of-type {\n",
       "        vertical-align: middle;\n",
       "    }\n",
       "\n",
       "    .dataframe tbody tr th {\n",
       "        vertical-align: top;\n",
       "    }\n",
       "\n",
       "    .dataframe thead th {\n",
       "        text-align: right;\n",
       "    }\n",
       "</style>\n",
       "<table border=\"1\" class=\"dataframe\">\n",
       "  <thead>\n",
       "    <tr style=\"text-align: right;\">\n",
       "      <th></th>\n",
       "      <th>id</th>\n",
       "      <th>match_id</th>\n",
       "      <th>match_score</th>\n",
       "    </tr>\n",
       "  </thead>\n",
       "  <tbody>\n",
       "    <tr>\n",
       "      <th>6517</th>\n",
       "      <td>44b2484ecd3642c6a47514f3876cf14a</td>\n",
       "      <td>[44b2484ecd3642c6a47514f3876cf14a]</td>\n",
       "      <td>0.241344</td>\n",
       "    </tr>\n",
       "  </tbody>\n",
       "</table>\n",
       "</div>"
      ],
      "text/plain": [
       "                                    id                            match_id  \\\n",
       "6517  44b2484ecd3642c6a47514f3876cf14a  [44b2484ecd3642c6a47514f3876cf14a]   \n",
       "\n",
       "      match_score  \n",
       "6517     0.241344  "
      ]
     },
     "execution_count": 104,
     "metadata": {},
     "output_type": "execute_result"
    }
   ],
   "source": [
    "s[s['match_id'] == '44b2484ecd3642c6a47514f3876cf14a']"
   ]
  },
  {
   "cell_type": "code",
   "execution_count": 101,
   "metadata": {
    "ExecuteTime": {
     "end_time": "2019-04-18T12:34:29.265064Z",
     "start_time": "2019-04-18T12:34:29.260074Z"
    }
   },
   "outputs": [
    {
     "data": {
      "text/plain": [
       "array([2637])"
      ]
     },
     "execution_count": 101,
     "metadata": {},
     "output_type": "execute_result"
    }
   ],
   "source": [
    "np.arange(0, pred.pro_ids.shape[0]).reshape(-1, 1)[pred.pro_ids == '44b2484ecd3642c6a47514f3876cf14a']"
   ]
  },
  {
   "cell_type": "code",
   "execution_count": 102,
   "metadata": {
    "ExecuteTime": {
     "end_time": "2019-04-18T12:34:30.400571Z",
     "start_time": "2019-04-18T12:34:30.396588Z"
    }
   },
   "outputs": [
    {
     "data": {
      "text/plain": [
       "array([100, 10, 23, -0.5560829897714368, 0.4140303428843267,\n",
       "       -3.3346738412898826, 0.43776379623592826, 1.308695572124488,\n",
       "       -2.1737440423302923, 1.1405994918381603, -0.5702975770724269,\n",
       "       -0.11725153028964996, -0.9851715564727783, 0.252293199300766,\n",
       "       -1.070906400680542, -0.31238463521003723, -0.8020544648170471,\n",
       "       0.11489026993513107, 0.01884876936674118, 0.4159659147262573,\n",
       "       0.8283409476280212, 1.0396236181259155, -0.4579142928123474,\n",
       "       -0.7106772661209106, -1.1589419841766357, -1.1437820196151733,\n",
       "       -0.8788050413131714, -1.1638669967651367, 0.11068644374608994,\n",
       "       -0.11706457287073135, 0.8814422488212585], dtype=object)"
      ]
     },
     "execution_count": 102,
     "metadata": {},
     "output_type": "execute_result"
    }
   ],
   "source": [
    "pred.pro_feat[2637]"
   ]
  },
  {
   "cell_type": "code",
   "execution_count": 103,
   "metadata": {
    "ExecuteTime": {
     "end_time": "2019-04-18T12:34:30.681863Z",
     "start_time": "2019-04-18T12:34:30.676839Z"
    }
   },
   "outputs": [
    {
     "data": {
      "text/plain": [
       "array([ 0.12160952,  0.03939573, -0.40439287, -0.01125311, -0.42210618,\n",
       "        0.67033625, -0.04532274, -1.7624149 , -0.24541803,  0.14191574],\n",
       "      dtype=float32)"
      ]
     },
     "execution_count": 103,
     "metadata": {},
     "output_type": "execute_result"
    }
   ],
   "source": [
    "pred.pro_lat_vecs[2637]"
   ]
  },
  {
   "cell_type": "code",
   "execution_count": null,
   "metadata": {},
   "outputs": [],
   "source": []
  },
  {
   "cell_type": "code",
   "execution_count": null,
   "metadata": {},
   "outputs": [],
   "source": []
  },
  {
   "cell_type": "code",
   "execution_count": null,
   "metadata": {},
   "outputs": [],
   "source": []
  }
 ],
 "metadata": {
  "kernelspec": {
   "display_name": "Python 3",
   "language": "python",
   "name": "python3"
  },
  "language_info": {
   "codemirror_mode": {
    "name": "ipython",
    "version": 3
   },
   "file_extension": ".py",
   "mimetype": "text/x-python",
   "name": "python",
   "nbconvert_exporter": "python",
   "pygments_lexer": "ipython3",
   "version": "3.6.7"
  },
  "toc": {
   "base_numbering": 1,
   "nav_menu": {},
   "number_sections": true,
   "sideBar": true,
   "skip_h1_title": false,
   "title_cell": "Table of Contents",
   "title_sidebar": "Contents",
   "toc_cell": false,
   "toc_position": {},
   "toc_section_display": true,
   "toc_window_display": false
  },
  "varInspector": {
   "cols": {
    "lenName": 16,
    "lenType": 16,
    "lenVar": 40
   },
   "kernels_config": {
    "python": {
     "delete_cmd_postfix": "",
     "delete_cmd_prefix": "del ",
     "library": "var_list.py",
     "varRefreshCmd": "print(var_dic_list())"
    },
    "r": {
     "delete_cmd_postfix": ") ",
     "delete_cmd_prefix": "rm(",
     "library": "var_list.r",
     "varRefreshCmd": "cat(var_dic_list()) "
    }
   },
   "types_to_exclude": [
    "module",
    "function",
    "builtin_function_or_method",
    "instance",
    "_Feature"
   ],
   "window_display": false
  }
 },
 "nbformat": 4,
 "nbformat_minor": 2
}
