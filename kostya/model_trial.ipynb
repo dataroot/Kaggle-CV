{
 "cells": [
  {
   "cell_type": "code",
   "execution_count": 1,
   "metadata": {},
   "outputs": [
    {
     "name": "stderr",
     "output_type": "stream",
     "text": [
      "Using TensorFlow backend.\n"
     ]
    }
   ],
   "source": [
    "from preprocessor import Preprocessor\n",
    "from batch_generator import BatchGenerator\n",
    "from modelling import Mothership"
   ]
  },
  {
   "cell_type": "code",
   "execution_count": 2,
   "metadata": {},
   "outputs": [],
   "source": [
    "# Create Preprocessor instance\n",
    "pp = Preprocessor(created=True)"
   ]
  },
  {
   "cell_type": "code",
   "execution_count": 3,
   "metadata": {},
   "outputs": [],
   "source": [
    "batch_generator = BatchGenerator(pp)"
   ]
  },
  {
   "cell_type": "code",
   "execution_count": 9,
   "metadata": {},
   "outputs": [],
   "source": [
    "#model = Mothership(27, [102, 42], 28, [102, 102, 42], 10, [2, 2], [2, 2, 2])\n",
    "model = Mothership(10, [], 10, [], 10, [], [])"
   ]
  },
  {
   "cell_type": "code",
   "execution_count": 10,
   "metadata": {
    "ExecuteTime": {
     "end_time": "2019-03-21T15:44:11.474037Z",
     "start_time": "2019-03-21T15:44:11.457423Z"
    }
   },
   "outputs": [],
   "source": [
    "from keras.optimizers import Adam"
   ]
  },
  {
   "cell_type": "code",
   "execution_count": 11,
   "metadata": {
    "ExecuteTime": {
     "end_time": "2019-03-21T15:46:34.713662Z",
     "start_time": "2019-03-21T15:46:34.619721Z"
    }
   },
   "outputs": [],
   "source": [
    "model.compile(Adam(lr = 0.001), loss = 'binary_crossentropy', metrics = ['accuracy'])"
   ]
  },
  {
   "cell_type": "code",
   "execution_count": 12,
   "metadata": {},
   "outputs": [
    {
     "data": {
      "text/plain": [
       "(100, 10)"
      ]
     },
     "execution_count": 12,
     "metadata": {},
     "output_type": "execute_result"
    }
   ],
   "source": [
    "batch_generator[0][0][1].shape"
   ]
  },
  {
   "cell_type": "code",
   "execution_count": 13,
   "metadata": {
    "ExecuteTime": {
     "end_time": "2019-03-21T15:47:03.340230Z",
     "start_time": "2019-03-21T15:46:34.792635Z"
    },
    "scrolled": false
   },
   "outputs": [
    {
     "name": "stdout",
     "output_type": "stream",
     "text": [
      "Epoch 1/5\n",
      "994/994 [==============================] - 20s 20ms/step - loss: 1.1874 - acc: 0.5025\n",
      "Epoch 2/5\n",
      "994/994 [==============================] - 20s 20ms/step - loss: 0.7053 - acc: 0.5172 2s - loss: 0. - ETA: \n",
      "Epoch 3/5\n",
      "994/994 [==============================] - 20s 20ms/step - loss: 0.6939 - acc: 0.5234\n",
      "Epoch 4/5\n",
      "994/994 [==============================] - 20s 20ms/step - loss: 0.6910 - acc: 0.5242\n",
      "Epoch 5/5\n",
      "994/994 [==============================] - 20s 20ms/step - loss: 0.6896 - acc: 0.5246\n"
     ]
    },
    {
     "data": {
      "text/plain": [
       "<keras.callbacks.History at 0x2248cd30>"
      ]
     },
     "execution_count": 13,
     "metadata": {},
     "output_type": "execute_result"
    }
   ],
   "source": [
    "model.fit_generator(batch_generator, epochs=5)"
   ]
  },
  {
   "cell_type": "code",
   "execution_count": null,
   "metadata": {},
   "outputs": [],
   "source": []
  }
 ],
 "metadata": {
  "kernelspec": {
   "display_name": "Python 3",
   "language": "python",
   "name": "python3"
  },
  "language_info": {
   "codemirror_mode": {
    "name": "ipython",
    "version": 3
   },
   "file_extension": ".py",
   "mimetype": "text/x-python",
   "name": "python",
   "nbconvert_exporter": "python",
   "pygments_lexer": "ipython3",
   "version": "3.6.4"
  }
 },
 "nbformat": 4,
 "nbformat_minor": 2
}
