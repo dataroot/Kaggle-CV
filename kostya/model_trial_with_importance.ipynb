{
 "cells": [
  {
   "cell_type": "code",
   "execution_count": 1,
   "metadata": {
    "ExecuteTime": {
     "end_time": "2019-03-25T10:52:10.258056Z",
     "start_time": "2019-03-25T10:51:37.897004Z"
    }
   },
   "outputs": [
    {
     "name": "stderr",
     "output_type": "stream",
     "text": [
      "Using TensorFlow backend.\n"
     ]
    }
   ],
   "source": [
    "from preprocessor import Preprocessor\n",
    "from batch_generator import BatchGenerator\n",
    "from modelling import Mothership\n",
    "from keras.optimizers import Adam"
   ]
  },
  {
   "cell_type": "code",
   "execution_count": 36,
   "metadata": {
    "ExecuteTime": {
     "end_time": "2019-03-25T10:52:32.378371Z",
     "start_time": "2019-03-25T10:52:10.311050Z"
    },
    "scrolled": false
   },
   "outputs": [],
   "source": [
    "batch_generator = BatchGenerator(64, 64)"
   ]
  },
  {
   "cell_type": "code",
   "execution_count": 37,
   "metadata": {
    "scrolled": true
   },
   "outputs": [
    {
     "data": {
      "text/plain": [
       "((128, 10), (128, 10))"
      ]
     },
     "execution_count": 37,
     "metadata": {},
     "output_type": "execute_result"
    }
   ],
   "source": [
    "batch_generator[0][0][0].shape, batch_generator[0][0][1].shape"
   ]
  },
  {
   "cell_type": "code",
   "execution_count": 5,
   "metadata": {
    "ExecuteTime": {
     "end_time": "2019-03-25T10:52:32.978771Z",
     "start_time": "2019-03-25T10:52:32.432220Z"
    }
   },
   "outputs": [],
   "source": [
    "# model = Mothership(15, [102, 42], 16, [102, 102, 42], 10, [2, 2], [2, 2, 2])\n",
    "model = Mothership(10, [], 10, [], 10, [], [])"
   ]
  },
  {
   "cell_type": "code",
   "execution_count": 38,
   "metadata": {
    "ExecuteTime": {
     "end_time": "2019-03-25T10:53:36.492320Z",
     "start_time": "2019-03-25T10:53:36.362423Z"
    }
   },
   "outputs": [],
   "source": [
    "model.compile(Adam(lr=.001), loss = 'binary_crossentropy', metrics = ['accuracy'])"
   ]
  },
  {
   "cell_type": "code",
   "execution_count": 39,
   "metadata": {
    "ExecuteTime": {
     "end_time": "2019-03-25T10:54:16.188100Z",
     "start_time": "2019-03-25T10:53:36.740341Z"
    },
    "scrolled": true
   },
   "outputs": [
    {
     "name": "stdout",
     "output_type": "stream",
     "text": [
      "Epoch 1/1\n"
     ]
    },
    {
     "name": "stdout",
     "output_type": "stream",
     "text": [
      "208/767 [=======>......................] - ETA: 4:26 - loss: 0.6837 - acc: 0.601 - ETA: 1:14 - loss: 0.6037 - acc: 0.681 - ETA: 1:14 - loss: 0.6194 - acc: 0.657 - ETA: 1:15 - loss: 0.6241 - acc: 0.654 - ETA: 1:15 - loss: 0.6231 - acc: 0.652 - ETA: 1:15 - loss: 0.6260 - acc: 0.648 - ETA: 1:15 - loss: 0.6369 - acc: 0.633 - ETA: 1:15 - loss: 0.6315 - acc: 0.637 - ETA: 1:15 - loss: 0.6290 - acc: 0.637 - ETA: 1:15 - loss: 0.6259 - acc: 0.637 - ETA: 1:15 - loss: 0.6303 - acc: 0.632 - ETA: 1:15 - loss: 0.6319 - acc: 0.628 - ETA: 1:15 - loss: 0.6253 - acc: 0.635 - ETA: 1:15 - loss: 0.6232 - acc: 0.638 - ETA: 1:15 - loss: 0.6214 - acc: 0.640 - ETA: 1:15 - loss: 0.6190 - acc: 0.643 - ETA: 1:15 - loss: 0.6180 - acc: 0.644 - ETA: 1:15 - loss: 0.6129 - acc: 0.648 - ETA: 1:15 - loss: 0.6091 - acc: 0.651 - ETA: 1:15 - loss: 0.6094 - acc: 0.653 - ETA: 1:15 - loss: 0.6088 - acc: 0.654 - ETA: 1:15 - loss: 0.6070 - acc: 0.655 - ETA: 1:15 - loss: 0.6078 - acc: 0.653 - ETA: 1:15 - loss: 0.6088 - acc: 0.652 - ETA: 1:14 - loss: 0.6080 - acc: 0.652 - ETA: 1:14 - loss: 0.6094 - acc: 0.650 - ETA: 1:14 - loss: 0.6070 - acc: 0.652 - ETA: 1:14 - loss: 0.6071 - acc: 0.652 - ETA: 1:14 - loss: 0.6104 - acc: 0.649 - ETA: 1:14 - loss: 0.6127 - acc: 0.647 - ETA: 1:14 - loss: 0.6126 - acc: 0.649 - ETA: 1:14 - loss: 0.6110 - acc: 0.652 - ETA: 1:14 - loss: 0.6120 - acc: 0.651 - ETA: 1:14 - loss: 0.6106 - acc: 0.654 - ETA: 1:14 - loss: 0.6099 - acc: 0.655 - ETA: 1:14 - loss: 0.6090 - acc: 0.655 - ETA: 1:14 - loss: 0.6118 - acc: 0.654 - ETA: 1:14 - loss: 0.6124 - acc: 0.653 - ETA: 1:14 - loss: 0.6117 - acc: 0.654 - ETA: 1:13 - loss: 0.6093 - acc: 0.657 - ETA: 1:13 - loss: 0.6089 - acc: 0.657 - ETA: 1:13 - loss: 0.6078 - acc: 0.658 - ETA: 1:13 - loss: 0.6055 - acc: 0.659 - ETA: 1:13 - loss: 0.6049 - acc: 0.660 - ETA: 1:13 - loss: 0.6031 - acc: 0.662 - ETA: 1:13 - loss: 0.6054 - acc: 0.660 - ETA: 1:13 - loss: 0.6071 - acc: 0.659 - ETA: 1:13 - loss: 0.6061 - acc: 0.660 - ETA: 1:13 - loss: 0.6075 - acc: 0.658 - ETA: 1:12 - loss: 0.6073 - acc: 0.658 - ETA: 1:12 - loss: 0.6079 - acc: 0.658 - ETA: 1:12 - loss: 0.6075 - acc: 0.658 - ETA: 1:12 - loss: 0.6070 - acc: 0.658 - ETA: 1:12 - loss: 0.6074 - acc: 0.657 - ETA: 1:12 - loss: 0.6061 - acc: 0.659 - ETA: 1:12 - loss: 0.6053 - acc: 0.661 - ETA: 1:12 - loss: 0.6046 - acc: 0.662 - ETA: 1:11 - loss: 0.6055 - acc: 0.661 - ETA: 1:11 - loss: 0.6062 - acc: 0.660 - ETA: 1:11 - loss: 0.6061 - acc: 0.660 - ETA: 1:11 - loss: 0.6064 - acc: 0.659 - ETA: 1:11 - loss: 0.6069 - acc: 0.659 - ETA: 1:11 - loss: 0.6079 - acc: 0.657 - ETA: 1:11 - loss: 0.6078 - acc: 0.657 - ETA: 1:11 - loss: 0.6073 - acc: 0.658 - ETA: 1:11 - loss: 0.6073 - acc: 0.659 - ETA: 1:11 - loss: 0.6083 - acc: 0.658 - ETA: 1:11 - loss: 0.6084 - acc: 0.658 - ETA: 1:11 - loss: 0.6086 - acc: 0.658 - ETA: 1:11 - loss: 0.6082 - acc: 0.658 - ETA: 1:11 - loss: 0.6086 - acc: 0.658 - ETA: 1:11 - loss: 0.6078 - acc: 0.659 - ETA: 1:11 - loss: 0.6075 - acc: 0.659 - ETA: 1:11 - loss: 0.6089 - acc: 0.658 - ETA: 1:10 - loss: 0.6090 - acc: 0.657 - ETA: 1:10 - loss: 0.6078 - acc: 0.659 - ETA: 1:10 - loss: 0.6083 - acc: 0.659 - ETA: 1:10 - loss: 0.6075 - acc: 0.660 - ETA: 1:10 - loss: 0.6080 - acc: 0.659 - ETA: 1:10 - loss: 0.6078 - acc: 0.659 - ETA: 1:10 - loss: 0.6076 - acc: 0.659 - ETA: 1:10 - loss: 0.6068 - acc: 0.660 - ETA: 1:10 - loss: 0.6058 - acc: 0.661 - ETA: 1:10 - loss: 0.6053 - acc: 0.661 - ETA: 1:09 - loss: 0.6051 - acc: 0.661 - ETA: 1:09 - loss: 0.6057 - acc: 0.660 - ETA: 1:09 - loss: 0.6057 - acc: 0.660 - ETA: 1:09 - loss: 0.6055 - acc: 0.661 - ETA: 1:09 - loss: 0.6048 - acc: 0.661 - ETA: 1:09 - loss: 0.6047 - acc: 0.662 - ETA: 1:09 - loss: 0.6040 - acc: 0.663 - ETA: 1:09 - loss: 0.6038 - acc: 0.663 - ETA: 1:09 - loss: 0.6049 - acc: 0.662 - ETA: 1:09 - loss: 0.6047 - acc: 0.662 - ETA: 1:08 - loss: 0.6042 - acc: 0.663 - ETA: 1:08 - loss: 0.6036 - acc: 0.663 - ETA: 1:08 - loss: 0.6036 - acc: 0.664 - ETA: 1:08 - loss: 0.6036 - acc: 0.664 - ETA: 1:08 - loss: 0.6030 - acc: 0.665 - ETA: 1:08 - loss: 0.6035 - acc: 0.664 - ETA: 1:08 - loss: 0.6041 - acc: 0.663 - ETA: 1:08 - loss: 0.6045 - acc: 0.663 - ETA: 1:08 - loss: 0.6048 - acc: 0.663 - ETA: 1:08 - loss: 0.6044 - acc: 0.663 - ETA: 1:07 - loss: 0.6040 - acc: 0.663 - ETA: 1:07 - loss: 0.6038 - acc: 0.664 - ETA: 1:07 - loss: 0.6040 - acc: 0.663 - ETA: 1:07 - loss: 0.6040 - acc: 0.663 - ETA: 1:07 - loss: 0.6033 - acc: 0.664 - ETA: 1:07 - loss: 0.6034 - acc: 0.663 - ETA: 1:07 - loss: 0.6037 - acc: 0.663 - ETA: 1:07 - loss: 0.6031 - acc: 0.664 - ETA: 1:07 - loss: 0.6027 - acc: 0.664 - ETA: 1:06 - loss: 0.6024 - acc: 0.665 - ETA: 1:06 - loss: 0.6021 - acc: 0.664 - ETA: 1:06 - loss: 0.6018 - acc: 0.665 - ETA: 1:06 - loss: 0.6031 - acc: 0.664 - ETA: 1:06 - loss: 0.6025 - acc: 0.664 - ETA: 1:06 - loss: 0.6027 - acc: 0.664 - ETA: 1:06 - loss: 0.6032 - acc: 0.663 - ETA: 1:06 - loss: 0.6035 - acc: 0.663 - ETA: 1:06 - loss: 0.6035 - acc: 0.663 - ETA: 1:06 - loss: 0.6029 - acc: 0.664 - ETA: 1:05 - loss: 0.6026 - acc: 0.664 - ETA: 1:05 - loss: 0.6017 - acc: 0.666 - ETA: 1:05 - loss: 0.6018 - acc: 0.665 - ETA: 1:05 - loss: 0.6022 - acc: 0.665 - ETA: 1:05 - loss: 0.6025 - acc: 0.665 - ETA: 1:05 - loss: 0.6024 - acc: 0.665 - ETA: 1:05 - loss: 0.6024 - acc: 0.665 - ETA: 1:05 - loss: 0.6024 - acc: 0.665 - ETA: 1:05 - loss: 0.6024 - acc: 0.665 - ETA: 1:05 - loss: 0.6030 - acc: 0.664 - ETA: 1:04 - loss: 0.6024 - acc: 0.664 - ETA: 1:04 - loss: 0.6024 - acc: 0.664 - ETA: 1:04 - loss: 0.6029 - acc: 0.664 - ETA: 1:04 - loss: 0.6024 - acc: 0.664 - ETA: 1:04 - loss: 0.6025 - acc: 0.664 - ETA: 1:04 - loss: 0.6030 - acc: 0.664 - ETA: 1:04 - loss: 0.6031 - acc: 0.665 - ETA: 1:04 - loss: 0.6031 - acc: 0.665 - ETA: 1:04 - loss: 0.6029 - acc: 0.665 - ETA: 1:03 - loss: 0.6027 - acc: 0.665 - ETA: 1:03 - loss: 0.6024 - acc: 0.665 - ETA: 1:03 - loss: 0.6028 - acc: 0.666 - ETA: 1:03 - loss: 0.6027 - acc: 0.665 - ETA: 1:03 - loss: 0.6027 - acc: 0.666 - ETA: 1:03 - loss: 0.6027 - acc: 0.666 - ETA: 1:03 - loss: 0.6026 - acc: 0.666 - ETA: 1:03 - loss: 0.6023 - acc: 0.666 - ETA: 1:03 - loss: 0.6021 - acc: 0.666 - ETA: 1:03 - loss: 0.6018 - acc: 0.666 - ETA: 1:02 - loss: 0.6016 - acc: 0.667 - ETA: 1:02 - loss: 0.6015 - acc: 0.667 - ETA: 1:02 - loss: 0.6018 - acc: 0.667 - ETA: 1:02 - loss: 0.6018 - acc: 0.667 - ETA: 1:02 - loss: 0.6015 - acc: 0.667 - ETA: 1:02 - loss: 0.6021 - acc: 0.666 - ETA: 1:02 - loss: 0.6020 - acc: 0.666 - ETA: 1:02 - loss: 0.6020 - acc: 0.667 - ETA: 1:01 - loss: 0.6017 - acc: 0.667 - ETA: 1:01 - loss: 0.6024 - acc: 0.666 - ETA: 1:01 - loss: 0.6021 - acc: 0.667 - ETA: 1:01 - loss: 0.6020 - acc: 0.667 - ETA: 1:01 - loss: 0.6020 - acc: 0.667 - ETA: 1:01 - loss: 0.6018 - acc: 0.667 - ETA: 1:01 - loss: 0.6016 - acc: 0.667 - ETA: 1:01 - loss: 0.6017 - acc: 0.667 - ETA: 1:01 - loss: 0.6015 - acc: 0.667 - ETA: 1:01 - loss: 0.6018 - acc: 0.667 - ETA: 1:00 - loss: 0.6018 - acc: 0.667 - ETA: 1:00 - loss: 0.6017 - acc: 0.667 - ETA: 1:00 - loss: 0.6017 - acc: 0.667 - ETA: 1:00 - loss: 0.6014 - acc: 0.667 - ETA: 1:00 - loss: 0.6015 - acc: 0.667 - ETA: 1:00 - loss: 0.6008 - acc: 0.668 - ETA: 1:00 - loss: 0.6004 - acc: 0.668 - ETA: 1:00 - loss: 0.6006 - acc: 0.668 - ETA: 1:00 - loss: 0.6005 - acc: 0.669 - ETA: 1:00 - loss: 0.6006 - acc: 0.669 - ETA: 1:00 - loss: 0.6010 - acc: 0.668 - ETA: 1:00 - loss: 0.6010 - acc: 0.668 - ETA: 59s - loss: 0.6009 - acc: 0.668 - ETA: 59s - loss: 0.6013 - acc: 0.66 - ETA: 59s - loss: 0.6008 - acc: 0.66 - ETA: 59s - loss: 0.6009 - acc: 0.66 - ETA: 59s - loss: 0.6005 - acc: 0.66 - ETA: 59s - loss: 0.6002 - acc: 0.66 - ETA: 59s - loss: 0.6000 - acc: 0.66 - ETA: 59s - loss: 0.5999 - acc: 0.67 - ETA: 59s - loss: 0.5997 - acc: 0.67 - ETA: 59s - loss: 0.5999 - acc: 0.67 - ETA: 59s - loss: 0.5999 - acc: 0.67 - ETA: 59s - loss: 0.5997 - acc: 0.67 - ETA: 58s - loss: 0.5996 - acc: 0.67 - ETA: 58s - loss: 0.5999 - acc: 0.67 - ETA: 58s - loss: 0.5996 - acc: 0.67 - ETA: 58s - loss: 0.5994 - acc: 0.67 - ETA: 58s - loss: 0.5995 - acc: 0.67 - ETA: 58s - loss: 0.5998 - acc: 0.67 - ETA: 58s - loss: 0.5994 - acc: 0.67 - ETA: 58s - loss: 0.5994 - acc: 0.67 - ETA: 58s - loss: 0.5996 - acc: 0.67 - ETA: 58s - loss: 0.6000 - acc: 0.66 - ETA: 57s - loss: 0.5998 - acc: 0.6700\b\b\b\b\b\b\b\b\b\b\b\b\b\b\b\b\b\b\b\b\b\b\b\b\b\b\b\b\b\b\b\b\b\b\b\b\b\b\b\b\b\b\b\b\b\b\b\b\b\b\b\b\b\b\b\b\b\b\b\b\b\b\b\b\b\b\b\b\b\b\b\b\b\b\b\b\b\b\b\b"
     ]
    },
    {
     "name": "stdout",
     "output_type": "stream",
     "text": [
      "423/767 [===============>..............] - ETA: 57s - loss: 0.5995 - acc: 0.67 - ETA: 57s - loss: 0.5995 - acc: 0.67 - ETA: 57s - loss: 0.5994 - acc: 0.67 - ETA: 57s - loss: 0.5997 - acc: 0.67 - ETA: 57s - loss: 0.5996 - acc: 0.67 - ETA: 57s - loss: 0.6001 - acc: 0.66 - ETA: 57s - loss: 0.6001 - acc: 0.66 - ETA: 57s - loss: 0.6003 - acc: 0.66 - ETA: 57s - loss: 0.6000 - acc: 0.67 - ETA: 56s - loss: 0.5997 - acc: 0.67 - ETA: 56s - loss: 0.5996 - acc: 0.67 - ETA: 56s - loss: 0.6000 - acc: 0.67 - ETA: 56s - loss: 0.5998 - acc: 0.67 - ETA: 56s - loss: 0.6000 - acc: 0.67 - ETA: 56s - loss: 0.5998 - acc: 0.67 - ETA: 56s - loss: 0.5996 - acc: 0.67 - ETA: 56s - loss: 0.5994 - acc: 0.67 - ETA: 56s - loss: 0.5995 - acc: 0.67 - ETA: 55s - loss: 0.5997 - acc: 0.67 - ETA: 55s - loss: 0.5999 - acc: 0.67 - ETA: 55s - loss: 0.5998 - acc: 0.67 - ETA: 55s - loss: 0.5998 - acc: 0.67 - ETA: 55s - loss: 0.5995 - acc: 0.67 - ETA: 55s - loss: 0.5994 - acc: 0.67 - ETA: 55s - loss: 0.5987 - acc: 0.67 - ETA: 55s - loss: 0.5988 - acc: 0.67 - ETA: 55s - loss: 0.5987 - acc: 0.67 - ETA: 54s - loss: 0.5987 - acc: 0.67 - ETA: 54s - loss: 0.5986 - acc: 0.67 - ETA: 54s - loss: 0.5993 - acc: 0.67 - ETA: 54s - loss: 0.5991 - acc: 0.67 - ETA: 54s - loss: 0.5994 - acc: 0.67 - ETA: 54s - loss: 0.5992 - acc: 0.67 - ETA: 54s - loss: 0.5991 - acc: 0.67 - ETA: 54s - loss: 0.5993 - acc: 0.67 - ETA: 54s - loss: 0.5993 - acc: 0.67 - ETA: 53s - loss: 0.5994 - acc: 0.67 - ETA: 53s - loss: 0.5997 - acc: 0.67 - ETA: 53s - loss: 0.5996 - acc: 0.67 - ETA: 53s - loss: 0.5995 - acc: 0.67 - ETA: 53s - loss: 0.5998 - acc: 0.67 - ETA: 53s - loss: 0.5997 - acc: 0.67 - ETA: 53s - loss: 0.5996 - acc: 0.67 - ETA: 53s - loss: 0.5999 - acc: 0.67 - ETA: 53s - loss: 0.5999 - acc: 0.67 - ETA: 52s - loss: 0.6003 - acc: 0.67 - ETA: 52s - loss: 0.6002 - acc: 0.67 - ETA: 52s - loss: 0.6003 - acc: 0.67 - ETA: 52s - loss: 0.6000 - acc: 0.67 - ETA: 52s - loss: 0.5999 - acc: 0.67 - ETA: 52s - loss: 0.6000 - acc: 0.67 - ETA: 52s - loss: 0.6003 - acc: 0.66 - ETA: 52s - loss: 0.6007 - acc: 0.66 - ETA: 52s - loss: 0.6006 - acc: 0.66 - ETA: 52s - loss: 0.6006 - acc: 0.66 - ETA: 51s - loss: 0.6008 - acc: 0.66 - ETA: 51s - loss: 0.6006 - acc: 0.66 - ETA: 51s - loss: 0.6005 - acc: 0.66 - ETA: 51s - loss: 0.6003 - acc: 0.66 - ETA: 51s - loss: 0.6004 - acc: 0.66 - ETA: 51s - loss: 0.6002 - acc: 0.66 - ETA: 51s - loss: 0.6003 - acc: 0.66 - ETA: 51s - loss: 0.5998 - acc: 0.67 - ETA: 51s - loss: 0.5999 - acc: 0.66 - ETA: 50s - loss: 0.5999 - acc: 0.66 - ETA: 50s - loss: 0.5999 - acc: 0.66 - ETA: 50s - loss: 0.6000 - acc: 0.66 - ETA: 50s - loss: 0.6001 - acc: 0.66 - ETA: 50s - loss: 0.6002 - acc: 0.66 - ETA: 50s - loss: 0.6002 - acc: 0.66 - ETA: 50s - loss: 0.6003 - acc: 0.66 - ETA: 50s - loss: 0.6003 - acc: 0.66 - ETA: 50s - loss: 0.6001 - acc: 0.66 - ETA: 50s - loss: 0.6000 - acc: 0.66 - ETA: 49s - loss: 0.6005 - acc: 0.66 - ETA: 49s - loss: 0.6004 - acc: 0.66 - ETA: 49s - loss: 0.6007 - acc: 0.66 - ETA: 49s - loss: 0.6008 - acc: 0.66 - ETA: 49s - loss: 0.6009 - acc: 0.66 - ETA: 49s - loss: 0.6011 - acc: 0.66 - ETA: 49s - loss: 0.6010 - acc: 0.66 - ETA: 49s - loss: 0.6009 - acc: 0.66 - ETA: 49s - loss: 0.6008 - acc: 0.66 - ETA: 48s - loss: 0.6008 - acc: 0.66 - ETA: 48s - loss: 0.6008 - acc: 0.66 - ETA: 48s - loss: 0.6006 - acc: 0.66 - ETA: 48s - loss: 0.6006 - acc: 0.66 - ETA: 48s - loss: 0.6006 - acc: 0.66 - ETA: 48s - loss: 0.6002 - acc: 0.66 - ETA: 48s - loss: 0.6002 - acc: 0.66 - ETA: 48s - loss: 0.6004 - acc: 0.66 - ETA: 48s - loss: 0.6004 - acc: 0.66 - ETA: 48s - loss: 0.6006 - acc: 0.66 - ETA: 48s - loss: 0.6008 - acc: 0.66 - ETA: 47s - loss: 0.6010 - acc: 0.66 - ETA: 47s - loss: 0.6007 - acc: 0.66 - ETA: 47s - loss: 0.6005 - acc: 0.66 - ETA: 47s - loss: 0.6005 - acc: 0.66 - ETA: 47s - loss: 0.6003 - acc: 0.66 - ETA: 47s - loss: 0.6003 - acc: 0.66 - ETA: 47s - loss: 0.6002 - acc: 0.66 - ETA: 47s - loss: 0.6001 - acc: 0.66 - ETA: 47s - loss: 0.5999 - acc: 0.66 - ETA: 47s - loss: 0.6000 - acc: 0.66 - ETA: 47s - loss: 0.6001 - acc: 0.66 - ETA: 46s - loss: 0.5999 - acc: 0.66 - ETA: 46s - loss: 0.5999 - acc: 0.66 - ETA: 46s - loss: 0.6000 - acc: 0.66 - ETA: 46s - loss: 0.5999 - acc: 0.66 - ETA: 46s - loss: 0.5999 - acc: 0.66 - ETA: 46s - loss: 0.6000 - acc: 0.66 - ETA: 46s - loss: 0.6000 - acc: 0.66 - ETA: 46s - loss: 0.6002 - acc: 0.66 - ETA: 46s - loss: 0.6002 - acc: 0.66 - ETA: 46s - loss: 0.6002 - acc: 0.66 - ETA: 45s - loss: 0.6004 - acc: 0.66 - ETA: 45s - loss: 0.6004 - acc: 0.66 - ETA: 45s - loss: 0.6002 - acc: 0.66 - ETA: 45s - loss: 0.6005 - acc: 0.66 - ETA: 45s - loss: 0.6004 - acc: 0.66 - ETA: 45s - loss: 0.6004 - acc: 0.66 - ETA: 45s - loss: 0.6007 - acc: 0.66 - ETA: 45s - loss: 0.6006 - acc: 0.66 - ETA: 45s - loss: 0.6008 - acc: 0.66 - ETA: 45s - loss: 0.6008 - acc: 0.66 - ETA: 44s - loss: 0.6010 - acc: 0.66 - ETA: 44s - loss: 0.6011 - acc: 0.66 - ETA: 44s - loss: 0.6013 - acc: 0.66 - ETA: 44s - loss: 0.6013 - acc: 0.66 - ETA: 44s - loss: 0.6016 - acc: 0.66 - ETA: 44s - loss: 0.6018 - acc: 0.66 - ETA: 44s - loss: 0.6018 - acc: 0.66 - ETA: 44s - loss: 0.6019 - acc: 0.66 - ETA: 44s - loss: 0.6017 - acc: 0.66 - ETA: 43s - loss: 0.6016 - acc: 0.66 - ETA: 43s - loss: 0.6015 - acc: 0.66 - ETA: 43s - loss: 0.6016 - acc: 0.66 - ETA: 43s - loss: 0.6017 - acc: 0.66 - ETA: 43s - loss: 0.6016 - acc: 0.66 - ETA: 43s - loss: 0.6016 - acc: 0.66 - ETA: 43s - loss: 0.6015 - acc: 0.66 - ETA: 43s - loss: 0.6014 - acc: 0.66 - ETA: 43s - loss: 0.6014 - acc: 0.66 - ETA: 43s - loss: 0.6013 - acc: 0.66 - ETA: 42s - loss: 0.6013 - acc: 0.66 - ETA: 42s - loss: 0.6013 - acc: 0.66 - ETA: 42s - loss: 0.6013 - acc: 0.66 - ETA: 42s - loss: 0.6013 - acc: 0.66 - ETA: 42s - loss: 0.6011 - acc: 0.66 - ETA: 42s - loss: 0.6013 - acc: 0.66 - ETA: 42s - loss: 0.6012 - acc: 0.66 - ETA: 42s - loss: 0.6012 - acc: 0.66 - ETA: 42s - loss: 0.6009 - acc: 0.66 - ETA: 42s - loss: 0.6009 - acc: 0.66 - ETA: 41s - loss: 0.6007 - acc: 0.66 - ETA: 41s - loss: 0.6008 - acc: 0.66 - ETA: 41s - loss: 0.6006 - acc: 0.66 - ETA: 41s - loss: 0.6006 - acc: 0.66 - ETA: 41s - loss: 0.6006 - acc: 0.66 - ETA: 41s - loss: 0.6008 - acc: 0.66 - ETA: 41s - loss: 0.6007 - acc: 0.66 - ETA: 41s - loss: 0.6006 - acc: 0.66 - ETA: 41s - loss: 0.6007 - acc: 0.66 - ETA: 40s - loss: 0.6007 - acc: 0.66 - ETA: 40s - loss: 0.6005 - acc: 0.66 - ETA: 40s - loss: 0.6003 - acc: 0.66 - ETA: 40s - loss: 0.6002 - acc: 0.66 - ETA: 40s - loss: 0.6001 - acc: 0.66 - ETA: 40s - loss: 0.6000 - acc: 0.66 - ETA: 40s - loss: 0.6000 - acc: 0.66 - ETA: 40s - loss: 0.5998 - acc: 0.66 - ETA: 40s - loss: 0.5997 - acc: 0.66 - ETA: 40s - loss: 0.5997 - acc: 0.66 - ETA: 39s - loss: 0.5995 - acc: 0.66 - ETA: 39s - loss: 0.5993 - acc: 0.66 - ETA: 39s - loss: 0.5991 - acc: 0.66 - ETA: 39s - loss: 0.5989 - acc: 0.66 - ETA: 39s - loss: 0.5988 - acc: 0.66 - ETA: 39s - loss: 0.5986 - acc: 0.66 - ETA: 39s - loss: 0.5986 - acc: 0.66 - ETA: 39s - loss: 0.5986 - acc: 0.66 - ETA: 39s - loss: 0.5985 - acc: 0.66 - ETA: 39s - loss: 0.5986 - acc: 0.66 - ETA: 38s - loss: 0.5988 - acc: 0.66 - ETA: 38s - loss: 0.5987 - acc: 0.66 - ETA: 38s - loss: 0.5985 - acc: 0.66 - ETA: 38s - loss: 0.5988 - acc: 0.66 - ETA: 38s - loss: 0.5990 - acc: 0.66 - ETA: 38s - loss: 0.5987 - acc: 0.66 - ETA: 38s - loss: 0.5987 - acc: 0.66 - ETA: 38s - loss: 0.5987 - acc: 0.66 - ETA: 38s - loss: 0.5988 - acc: 0.66 - ETA: 37s - loss: 0.5988 - acc: 0.66 - ETA: 37s - loss: 0.5988 - acc: 0.66 - ETA: 37s - loss: 0.5989 - acc: 0.66 - ETA: 37s - loss: 0.5988 - acc: 0.66 - ETA: 37s - loss: 0.5986 - acc: 0.66 - ETA: 37s - loss: 0.5984 - acc: 0.66 - ETA: 37s - loss: 0.5983 - acc: 0.67 - ETA: 37s - loss: 0.5982 - acc: 0.67 - ETA: 37s - loss: 0.5984 - acc: 0.67 - ETA: 37s - loss: 0.5985 - acc: 0.67 - ETA: 36s - loss: 0.5986 - acc: 0.66 - ETA: 36s - loss: 0.5985 - acc: 0.67 - ETA: 36s - loss: 0.5986 - acc: 0.67 - ETA: 36s - loss: 0.5986 - acc: 0.67 - ETA: 36s - loss: 0.5987 - acc: 0.67 - ETA: 36s - loss: 0.5986 - acc: 0.67 - ETA: 36s - loss: 0.5986 - acc: 0.67 - ETA: 36s - loss: 0.5987 - acc: 0.67 - ETA: 36s - loss: 0.5985 - acc: 0.67 - ETA: 36s - loss: 0.5984 - acc: 0.67 - ETA: 35s - loss: 0.5985 - acc: 0.67 - ETA: 35s - loss: 0.5985 - acc: 0.67 - ETA: 35s - loss: 0.5984 - acc: 0.6702"
     ]
    },
    {
     "name": "stdout",
     "output_type": "stream",
     "text": [
      "638/767 [=======================>......] - ETA: 35s - loss: 0.5987 - acc: 0.66 - ETA: 35s - loss: 0.5986 - acc: 0.67 - ETA: 35s - loss: 0.5985 - acc: 0.67 - ETA: 35s - loss: 0.5987 - acc: 0.67 - ETA: 35s - loss: 0.5989 - acc: 0.66 - ETA: 35s - loss: 0.5988 - acc: 0.66 - ETA: 34s - loss: 0.5989 - acc: 0.66 - ETA: 34s - loss: 0.5989 - acc: 0.66 - ETA: 34s - loss: 0.5989 - acc: 0.66 - ETA: 34s - loss: 0.5989 - acc: 0.66 - ETA: 34s - loss: 0.5991 - acc: 0.66 - ETA: 34s - loss: 0.5991 - acc: 0.66 - ETA: 34s - loss: 0.5991 - acc: 0.66 - ETA: 34s - loss: 0.5989 - acc: 0.66 - ETA: 34s - loss: 0.5990 - acc: 0.66 - ETA: 34s - loss: 0.5989 - acc: 0.66 - ETA: 33s - loss: 0.5989 - acc: 0.66 - ETA: 33s - loss: 0.5988 - acc: 0.66 - ETA: 33s - loss: 0.5986 - acc: 0.66 - ETA: 33s - loss: 0.5985 - acc: 0.66 - ETA: 33s - loss: 0.5986 - acc: 0.66 - ETA: 33s - loss: 0.5986 - acc: 0.66 - ETA: 33s - loss: 0.5985 - acc: 0.66 - ETA: 33s - loss: 0.5985 - acc: 0.66 - ETA: 33s - loss: 0.5986 - acc: 0.66 - ETA: 32s - loss: 0.5986 - acc: 0.66 - ETA: 32s - loss: 0.5985 - acc: 0.67 - ETA: 32s - loss: 0.5986 - acc: 0.67 - ETA: 32s - loss: 0.5986 - acc: 0.67 - ETA: 32s - loss: 0.5983 - acc: 0.67 - ETA: 32s - loss: 0.5987 - acc: 0.67 - ETA: 32s - loss: 0.5988 - acc: 0.66 - ETA: 32s - loss: 0.5989 - acc: 0.66 - ETA: 32s - loss: 0.5990 - acc: 0.66 - ETA: 32s - loss: 0.5989 - acc: 0.66 - ETA: 31s - loss: 0.5991 - acc: 0.66 - ETA: 31s - loss: 0.5991 - acc: 0.66 - ETA: 31s - loss: 0.5991 - acc: 0.66 - ETA: 31s - loss: 0.5991 - acc: 0.66 - ETA: 31s - loss: 0.5990 - acc: 0.66 - ETA: 31s - loss: 0.5991 - acc: 0.66 - ETA: 31s - loss: 0.5990 - acc: 0.66 - ETA: 31s - loss: 0.5991 - acc: 0.66 - ETA: 31s - loss: 0.5992 - acc: 0.66 - ETA: 30s - loss: 0.5994 - acc: 0.66 - ETA: 30s - loss: 0.5992 - acc: 0.66 - ETA: 30s - loss: 0.5992 - acc: 0.66 - ETA: 30s - loss: 0.5993 - acc: 0.66 - ETA: 30s - loss: 0.5994 - acc: 0.66 - ETA: 30s - loss: 0.5997 - acc: 0.66 - ETA: 30s - loss: 0.5995 - acc: 0.66 - ETA: 30s - loss: 0.5994 - acc: 0.66 - ETA: 30s - loss: 0.5993 - acc: 0.66 - ETA: 30s - loss: 0.5992 - acc: 0.66 - ETA: 29s - loss: 0.5991 - acc: 0.66 - ETA: 29s - loss: 0.5990 - acc: 0.67 - ETA: 29s - loss: 0.5991 - acc: 0.67 - ETA: 29s - loss: 0.5989 - acc: 0.67 - ETA: 29s - loss: 0.5989 - acc: 0.67 - ETA: 29s - loss: 0.5992 - acc: 0.67 - ETA: 29s - loss: 0.5992 - acc: 0.67 - ETA: 29s - loss: 0.5991 - acc: 0.67 - ETA: 29s - loss: 0.5992 - acc: 0.67 - ETA: 28s - loss: 0.5994 - acc: 0.66 - ETA: 28s - loss: 0.5994 - acc: 0.66 - ETA: 28s - loss: 0.5994 - acc: 0.66 - ETA: 28s - loss: 0.5995 - acc: 0.66 - ETA: 28s - loss: 0.5995 - acc: 0.66 - ETA: 28s - loss: 0.5994 - acc: 0.66 - ETA: 28s - loss: 0.5992 - acc: 0.66 - ETA: 28s - loss: 0.5992 - acc: 0.66 - ETA: 28s - loss: 0.5991 - acc: 0.67 - ETA: 28s - loss: 0.5991 - acc: 0.66 - ETA: 27s - loss: 0.5991 - acc: 0.67 - ETA: 27s - loss: 0.5992 - acc: 0.66 - ETA: 27s - loss: 0.5992 - acc: 0.66 - ETA: 27s - loss: 0.5992 - acc: 0.66 - ETA: 27s - loss: 0.5991 - acc: 0.66 - ETA: 27s - loss: 0.5992 - acc: 0.66 - ETA: 27s - loss: 0.5991 - acc: 0.66 - ETA: 27s - loss: 0.5991 - acc: 0.66 - ETA: 27s - loss: 0.5990 - acc: 0.66 - ETA: 27s - loss: 0.5989 - acc: 0.66 - ETA: 26s - loss: 0.5988 - acc: 0.67 - ETA: 26s - loss: 0.5988 - acc: 0.67 - ETA: 26s - loss: 0.5989 - acc: 0.67 - ETA: 26s - loss: 0.5986 - acc: 0.67 - ETA: 26s - loss: 0.5988 - acc: 0.67 - ETA: 26s - loss: 0.5987 - acc: 0.67 - ETA: 26s - loss: 0.5987 - acc: 0.67 - ETA: 26s - loss: 0.5988 - acc: 0.67 - ETA: 26s - loss: 0.5990 - acc: 0.67 - ETA: 26s - loss: 0.5990 - acc: 0.67 - ETA: 25s - loss: 0.5992 - acc: 0.66 - ETA: 25s - loss: 0.5990 - acc: 0.67 - ETA: 25s - loss: 0.5991 - acc: 0.67 - ETA: 25s - loss: 0.5991 - acc: 0.67 - ETA: 25s - loss: 0.5992 - acc: 0.66 - ETA: 25s - loss: 0.5991 - acc: 0.67 - ETA: 25s - loss: 0.5990 - acc: 0.67 - ETA: 25s - loss: 0.5990 - acc: 0.67 - ETA: 25s - loss: 0.5990 - acc: 0.67 - ETA: 24s - loss: 0.5989 - acc: 0.67 - ETA: 24s - loss: 0.5990 - acc: 0.67 - ETA: 24s - loss: 0.5988 - acc: 0.67 - ETA: 24s - loss: 0.5989 - acc: 0.67 - ETA: 24s - loss: 0.5990 - acc: 0.67 - ETA: 24s - loss: 0.5991 - acc: 0.67 - ETA: 24s - loss: 0.5992 - acc: 0.67 - ETA: 24s - loss: 0.5992 - acc: 0.67 - ETA: 24s - loss: 0.5992 - acc: 0.67 - ETA: 24s - loss: 0.5991 - acc: 0.67 - ETA: 23s - loss: 0.5990 - acc: 0.67 - ETA: 23s - loss: 0.5991 - acc: 0.67 - ETA: 23s - loss: 0.5991 - acc: 0.67 - ETA: 23s - loss: 0.5991 - acc: 0.67 - ETA: 23s - loss: 0.5991 - acc: 0.67 - ETA: 23s - loss: 0.5990 - acc: 0.67 - ETA: 23s - loss: 0.5990 - acc: 0.67 - ETA: 23s - loss: 0.5989 - acc: 0.67 - ETA: 23s - loss: 0.5989 - acc: 0.67 - ETA: 23s - loss: 0.5991 - acc: 0.67 - ETA: 22s - loss: 0.5992 - acc: 0.67 - ETA: 22s - loss: 0.5992 - acc: 0.67 - ETA: 22s - loss: 0.5993 - acc: 0.67 - ETA: 22s - loss: 0.5992 - acc: 0.67 - ETA: 22s - loss: 0.5993 - acc: 0.67 - ETA: 22s - loss: 0.5992 - acc: 0.67 - ETA: 22s - loss: 0.5993 - acc: 0.67 - ETA: 22s - loss: 0.5995 - acc: 0.67 - ETA: 22s - loss: 0.5995 - acc: 0.67 - ETA: 21s - loss: 0.5996 - acc: 0.67 - ETA: 21s - loss: 0.5996 - acc: 0.67 - ETA: 21s - loss: 0.5996 - acc: 0.67 - ETA: 21s - loss: 0.5996 - acc: 0.67 - ETA: 21s - loss: 0.5996 - acc: 0.67 - ETA: 21s - loss: 0.5996 - acc: 0.67 - ETA: 21s - loss: 0.5997 - acc: 0.66 - ETA: 21s - loss: 0.5996 - acc: 0.67 - ETA: 21s - loss: 0.5998 - acc: 0.66 - ETA: 21s - loss: 0.5997 - acc: 0.66 - ETA: 20s - loss: 0.5997 - acc: 0.67 - ETA: 20s - loss: 0.5995 - acc: 0.67 - ETA: 20s - loss: 0.5994 - acc: 0.67 - ETA: 20s - loss: 0.5994 - acc: 0.67 - ETA: 20s - loss: 0.5995 - acc: 0.67 - ETA: 20s - loss: 0.5995 - acc: 0.67 - ETA: 20s - loss: 0.5998 - acc: 0.67 - ETA: 20s - loss: 0.5999 - acc: 0.66 - ETA: 20s - loss: 0.6000 - acc: 0.66 - ETA: 20s - loss: 0.6001 - acc: 0.66 - ETA: 19s - loss: 0.5999 - acc: 0.66 - ETA: 19s - loss: 0.5999 - acc: 0.66 - ETA: 19s - loss: 0.5998 - acc: 0.66 - ETA: 19s - loss: 0.5998 - acc: 0.66 - ETA: 19s - loss: 0.5998 - acc: 0.66 - ETA: 19s - loss: 0.5998 - acc: 0.66 - ETA: 19s - loss: 0.6000 - acc: 0.66 - ETA: 19s - loss: 0.6000 - acc: 0.66 - ETA: 19s - loss: 0.5999 - acc: 0.66 - ETA: 18s - loss: 0.5999 - acc: 0.66 - ETA: 18s - loss: 0.5998 - acc: 0.66 - ETA: 18s - loss: 0.5998 - acc: 0.66 - ETA: 18s - loss: 0.5997 - acc: 0.67 - ETA: 18s - loss: 0.5995 - acc: 0.67 - ETA: 18s - loss: 0.5994 - acc: 0.67 - ETA: 18s - loss: 0.5995 - acc: 0.67 - ETA: 18s - loss: 0.5995 - acc: 0.67 - ETA: 18s - loss: 0.5995 - acc: 0.67 - ETA: 18s - loss: 0.5994 - acc: 0.67 - ETA: 17s - loss: 0.5993 - acc: 0.67 - ETA: 17s - loss: 0.5993 - acc: 0.67 - ETA: 17s - loss: 0.5993 - acc: 0.67 - ETA: 17s - loss: 0.5992 - acc: 0.67 - ETA: 17s - loss: 0.5992 - acc: 0.67 - ETA: 17s - loss: 0.5992 - acc: 0.67 - ETA: 17s - loss: 0.5991 - acc: 0.67 - ETA: 17s - loss: 0.5991 - acc: 0.67 - ETA: 17s - loss: 0.5991 - acc: 0.67 - ETA: 16s - loss: 0.5990 - acc: 0.67 - ETA: 16s - loss: 0.5989 - acc: 0.67 - ETA: 16s - loss: 0.5989 - acc: 0.67 - ETA: 16s - loss: 0.5989 - acc: 0.67 - ETA: 16s - loss: 0.5990 - acc: 0.67 - ETA: 16s - loss: 0.5990 - acc: 0.67 - ETA: 16s - loss: 0.5991 - acc: 0.67 - ETA: 16s - loss: 0.5992 - acc: 0.67 - ETA: 16s - loss: 0.5992 - acc: 0.67 - ETA: 16s - loss: 0.5991 - acc: 0.67 - ETA: 15s - loss: 0.5992 - acc: 0.67 - ETA: 15s - loss: 0.5993 - acc: 0.67 - ETA: 15s - loss: 0.5992 - acc: 0.67 - ETA: 15s - loss: 0.5991 - acc: 0.67 - ETA: 15s - loss: 0.5989 - acc: 0.67 - ETA: 15s - loss: 0.5989 - acc: 0.67 - ETA: 15s - loss: 0.5989 - acc: 0.67 - ETA: 15s - loss: 0.5988 - acc: 0.67 - ETA: 15s - loss: 0.5988 - acc: 0.67 - ETA: 15s - loss: 0.5988 - acc: 0.67 - ETA: 14s - loss: 0.5988 - acc: 0.67 - ETA: 14s - loss: 0.5989 - acc: 0.67 - ETA: 14s - loss: 0.5988 - acc: 0.67 - ETA: 14s - loss: 0.5988 - acc: 0.67 - ETA: 14s - loss: 0.5988 - acc: 0.67 - ETA: 14s - loss: 0.5988 - acc: 0.67 - ETA: 14s - loss: 0.5988 - acc: 0.67 - ETA: 14s - loss: 0.5988 - acc: 0.67 - ETA: 14s - loss: 0.5988 - acc: 0.67 - ETA: 13s - loss: 0.5986 - acc: 0.67 - ETA: 13s - loss: 0.5986 - acc: 0.67 - ETA: 13s - loss: 0.5986 - acc: 0.67 - ETA: 13s - loss: 0.5987 - acc: 0.67 - ETA: 13s - loss: 0.5986 - acc: 0.67 - ETA: 13s - loss: 0.5985 - acc: 0.67 - ETA: 13s - loss: 0.5986 - acc: 0.6705"
     ]
    },
    {
     "name": "stdout",
     "output_type": "stream",
     "text": [
      "767/767 [==============================] - ETA: 13s - loss: 0.5987 - acc: 0.67 - ETA: 13s - loss: 0.5989 - acc: 0.67 - ETA: 13s - loss: 0.5990 - acc: 0.67 - ETA: 12s - loss: 0.5990 - acc: 0.67 - ETA: 12s - loss: 0.5988 - acc: 0.67 - ETA: 12s - loss: 0.5988 - acc: 0.67 - ETA: 12s - loss: 0.5987 - acc: 0.67 - ETA: 12s - loss: 0.5988 - acc: 0.67 - ETA: 12s - loss: 0.5988 - acc: 0.67 - ETA: 12s - loss: 0.5988 - acc: 0.67 - ETA: 12s - loss: 0.5988 - acc: 0.67 - ETA: 12s - loss: 0.5988 - acc: 0.67 - ETA: 12s - loss: 0.5988 - acc: 0.67 - ETA: 11s - loss: 0.5988 - acc: 0.67 - ETA: 11s - loss: 0.5989 - acc: 0.67 - ETA: 11s - loss: 0.5990 - acc: 0.67 - ETA: 11s - loss: 0.5990 - acc: 0.67 - ETA: 11s - loss: 0.5989 - acc: 0.67 - ETA: 11s - loss: 0.5990 - acc: 0.66 - ETA: 11s - loss: 0.5990 - acc: 0.66 - ETA: 11s - loss: 0.5991 - acc: 0.66 - ETA: 11s - loss: 0.5992 - acc: 0.66 - ETA: 10s - loss: 0.5991 - acc: 0.66 - ETA: 10s - loss: 0.5992 - acc: 0.66 - ETA: 10s - loss: 0.5991 - acc: 0.66 - ETA: 10s - loss: 0.5990 - acc: 0.66 - ETA: 10s - loss: 0.5989 - acc: 0.66 - ETA: 10s - loss: 0.5990 - acc: 0.66 - ETA: 10s - loss: 0.5991 - acc: 0.66 - ETA: 10s - loss: 0.5991 - acc: 0.66 - ETA: 10s - loss: 0.5991 - acc: 0.66 - ETA: 10s - loss: 0.5991 - acc: 0.66 - ETA: 9s - loss: 0.5991 - acc: 0.6696 - ETA: 9s - loss: 0.5991 - acc: 0.669 - ETA: 9s - loss: 0.5991 - acc: 0.669 - ETA: 9s - loss: 0.5990 - acc: 0.669 - ETA: 9s - loss: 0.5988 - acc: 0.669 - ETA: 9s - loss: 0.5989 - acc: 0.669 - ETA: 9s - loss: 0.5989 - acc: 0.669 - ETA: 9s - loss: 0.5990 - acc: 0.669 - ETA: 9s - loss: 0.5989 - acc: 0.669 - ETA: 9s - loss: 0.5989 - acc: 0.669 - ETA: 8s - loss: 0.5990 - acc: 0.669 - ETA: 8s - loss: 0.5991 - acc: 0.669 - ETA: 8s - loss: 0.5991 - acc: 0.669 - ETA: 8s - loss: 0.5990 - acc: 0.669 - ETA: 8s - loss: 0.5991 - acc: 0.669 - ETA: 8s - loss: 0.5991 - acc: 0.669 - ETA: 8s - loss: 0.5990 - acc: 0.669 - ETA: 8s - loss: 0.5990 - acc: 0.669 - ETA: 8s - loss: 0.5990 - acc: 0.669 - ETA: 7s - loss: 0.5991 - acc: 0.669 - ETA: 7s - loss: 0.5991 - acc: 0.669 - ETA: 7s - loss: 0.5991 - acc: 0.669 - ETA: 7s - loss: 0.5992 - acc: 0.669 - ETA: 7s - loss: 0.5994 - acc: 0.668 - ETA: 7s - loss: 0.5994 - acc: 0.668 - ETA: 7s - loss: 0.5994 - acc: 0.668 - ETA: 7s - loss: 0.5994 - acc: 0.668 - ETA: 7s - loss: 0.5995 - acc: 0.668 - ETA: 7s - loss: 0.5995 - acc: 0.668 - ETA: 6s - loss: 0.5994 - acc: 0.668 - ETA: 6s - loss: 0.5993 - acc: 0.668 - ETA: 6s - loss: 0.5994 - acc: 0.668 - ETA: 6s - loss: 0.5993 - acc: 0.669 - ETA: 6s - loss: 0.5992 - acc: 0.669 - ETA: 6s - loss: 0.5992 - acc: 0.669 - ETA: 6s - loss: 0.5992 - acc: 0.669 - ETA: 6s - loss: 0.5993 - acc: 0.668 - ETA: 6s - loss: 0.5993 - acc: 0.668 - ETA: 5s - loss: 0.5994 - acc: 0.668 - ETA: 5s - loss: 0.5993 - acc: 0.668 - ETA: 5s - loss: 0.5992 - acc: 0.669 - ETA: 5s - loss: 0.5991 - acc: 0.669 - ETA: 5s - loss: 0.5991 - acc: 0.669 - ETA: 5s - loss: 0.5991 - acc: 0.669 - ETA: 5s - loss: 0.5991 - acc: 0.669 - ETA: 5s - loss: 0.5990 - acc: 0.669 - ETA: 5s - loss: 0.5991 - acc: 0.669 - ETA: 5s - loss: 0.5990 - acc: 0.669 - ETA: 4s - loss: 0.5992 - acc: 0.668 - ETA: 4s - loss: 0.5993 - acc: 0.668 - ETA: 4s - loss: 0.5993 - acc: 0.668 - ETA: 4s - loss: 0.5993 - acc: 0.668 - ETA: 4s - loss: 0.5993 - acc: 0.668 - ETA: 4s - loss: 0.5993 - acc: 0.668 - ETA: 4s - loss: 0.5992 - acc: 0.669 - ETA: 4s - loss: 0.5992 - acc: 0.669 - ETA: 4s - loss: 0.5991 - acc: 0.669 - ETA: 4s - loss: 0.5991 - acc: 0.669 - ETA: 3s - loss: 0.5990 - acc: 0.669 - ETA: 3s - loss: 0.5990 - acc: 0.669 - ETA: 3s - loss: 0.5990 - acc: 0.669 - ETA: 3s - loss: 0.5991 - acc: 0.669 - ETA: 3s - loss: 0.5991 - acc: 0.669 - ETA: 3s - loss: 0.5991 - acc: 0.669 - ETA: 3s - loss: 0.5991 - acc: 0.669 - ETA: 3s - loss: 0.5992 - acc: 0.669 - ETA: 3s - loss: 0.5991 - acc: 0.669 - ETA: 2s - loss: 0.5991 - acc: 0.669 - ETA: 2s - loss: 0.5991 - acc: 0.669 - ETA: 2s - loss: 0.5992 - acc: 0.669 - ETA: 2s - loss: 0.5993 - acc: 0.668 - ETA: 2s - loss: 0.5992 - acc: 0.669 - ETA: 2s - loss: 0.5991 - acc: 0.669 - ETA: 2s - loss: 0.5992 - acc: 0.668 - ETA: 2s - loss: 0.5992 - acc: 0.668 - ETA: 2s - loss: 0.5992 - acc: 0.668 - ETA: 2s - loss: 0.5992 - acc: 0.668 - ETA: 1s - loss: 0.5993 - acc: 0.668 - ETA: 1s - loss: 0.5993 - acc: 0.668 - ETA: 1s - loss: 0.5992 - acc: 0.668 - ETA: 1s - loss: 0.5992 - acc: 0.668 - ETA: 1s - loss: 0.5991 - acc: 0.669 - ETA: 1s - loss: 0.5990 - acc: 0.669 - ETA: 1s - loss: 0.5990 - acc: 0.669 - ETA: 1s - loss: 0.5990 - acc: 0.669 - ETA: 1s - loss: 0.5990 - acc: 0.669 - ETA: 1s - loss: 0.5990 - acc: 0.668 - ETA: 0s - loss: 0.5990 - acc: 0.669 - ETA: 0s - loss: 0.5990 - acc: 0.669 - ETA: 0s - loss: 0.5990 - acc: 0.669 - ETA: 0s - loss: 0.5991 - acc: 0.669 - ETA: 0s - loss: 0.5990 - acc: 0.669 - ETA: 0s - loss: 0.5990 - acc: 0.669 - ETA: 0s - loss: 0.5990 - acc: 0.669 - ETA: 0s - loss: 0.5990 - acc: 0.669 - ETA: 0s - loss: 0.5991 - acc: 0.669 - 79s 103ms/step - loss: 0.5991 - acc: 0.6693\n"
     ]
    },
    {
     "data": {
      "text/plain": [
       "<keras.callbacks.History at 0x13085390>"
      ]
     },
     "execution_count": 39,
     "metadata": {},
     "output_type": "execute_result"
    }
   ],
   "source": [
    "model.fit_generator(batch_generator, epochs=1)"
   ]
  },
  {
   "cell_type": "code",
   "execution_count": null,
   "metadata": {},
   "outputs": [],
   "source": []
  },
  {
   "cell_type": "code",
   "execution_count": 40,
   "metadata": {
    "ExecuteTime": {
     "end_time": "2019-03-25T10:54:16.267397Z",
     "start_time": "2019-03-25T10:54:16.253017Z"
    }
   },
   "outputs": [],
   "source": [
    "import sys"
   ]
  },
  {
   "cell_type": "code",
   "execution_count": 41,
   "metadata": {
    "ExecuteTime": {
     "end_time": "2019-03-25T10:54:16.316527Z",
     "start_time": "2019-03-25T10:54:16.301829Z"
    }
   },
   "outputs": [],
   "source": [
    "sys.path.append('../nikita')"
   ]
  },
  {
   "cell_type": "code",
   "execution_count": 42,
   "metadata": {
    "ExecuteTime": {
     "end_time": "2019-03-25T10:54:27.945511Z",
     "start_time": "2019-03-25T10:54:27.927611Z"
    }
   },
   "outputs": [],
   "source": [
    "from evaluating import permutation_importance"
   ]
  },
  {
   "cell_type": "code",
   "execution_count": 43,
   "metadata": {
    "ExecuteTime": {
     "end_time": "2019-03-25T10:55:25.361836Z",
     "start_time": "2019-03-25T10:55:05.296452Z"
    }
   },
   "outputs": [],
   "source": [
    "batch_generator = BatchGenerator(1024, 1024)"
   ]
  },
  {
   "cell_type": "code",
   "execution_count": 44,
   "metadata": {
    "ExecuteTime": {
     "end_time": "2019-03-25T10:55:57.460240Z",
     "start_time": "2019-03-25T10:55:57.444817Z"
    }
   },
   "outputs": [],
   "source": [
    "import pickle"
   ]
  },
  {
   "cell_type": "code",
   "execution_count": 45,
   "metadata": {
    "ExecuteTime": {
     "end_time": "2019-03-25T11:09:36.572793Z",
     "start_time": "2019-03-25T11:09:36.567810Z"
    }
   },
   "outputs": [],
   "source": [
    "fn = {\n",
    "  \"que\": [\n",
    "#     \"students_location\",\n",
    "#     \"students_state\",\n",
    "#     \"students_questions_asked\",\n",
    "#     \"students_average_question_age\",\n",
    "#     \"students_average_question_body_length\",\n",
    "#     \"students_average_answer_body_length\",\n",
    "#     \"students_date_joined_time\",\n",
    "#     \"students_date_joined_doy_sin\",\n",
    "#     \"students_date_joined_doy_cos\",\n",
    "#     \"students_date_joined_dow\",\n",
    "#     \"questions_body_length\",\n",
    "#     \"questions_date_added_time\",\n",
    "#     \"questions_date_added_doy_sin\",\n",
    "#     \"questions_date_added_doy_cos\",\n",
    "#     \"questions_date_added_dow\",\n",
    "#     \"questions_date_added_hour_sin\",\n",
    "#     \"questions_date_added_hour_cos\",\n",
    "#     \"questions_current_time\",\n",
    "  ],\n",
    "  \"pro\": [\n",
    "#     \"professionals_industry\",\n",
    "#     \"professionals_location\",\n",
    "#     \"professionals_state\",\n",
    "#     \"professionals_questions_answered\",\n",
    "#     \"professionals_average_question_age\",\n",
    "#     \"professionals_average_question_body_length\",\n",
    "#     \"professionals_average_answer_body_length\",\n",
    "#     \"professionals_email_activated\",\n",
    "#     \"professionals_date_joined_time\",\n",
    "#     \"professionals_date_joined_doy_sin\",\n",
    "#     \"professionals_date_joined_doy_cos\",\n",
    "#     \"professionals_date_joined_dow\",\n",
    "#     \"professionals_last_answer_date_time\",\n",
    "#     \"professionals_current_time\"\n",
    "  ]\n",
    "}"
   ]
  },
  {
   "cell_type": "code",
   "execution_count": 46,
   "metadata": {
    "ExecuteTime": {
     "end_time": "2019-03-25T11:10:32.401898Z",
     "start_time": "2019-03-25T11:10:32.397662Z"
    }
   },
   "outputs": [],
   "source": [
    "fn['que'] += [f'que_emb_{i}' for i in range(10)]"
   ]
  },
  {
   "cell_type": "code",
   "execution_count": 47,
   "metadata": {
    "ExecuteTime": {
     "end_time": "2019-03-25T11:10:44.611753Z",
     "start_time": "2019-03-25T11:10:44.607735Z"
    }
   },
   "outputs": [],
   "source": [
    "fn['pro'] += [f'pro_emb_{i}' for i in range(10)]"
   ]
  },
  {
   "cell_type": "code",
   "execution_count": 48,
   "metadata": {
    "ExecuteTime": {
     "end_time": "2019-03-25T11:18:14.129900Z",
     "start_time": "2019-03-25T11:18:14.125914Z"
    }
   },
   "outputs": [],
   "source": [
    "fn['text'] = [f'que_emb_{i}' for i in range(10)] + [f'pro_emb_{i}' for i in range(10)]"
   ]
  },
  {
   "cell_type": "code",
   "execution_count": 49,
   "metadata": {
    "ExecuteTime": {
     "end_time": "2019-03-25T11:10:56.998710Z",
     "start_time": "2019-03-25T11:10:56.992733Z"
    }
   },
   "outputs": [
    {
     "data": {
      "text/plain": [
       "(10, 10)"
      ]
     },
     "execution_count": 49,
     "metadata": {},
     "output_type": "execute_result"
    }
   ],
   "source": [
    "len(fn['que']), len(fn['pro'])"
   ]
  },
  {
   "cell_type": "code",
   "execution_count": 50,
   "metadata": {
    "ExecuteTime": {
     "end_time": "2019-03-25T11:10:00.350072Z",
     "start_time": "2019-03-25T11:10:00.175532Z"
    }
   },
   "outputs": [
    {
     "data": {
      "text/plain": [
       "((2048, 10), (2048, 10))"
      ]
     },
     "execution_count": 50,
     "metadata": {},
     "output_type": "execute_result"
    }
   ],
   "source": [
    "batch_generator[0][0][0].shape, batch_generator[0][0][1].shape"
   ]
  },
  {
   "cell_type": "code",
   "execution_count": 51,
   "metadata": {
    "ExecuteTime": {
     "end_time": "2019-03-25T11:22:28.522659Z",
     "start_time": "2019-03-25T11:22:28.516427Z"
    }
   },
   "outputs": [],
   "source": [
    "from jupyterthemes import jtplot\n",
    "jtplot.style('gruvboxd')"
   ]
  },
  {
   "cell_type": "code",
   "execution_count": 52,
   "metadata": {
    "ExecuteTime": {
     "end_time": "2019-03-25T11:13:57.377020Z",
     "start_time": "2019-03-25T11:13:57.373033Z"
    },
    "scrolled": true
   },
   "outputs": [],
   "source": [
    "import evaluating"
   ]
  },
  {
   "cell_type": "code",
   "execution_count": 53,
   "metadata": {
    "ExecuteTime": {
     "end_time": "2019-03-25T11:21:31.996787Z",
     "start_time": "2019-03-25T11:21:31.981450Z"
    }
   },
   "outputs": [
    {
     "data": {
      "text/plain": [
       "<module 'evaluating' from 'C:\\\\Users\\\\dell\\\\Notebooks\\\\cv\\\\kostya\\\\evaluating.py'>"
      ]
     },
     "execution_count": 53,
     "metadata": {},
     "output_type": "execute_result"
    }
   ],
   "source": [
    "import imp\n",
    "imp.reload(evaluating)"
   ]
  },
  {
   "cell_type": "code",
   "execution_count": 54,
   "metadata": {
    "ExecuteTime": {
     "end_time": "2019-03-25T11:22:04.453115Z",
     "start_time": "2019-03-25T11:21:44.536941Z"
    },
    "scrolled": true
   },
   "outputs": [
    {
     "name": "stdout",
     "output_type": "stream",
     "text": [
      "2048/2048 [==============================] - ETA:  - ETA:  - 0s 68us/step\n"
     ]
    },
    {
     "data": {
      "application/vnd.jupyter.widget-view+json": {
       "model_id": "d986991acd964bf298f0951d8715680d",
       "version_major": 2,
       "version_minor": 0
      },
      "text/plain": [
       "HBox(children=(IntProgress(value=0, max=20), HTML(value='')))"
      ]
     },
     "metadata": {},
     "output_type": "display_data"
    },
    {
     "name": "stdout",
     "output_type": "stream",
     "text": [
      "\n"
     ]
    }
   ],
   "source": [
    "fi = evaluating.permutation_importance(model, batch_generator[0][0][0], batch_generator[0][0][1], batch_generator[0][1], fn)"
   ]
  },
  {
   "cell_type": "code",
   "execution_count": 55,
   "metadata": {
    "ExecuteTime": {
     "end_time": "2019-03-25T11:22:16.491396Z",
     "start_time": "2019-03-25T11:22:16.482419Z"
    },
    "scrolled": true
   },
   "outputs": [
    {
     "data": {
      "text/html": [
       "<div>\n",
       "<style scoped>\n",
       "    .dataframe tbody tr th:only-of-type {\n",
       "        vertical-align: middle;\n",
       "    }\n",
       "\n",
       "    .dataframe tbody tr th {\n",
       "        vertical-align: top;\n",
       "    }\n",
       "\n",
       "    .dataframe thead th {\n",
       "        text-align: right;\n",
       "    }\n",
       "</style>\n",
       "<table border=\"1\" class=\"dataframe\">\n",
       "  <thead>\n",
       "    <tr style=\"text-align: right;\">\n",
       "      <th></th>\n",
       "      <th>importance</th>\n",
       "    </tr>\n",
       "  </thead>\n",
       "  <tbody>\n",
       "    <tr>\n",
       "      <th>pro_emb_4</th>\n",
       "      <td>0.051256</td>\n",
       "    </tr>\n",
       "    <tr>\n",
       "      <th>pro_emb_5</th>\n",
       "      <td>0.035922</td>\n",
       "    </tr>\n",
       "    <tr>\n",
       "      <th>pro_emb_2</th>\n",
       "      <td>0.028637</td>\n",
       "    </tr>\n",
       "    <tr>\n",
       "      <th>pro_emb_8</th>\n",
       "      <td>0.023986</td>\n",
       "    </tr>\n",
       "    <tr>\n",
       "      <th>pro_emb_6</th>\n",
       "      <td>0.019153</td>\n",
       "    </tr>\n",
       "    <tr>\n",
       "      <th>que_emb_8</th>\n",
       "      <td>0.014115</td>\n",
       "    </tr>\n",
       "    <tr>\n",
       "      <th>que_emb_9</th>\n",
       "      <td>0.011166</td>\n",
       "    </tr>\n",
       "    <tr>\n",
       "      <th>que_emb_3</th>\n",
       "      <td>0.007691</td>\n",
       "    </tr>\n",
       "    <tr>\n",
       "      <th>que_emb_7</th>\n",
       "      <td>0.007307</td>\n",
       "    </tr>\n",
       "    <tr>\n",
       "      <th>pro_emb_9</th>\n",
       "      <td>0.006249</td>\n",
       "    </tr>\n",
       "    <tr>\n",
       "      <th>pro_emb_3</th>\n",
       "      <td>0.006015</td>\n",
       "    </tr>\n",
       "    <tr>\n",
       "      <th>pro_emb_0</th>\n",
       "      <td>0.005936</td>\n",
       "    </tr>\n",
       "    <tr>\n",
       "      <th>que_emb_6</th>\n",
       "      <td>0.005870</td>\n",
       "    </tr>\n",
       "    <tr>\n",
       "      <th>que_emb_2</th>\n",
       "      <td>0.004854</td>\n",
       "    </tr>\n",
       "    <tr>\n",
       "      <th>que_emb_1</th>\n",
       "      <td>0.003549</td>\n",
       "    </tr>\n",
       "    <tr>\n",
       "      <th>pro_emb_7</th>\n",
       "      <td>0.003502</td>\n",
       "    </tr>\n",
       "    <tr>\n",
       "      <th>que_emb_4</th>\n",
       "      <td>0.002532</td>\n",
       "    </tr>\n",
       "    <tr>\n",
       "      <th>que_emb_5</th>\n",
       "      <td>0.000437</td>\n",
       "    </tr>\n",
       "    <tr>\n",
       "      <th>que_emb_0</th>\n",
       "      <td>0.000414</td>\n",
       "    </tr>\n",
       "    <tr>\n",
       "      <th>pro_emb_1</th>\n",
       "      <td>-0.008503</td>\n",
       "    </tr>\n",
       "  </tbody>\n",
       "</table>\n",
       "</div>"
      ],
      "text/plain": [
       "           importance\n",
       "pro_emb_4    0.051256\n",
       "pro_emb_5    0.035922\n",
       "pro_emb_2    0.028637\n",
       "pro_emb_8    0.023986\n",
       "pro_emb_6    0.019153\n",
       "que_emb_8    0.014115\n",
       "que_emb_9    0.011166\n",
       "que_emb_3    0.007691\n",
       "que_emb_7    0.007307\n",
       "pro_emb_9    0.006249\n",
       "pro_emb_3    0.006015\n",
       "pro_emb_0    0.005936\n",
       "que_emb_6    0.005870\n",
       "que_emb_2    0.004854\n",
       "que_emb_1    0.003549\n",
       "pro_emb_7    0.003502\n",
       "que_emb_4    0.002532\n",
       "que_emb_5    0.000437\n",
       "que_emb_0    0.000414\n",
       "pro_emb_1   -0.008503"
      ]
     },
     "execution_count": 55,
     "metadata": {},
     "output_type": "execute_result"
    }
   ],
   "source": [
    "fi.sort_values(by='importance', ascending=False)"
   ]
  },
  {
   "cell_type": "code",
   "execution_count": 56,
   "metadata": {
    "ExecuteTime": {
     "end_time": "2019-03-25T11:22:41.218129Z",
     "start_time": "2019-03-25T11:22:40.414824Z"
    },
    "scrolled": true
   },
   "outputs": [
    {
     "data": {
      "image/png": "[encoded data removed]",
      "text/plain": [
       "<Figure size 576x1440 with 1 Axes>"
      ]
     },
     "metadata": {},
     "output_type": "display_data"
    }
   ],
   "source": [
    "evaluating.plot_fi(fi, fn)"
   ]
  },
  {
   "cell_type": "code",
   "execution_count": null,
   "metadata": {},
   "outputs": [],
   "source": []
  }
 ],
 "metadata": {
  "kernelspec": {
   "display_name": "Python 3",
   "language": "python",
   "name": "python3"
  },
  "language_info": {
   "codemirror_mode": {
    "name": "ipython",
    "version": 3
   },
   "file_extension": ".py",
   "mimetype": "text/x-python",
   "name": "python",
   "nbconvert_exporter": "python",
   "pygments_lexer": "ipython3",
   "version": "3.6.4"
  },
  "toc": {
   "base_numbering": 1,
   "nav_menu": {},
   "number_sections": true,
   "sideBar": true,
   "skip_h1_title": false,
   "title_cell": "Table of Contents",
   "title_sidebar": "Contents",
   "toc_cell": false,
   "toc_position": {},
   "toc_section_display": true,
   "toc_window_display": false
  },
  "varInspector": {
   "cols": {
    "lenName": 16,
    "lenType": 16,
    "lenVar": 40
   },
   "kernels_config": {
    "python": {
     "delete_cmd_postfix": "",
     "delete_cmd_prefix": "del ",
     "library": "var_list.py",
     "varRefreshCmd": "print(var_dic_list())"
    },
    "r": {
     "delete_cmd_postfix": ") ",
     "delete_cmd_prefix": "rm(",
     "library": "var_list.r",
     "varRefreshCmd": "cat(var_dic_list()) "
    }
   },
   "types_to_exclude": [
    "module",
    "function",
    "builtin_function_or_method",
    "instance",
    "_Feature"
   ],
   "window_display": false
  }
 },
 "nbformat": 4,
 "nbformat_minor": 2
}
