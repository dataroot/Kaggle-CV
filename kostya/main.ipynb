{
 "cells": [
  {
   "cell_type": "code",
   "execution_count": 1,
   "metadata": {},
   "outputs": [],
   "source": [
    "import numpy as np # linear algebra\n",
    "import pandas as pd # data processing, CSV file I/O (e.g. pd.read_csv)\n",
    "import seaborn as sns\n",
    "import matplotlib.pyplot as plt\n",
    "%matplotlib inline"
   ]
  },
  {
   "cell_type": "code",
   "execution_count": 2,
   "metadata": {},
   "outputs": [],
   "source": [
    "emails = pd.read_csv('data/emails.csv')\n",
    "questions = pd.read_csv('data/questions.csv')\n",
    "professionals = pd.read_csv('data/professionals.csv')\n",
    "comments = pd.read_csv('data/comments.csv')\n",
    "tag_users = pd.read_csv('data/tag_users.csv')\n",
    "group_memberships = pd.read_csv('data/group_memberships.csv')\n",
    "tags = pd.read_csv('data/tags.csv')\n",
    "students = pd.read_csv('data/students.csv')\n",
    "groups = pd.read_csv('data/groups.csv')\n",
    "tag_questions = pd.read_csv('data/tag_questions.csv')\n",
    "matches = pd.read_csv('data/matches.csv')\n",
    "answers = pd.read_csv('data/answers.csv')\n",
    "school_memberships = pd.read_csv('data/school_memberships.csv')"
   ]
  },
  {
   "cell_type": "code",
   "execution_count": 3,
   "metadata": {},
   "outputs": [
    {
     "data": {
      "text/html": [
       "<div>\n",
       "<style scoped>\n",
       "    .dataframe tbody tr th:only-of-type {\n",
       "        vertical-align: middle;\n",
       "    }\n",
       "\n",
       "    .dataframe tbody tr th {\n",
       "        vertical-align: top;\n",
       "    }\n",
       "\n",
       "    .dataframe thead th {\n",
       "        text-align: right;\n",
       "    }\n",
       "</style>\n",
       "<table border=\"1\" class=\"dataframe\">\n",
       "  <thead>\n",
       "    <tr style=\"text-align: right;\">\n",
       "      <th></th>\n",
       "      <th>emails_id</th>\n",
       "      <th>emails_recipient_id</th>\n",
       "      <th>emails_date_sent</th>\n",
       "      <th>emails_frequency_level</th>\n",
       "    </tr>\n",
       "  </thead>\n",
       "  <tbody>\n",
       "    <tr>\n",
       "      <th>0</th>\n",
       "      <td>2337714</td>\n",
       "      <td>0c673e046d824ec0ad0ebe012a0673e4</td>\n",
       "      <td>2018-12-07 01:05:40 UTC+0000</td>\n",
       "      <td>email_notification_daily</td>\n",
       "    </tr>\n",
       "    <tr>\n",
       "      <th>1</th>\n",
       "      <td>2336077</td>\n",
       "      <td>0c673e046d824ec0ad0ebe012a0673e4</td>\n",
       "      <td>2018-12-06 01:14:15 UTC+0000</td>\n",
       "      <td>email_notification_daily</td>\n",
       "    </tr>\n",
       "    <tr>\n",
       "      <th>2</th>\n",
       "      <td>2314660</td>\n",
       "      <td>0c673e046d824ec0ad0ebe012a0673e4</td>\n",
       "      <td>2018-11-17 00:38:27 UTC+0000</td>\n",
       "      <td>email_notification_daily</td>\n",
       "    </tr>\n",
       "    <tr>\n",
       "      <th>3</th>\n",
       "      <td>2312639</td>\n",
       "      <td>0c673e046d824ec0ad0ebe012a0673e4</td>\n",
       "      <td>2018-11-16 00:32:19 UTC+0000</td>\n",
       "      <td>email_notification_daily</td>\n",
       "    </tr>\n",
       "    <tr>\n",
       "      <th>4</th>\n",
       "      <td>2299700</td>\n",
       "      <td>0c673e046d824ec0ad0ebe012a0673e4</td>\n",
       "      <td>2018-11-08 00:16:40 UTC+0000</td>\n",
       "      <td>email_notification_daily</td>\n",
       "    </tr>\n",
       "  </tbody>\n",
       "</table>\n",
       "</div>"
      ],
      "text/plain": [
       "   emails_id               emails_recipient_id              emails_date_sent  \\\n",
       "0    2337714  0c673e046d824ec0ad0ebe012a0673e4  2018-12-07 01:05:40 UTC+0000   \n",
       "1    2336077  0c673e046d824ec0ad0ebe012a0673e4  2018-12-06 01:14:15 UTC+0000   \n",
       "2    2314660  0c673e046d824ec0ad0ebe012a0673e4  2018-11-17 00:38:27 UTC+0000   \n",
       "3    2312639  0c673e046d824ec0ad0ebe012a0673e4  2018-11-16 00:32:19 UTC+0000   \n",
       "4    2299700  0c673e046d824ec0ad0ebe012a0673e4  2018-11-08 00:16:40 UTC+0000   \n",
       "\n",
       "     emails_frequency_level  \n",
       "0  email_notification_daily  \n",
       "1  email_notification_daily  \n",
       "2  email_notification_daily  \n",
       "3  email_notification_daily  \n",
       "4  email_notification_daily  "
      ]
     },
     "execution_count": 3,
     "metadata": {},
     "output_type": "execute_result"
    }
   ],
   "source": [
    "emails.head()"
   ]
  },
  {
   "cell_type": "code",
   "execution_count": 4,
   "metadata": {},
   "outputs": [
    {
     "data": {
      "text/html": [
       "<div>\n",
       "<style scoped>\n",
       "    .dataframe tbody tr th:only-of-type {\n",
       "        vertical-align: middle;\n",
       "    }\n",
       "\n",
       "    .dataframe tbody tr th {\n",
       "        vertical-align: top;\n",
       "    }\n",
       "\n",
       "    .dataframe thead th {\n",
       "        text-align: right;\n",
       "    }\n",
       "</style>\n",
       "<table border=\"1\" class=\"dataframe\">\n",
       "  <thead>\n",
       "    <tr style=\"text-align: right;\">\n",
       "      <th></th>\n",
       "      <th>comments_id</th>\n",
       "      <th>comments_author_id</th>\n",
       "      <th>comments_parent_content_id</th>\n",
       "      <th>comments_date_added</th>\n",
       "      <th>comments_body</th>\n",
       "    </tr>\n",
       "  </thead>\n",
       "  <tbody>\n",
       "    <tr>\n",
       "      <th>0</th>\n",
       "      <td>f30250d3c2ca489db1afa9b95d481e08</td>\n",
       "      <td>9fc88a7c3323466dbb35798264c7d497</td>\n",
       "      <td>b476f9c6d9cd4c50a7bacdd90edd015a</td>\n",
       "      <td>2019-01-31 23:39:40 UTC+0000</td>\n",
       "      <td>First, you speak to recruiters. They are train...</td>\n",
       "    </tr>\n",
       "    <tr>\n",
       "      <th>1</th>\n",
       "      <td>ca9bfc4ba9464ea383a8b080301ad72c</td>\n",
       "      <td>de2415064b9b445c8717425ed70fd99a</td>\n",
       "      <td>ef4b6ae24d1f4c3b977731e8189c7fd7</td>\n",
       "      <td>2019-01-31 20:30:47 UTC+0000</td>\n",
       "      <td>Most large universities offer study abroad pro...</td>\n",
       "    </tr>\n",
       "    <tr>\n",
       "      <th>2</th>\n",
       "      <td>c354f6e33956499aa8b03798a60e9386</td>\n",
       "      <td>6ed20605002a42b0b8e3d6ac97c50c7f</td>\n",
       "      <td>ca7a9d7a95df471c816db82ee758f57d</td>\n",
       "      <td>2019-01-31 18:44:04 UTC+0000</td>\n",
       "      <td>First, I want to put you at ease that the oppo...</td>\n",
       "    </tr>\n",
       "    <tr>\n",
       "      <th>3</th>\n",
       "      <td>73a6223948714c5da6231937157e4cb7</td>\n",
       "      <td>d02f6d9faac24997a7003a59e5f34bd3</td>\n",
       "      <td>c7a88aa76f5f49b0830bfeb46ba17e4d</td>\n",
       "      <td>2019-01-31 17:53:28 UTC+0000</td>\n",
       "      <td>Your question submission was great! I just wan...</td>\n",
       "    </tr>\n",
       "    <tr>\n",
       "      <th>4</th>\n",
       "      <td>55a89a9061d44dd19569c45f90a22779</td>\n",
       "      <td>e78f75c543e84e1c94da1801d8560f65</td>\n",
       "      <td>c7a88aa76f5f49b0830bfeb46ba17e4d</td>\n",
       "      <td>2019-01-31 14:51:53 UTC+0000</td>\n",
       "      <td>Thank you. I'm new to this site. I'm sorry if ...</td>\n",
       "    </tr>\n",
       "  </tbody>\n",
       "</table>\n",
       "</div>"
      ],
      "text/plain": [
       "                        comments_id                comments_author_id  \\\n",
       "0  f30250d3c2ca489db1afa9b95d481e08  9fc88a7c3323466dbb35798264c7d497   \n",
       "1  ca9bfc4ba9464ea383a8b080301ad72c  de2415064b9b445c8717425ed70fd99a   \n",
       "2  c354f6e33956499aa8b03798a60e9386  6ed20605002a42b0b8e3d6ac97c50c7f   \n",
       "3  73a6223948714c5da6231937157e4cb7  d02f6d9faac24997a7003a59e5f34bd3   \n",
       "4  55a89a9061d44dd19569c45f90a22779  e78f75c543e84e1c94da1801d8560f65   \n",
       "\n",
       "         comments_parent_content_id           comments_date_added  \\\n",
       "0  b476f9c6d9cd4c50a7bacdd90edd015a  2019-01-31 23:39:40 UTC+0000   \n",
       "1  ef4b6ae24d1f4c3b977731e8189c7fd7  2019-01-31 20:30:47 UTC+0000   \n",
       "2  ca7a9d7a95df471c816db82ee758f57d  2019-01-31 18:44:04 UTC+0000   \n",
       "3  c7a88aa76f5f49b0830bfeb46ba17e4d  2019-01-31 17:53:28 UTC+0000   \n",
       "4  c7a88aa76f5f49b0830bfeb46ba17e4d  2019-01-31 14:51:53 UTC+0000   \n",
       "\n",
       "                                       comments_body  \n",
       "0  First, you speak to recruiters. They are train...  \n",
       "1  Most large universities offer study abroad pro...  \n",
       "2  First, I want to put you at ease that the oppo...  \n",
       "3  Your question submission was great! I just wan...  \n",
       "4  Thank you. I'm new to this site. I'm sorry if ...  "
      ]
     },
     "execution_count": 4,
     "metadata": {},
     "output_type": "execute_result"
    }
   ],
   "source": [
    "comments.head()"
   ]
  },
  {
   "cell_type": "code",
   "execution_count": 6,
   "metadata": {},
   "outputs": [
    {
     "data": {
      "text/html": [
       "<div>\n",
       "<style scoped>\n",
       "    .dataframe tbody tr th:only-of-type {\n",
       "        vertical-align: middle;\n",
       "    }\n",
       "\n",
       "    .dataframe tbody tr th {\n",
       "        vertical-align: top;\n",
       "    }\n",
       "\n",
       "    .dataframe thead th {\n",
       "        text-align: right;\n",
       "    }\n",
       "</style>\n",
       "<table border=\"1\" class=\"dataframe\">\n",
       "  <thead>\n",
       "    <tr style=\"text-align: right;\">\n",
       "      <th></th>\n",
       "      <th>questions_id</th>\n",
       "      <th>questions_author_id</th>\n",
       "      <th>questions_date_added</th>\n",
       "      <th>questions_title</th>\n",
       "      <th>questions_body</th>\n",
       "    </tr>\n",
       "  </thead>\n",
       "  <tbody>\n",
       "    <tr>\n",
       "      <th>0</th>\n",
       "      <td>332a511f1569444485cf7a7a556a5e54</td>\n",
       "      <td>8f6f374ffd834d258ab69d376dd998f5</td>\n",
       "      <td>2016-04-26 11:14:26 UTC+0000</td>\n",
       "      <td>Teacher   career   question</td>\n",
       "      <td>What  is  a  maths  teacher?   what  is  a  ma...</td>\n",
       "    </tr>\n",
       "    <tr>\n",
       "      <th>1</th>\n",
       "      <td>eb80205482e4424cad8f16bc25aa2d9c</td>\n",
       "      <td>acccbda28edd4362ab03fb8b6fd2d67b</td>\n",
       "      <td>2016-05-20 16:48:25 UTC+0000</td>\n",
       "      <td>I want to become an army officer. What can I d...</td>\n",
       "      <td>I am Priyanka from Bangalore . Now am in 10th ...</td>\n",
       "    </tr>\n",
       "    <tr>\n",
       "      <th>2</th>\n",
       "      <td>4ec31632938a40b98909416bdd0decff</td>\n",
       "      <td>f2c179a563024ccc927399ce529094b5</td>\n",
       "      <td>2017-02-08 19:13:38 UTC+0000</td>\n",
       "      <td>Will going abroad for your first job increase ...</td>\n",
       "      <td>I'm planning on going abroad for my first job....</td>\n",
       "    </tr>\n",
       "    <tr>\n",
       "      <th>3</th>\n",
       "      <td>2f6a9a99d9b24e5baa50d40d0ba50a75</td>\n",
       "      <td>2c30ffba444e40eabb4583b55233a5a4</td>\n",
       "      <td>2017-09-01 14:05:32 UTC+0000</td>\n",
       "      <td>To become a specialist in business  management...</td>\n",
       "      <td>i hear business management is a hard way to ge...</td>\n",
       "    </tr>\n",
       "    <tr>\n",
       "      <th>4</th>\n",
       "      <td>5af8880460c141dbb02971a1a8369529</td>\n",
       "      <td>aa9eb1a2ab184ebbb00dc01ab663428a</td>\n",
       "      <td>2017-09-01 02:36:54 UTC+0000</td>\n",
       "      <td>Are there any scholarships out there for stude...</td>\n",
       "      <td>I'm trying to find scholarships for first year...</td>\n",
       "    </tr>\n",
       "  </tbody>\n",
       "</table>\n",
       "</div>"
      ],
      "text/plain": [
       "                       questions_id               questions_author_id  \\\n",
       "0  332a511f1569444485cf7a7a556a5e54  8f6f374ffd834d258ab69d376dd998f5   \n",
       "1  eb80205482e4424cad8f16bc25aa2d9c  acccbda28edd4362ab03fb8b6fd2d67b   \n",
       "2  4ec31632938a40b98909416bdd0decff  f2c179a563024ccc927399ce529094b5   \n",
       "3  2f6a9a99d9b24e5baa50d40d0ba50a75  2c30ffba444e40eabb4583b55233a5a4   \n",
       "4  5af8880460c141dbb02971a1a8369529  aa9eb1a2ab184ebbb00dc01ab663428a   \n",
       "\n",
       "           questions_date_added  \\\n",
       "0  2016-04-26 11:14:26 UTC+0000   \n",
       "1  2016-05-20 16:48:25 UTC+0000   \n",
       "2  2017-02-08 19:13:38 UTC+0000   \n",
       "3  2017-09-01 14:05:32 UTC+0000   \n",
       "4  2017-09-01 02:36:54 UTC+0000   \n",
       "\n",
       "                                     questions_title  \\\n",
       "0                        Teacher   career   question   \n",
       "1  I want to become an army officer. What can I d...   \n",
       "2  Will going abroad for your first job increase ...   \n",
       "3  To become a specialist in business  management...   \n",
       "4  Are there any scholarships out there for stude...   \n",
       "\n",
       "                                      questions_body  \n",
       "0  What  is  a  maths  teacher?   what  is  a  ma...  \n",
       "1  I am Priyanka from Bangalore . Now am in 10th ...  \n",
       "2  I'm planning on going abroad for my first job....  \n",
       "3  i hear business management is a hard way to ge...  \n",
       "4  I'm trying to find scholarships for first year...  "
      ]
     },
     "execution_count": 6,
     "metadata": {},
     "output_type": "execute_result"
    }
   ],
   "source": [
    "questions.head()"
   ]
  },
  {
   "cell_type": "code",
   "execution_count": 7,
   "metadata": {},
   "outputs": [
    {
     "data": {
      "text/html": [
       "<div>\n",
       "<style scoped>\n",
       "    .dataframe tbody tr th:only-of-type {\n",
       "        vertical-align: middle;\n",
       "    }\n",
       "\n",
       "    .dataframe tbody tr th {\n",
       "        vertical-align: top;\n",
       "    }\n",
       "\n",
       "    .dataframe thead th {\n",
       "        text-align: right;\n",
       "    }\n",
       "</style>\n",
       "<table border=\"1\" class=\"dataframe\">\n",
       "  <thead>\n",
       "    <tr style=\"text-align: right;\">\n",
       "      <th></th>\n",
       "      <th>matches_email_id</th>\n",
       "      <th>matches_question_id</th>\n",
       "    </tr>\n",
       "  </thead>\n",
       "  <tbody>\n",
       "    <tr>\n",
       "      <th>0</th>\n",
       "      <td>1721939</td>\n",
       "      <td>332a511f1569444485cf7a7a556a5e54</td>\n",
       "    </tr>\n",
       "    <tr>\n",
       "      <th>1</th>\n",
       "      <td>1665388</td>\n",
       "      <td>332a511f1569444485cf7a7a556a5e54</td>\n",
       "    </tr>\n",
       "    <tr>\n",
       "      <th>2</th>\n",
       "      <td>1636634</td>\n",
       "      <td>332a511f1569444485cf7a7a556a5e54</td>\n",
       "    </tr>\n",
       "    <tr>\n",
       "      <th>3</th>\n",
       "      <td>1635498</td>\n",
       "      <td>332a511f1569444485cf7a7a556a5e54</td>\n",
       "    </tr>\n",
       "    <tr>\n",
       "      <th>4</th>\n",
       "      <td>1620298</td>\n",
       "      <td>332a511f1569444485cf7a7a556a5e54</td>\n",
       "    </tr>\n",
       "  </tbody>\n",
       "</table>\n",
       "</div>"
      ],
      "text/plain": [
       "   matches_email_id               matches_question_id\n",
       "0           1721939  332a511f1569444485cf7a7a556a5e54\n",
       "1           1665388  332a511f1569444485cf7a7a556a5e54\n",
       "2           1636634  332a511f1569444485cf7a7a556a5e54\n",
       "3           1635498  332a511f1569444485cf7a7a556a5e54\n",
       "4           1620298  332a511f1569444485cf7a7a556a5e54"
      ]
     },
     "execution_count": 7,
     "metadata": {},
     "output_type": "execute_result"
    }
   ],
   "source": [
    "matches.head()"
   ]
  },
  {
   "cell_type": "code",
   "execution_count": 8,
   "metadata": {},
   "outputs": [
    {
     "data": {
      "text/html": [
       "<div>\n",
       "<style scoped>\n",
       "    .dataframe tbody tr th:only-of-type {\n",
       "        vertical-align: middle;\n",
       "    }\n",
       "\n",
       "    .dataframe tbody tr th {\n",
       "        vertical-align: top;\n",
       "    }\n",
       "\n",
       "    .dataframe thead th {\n",
       "        text-align: right;\n",
       "    }\n",
       "</style>\n",
       "<table border=\"1\" class=\"dataframe\">\n",
       "  <thead>\n",
       "    <tr style=\"text-align: right;\">\n",
       "      <th></th>\n",
       "      <th>tag_questions_tag_id</th>\n",
       "      <th>tag_questions_question_id</th>\n",
       "    </tr>\n",
       "  </thead>\n",
       "  <tbody>\n",
       "    <tr>\n",
       "      <th>0</th>\n",
       "      <td>28930</td>\n",
       "      <td>cb43ebee01364c68ac61d347a393ae39</td>\n",
       "    </tr>\n",
       "    <tr>\n",
       "      <th>1</th>\n",
       "      <td>28930</td>\n",
       "      <td>47f55e85ce944242a5a347ab85a8ffb4</td>\n",
       "    </tr>\n",
       "    <tr>\n",
       "      <th>2</th>\n",
       "      <td>28930</td>\n",
       "      <td>ccc30a033a0f4dfdb2eb987012f25792</td>\n",
       "    </tr>\n",
       "    <tr>\n",
       "      <th>3</th>\n",
       "      <td>28930</td>\n",
       "      <td>e30b274e48d741f7bf50eb5e7171a3c0</td>\n",
       "    </tr>\n",
       "    <tr>\n",
       "      <th>4</th>\n",
       "      <td>28930</td>\n",
       "      <td>3d22742052df4989b311b4195cbb0f1a</td>\n",
       "    </tr>\n",
       "  </tbody>\n",
       "</table>\n",
       "</div>"
      ],
      "text/plain": [
       "   tag_questions_tag_id         tag_questions_question_id\n",
       "0                 28930  cb43ebee01364c68ac61d347a393ae39\n",
       "1                 28930  47f55e85ce944242a5a347ab85a8ffb4\n",
       "2                 28930  ccc30a033a0f4dfdb2eb987012f25792\n",
       "3                 28930  e30b274e48d741f7bf50eb5e7171a3c0\n",
       "4                 28930  3d22742052df4989b311b4195cbb0f1a"
      ]
     },
     "execution_count": 8,
     "metadata": {},
     "output_type": "execute_result"
    }
   ],
   "source": [
    "tag_questions.head()"
   ]
  },
  {
   "cell_type": "code",
   "execution_count": 9,
   "metadata": {},
   "outputs": [
    {
     "data": {
      "text/html": [
       "<div>\n",
       "<style scoped>\n",
       "    .dataframe tbody tr th:only-of-type {\n",
       "        vertical-align: middle;\n",
       "    }\n",
       "\n",
       "    .dataframe tbody tr th {\n",
       "        vertical-align: top;\n",
       "    }\n",
       "\n",
       "    .dataframe thead th {\n",
       "        text-align: right;\n",
       "    }\n",
       "</style>\n",
       "<table border=\"1\" class=\"dataframe\">\n",
       "  <thead>\n",
       "    <tr style=\"text-align: right;\">\n",
       "      <th></th>\n",
       "      <th>tags_tag_id</th>\n",
       "      <th>tags_tag_name</th>\n",
       "    </tr>\n",
       "  </thead>\n",
       "  <tbody>\n",
       "    <tr>\n",
       "      <th>0</th>\n",
       "      <td>27490</td>\n",
       "      <td>college</td>\n",
       "    </tr>\n",
       "    <tr>\n",
       "      <th>1</th>\n",
       "      <td>461</td>\n",
       "      <td>computer-science</td>\n",
       "    </tr>\n",
       "    <tr>\n",
       "      <th>2</th>\n",
       "      <td>593</td>\n",
       "      <td>computer-software</td>\n",
       "    </tr>\n",
       "    <tr>\n",
       "      <th>3</th>\n",
       "      <td>27292</td>\n",
       "      <td>business</td>\n",
       "    </tr>\n",
       "    <tr>\n",
       "      <th>4</th>\n",
       "      <td>18217</td>\n",
       "      <td>doctor</td>\n",
       "    </tr>\n",
       "  </tbody>\n",
       "</table>\n",
       "</div>"
      ],
      "text/plain": [
       "   tags_tag_id      tags_tag_name\n",
       "0        27490            college\n",
       "1          461   computer-science\n",
       "2          593  computer-software\n",
       "3        27292           business\n",
       "4        18217             doctor"
      ]
     },
     "execution_count": 9,
     "metadata": {},
     "output_type": "execute_result"
    }
   ],
   "source": [
    "tags.head()"
   ]
  },
  {
   "cell_type": "code",
   "execution_count": 15,
   "metadata": {},
   "outputs": [
    {
     "data": {
      "text/plain": [
       "27490    3744\n",
       "129      1566\n",
       "89       1324\n",
       "54       1083\n",
       "27292     989\n",
       "Name: tag_questions_tag_id, dtype: int64"
      ]
     },
     "execution_count": 15,
     "metadata": {},
     "output_type": "execute_result"
    }
   ],
   "source": [
    "tag_questions.tag_questions_tag_id.value_counts().head()"
   ]
  },
  {
   "cell_type": "code",
   "execution_count": 33,
   "metadata": {},
   "outputs": [
    {
     "data": {
      "text/html": [
       "<div>\n",
       "<style scoped>\n",
       "    .dataframe tbody tr th:only-of-type {\n",
       "        vertical-align: middle;\n",
       "    }\n",
       "\n",
       "    .dataframe tbody tr th {\n",
       "        vertical-align: top;\n",
       "    }\n",
       "\n",
       "    .dataframe thead th {\n",
       "        text-align: right;\n",
       "    }\n",
       "</style>\n",
       "<table border=\"1\" class=\"dataframe\">\n",
       "  <thead>\n",
       "    <tr style=\"text-align: right;\">\n",
       "      <th></th>\n",
       "      <th>number_of_tags</th>\n",
       "      <th>number_of_questions</th>\n",
       "    </tr>\n",
       "  </thead>\n",
       "  <tbody>\n",
       "    <tr>\n",
       "      <th>0</th>\n",
       "      <td>1</td>\n",
       "      <td>5056</td>\n",
       "    </tr>\n",
       "    <tr>\n",
       "      <th>1</th>\n",
       "      <td>2</td>\n",
       "      <td>4652</td>\n",
       "    </tr>\n",
       "    <tr>\n",
       "      <th>2</th>\n",
       "      <td>3</td>\n",
       "      <td>4510</td>\n",
       "    </tr>\n",
       "    <tr>\n",
       "      <th>3</th>\n",
       "      <td>4</td>\n",
       "      <td>3524</td>\n",
       "    </tr>\n",
       "    <tr>\n",
       "      <th>4</th>\n",
       "      <td>5</td>\n",
       "      <td>2466</td>\n",
       "    </tr>\n",
       "    <tr>\n",
       "      <th>5</th>\n",
       "      <td>6</td>\n",
       "      <td>1480</td>\n",
       "    </tr>\n",
       "    <tr>\n",
       "      <th>6</th>\n",
       "      <td>7</td>\n",
       "      <td>713</td>\n",
       "    </tr>\n",
       "    <tr>\n",
       "      <th>7</th>\n",
       "      <td>8</td>\n",
       "      <td>574</td>\n",
       "    </tr>\n",
       "    <tr>\n",
       "      <th>8</th>\n",
       "      <td>9</td>\n",
       "      <td>133</td>\n",
       "    </tr>\n",
       "    <tr>\n",
       "      <th>9</th>\n",
       "      <td>10</td>\n",
       "      <td>63</td>\n",
       "    </tr>\n",
       "  </tbody>\n",
       "</table>\n",
       "</div>"
      ],
      "text/plain": [
       "   number_of_tags  number_of_questions\n",
       "0               1                 5056\n",
       "1               2                 4652\n",
       "2               3                 4510\n",
       "3               4                 3524\n",
       "4               5                 2466\n",
       "5               6                 1480\n",
       "6               7                  713\n",
       "7               8                  574\n",
       "8               9                  133\n",
       "9              10                   63"
      ]
     },
     "execution_count": 33,
     "metadata": {},
     "output_type": "execute_result"
    }
   ],
   "source": [
    "(tag_questions.groupby('tag_questions_question_id').count().reset_index()\n",
    " .groupby('tag_questions_tag_id').count().reset_index().rename(\n",
    "     columns={'tag_questions_question_id': 'number_of_questions',\n",
    "              'tag_questions_tag_id': 'number_of_tags'\n",
    "             })).head(10)"
   ]
  },
  {
   "cell_type": "code",
   "execution_count": 41,
   "metadata": {},
   "outputs": [
    {
     "data": {
      "text/html": [
       "<div>\n",
       "<style scoped>\n",
       "    .dataframe tbody tr th:only-of-type {\n",
       "        vertical-align: middle;\n",
       "    }\n",
       "\n",
       "    .dataframe tbody tr th {\n",
       "        vertical-align: top;\n",
       "    }\n",
       "\n",
       "    .dataframe thead th {\n",
       "        text-align: right;\n",
       "    }\n",
       "</style>\n",
       "<table border=\"1\" class=\"dataframe\">\n",
       "  <thead>\n",
       "    <tr style=\"text-align: right;\">\n",
       "      <th></th>\n",
       "      <th></th>\n",
       "    </tr>\n",
       "    <tr>\n",
       "      <th>tag_questions_question_id</th>\n",
       "      <th>tag_questions_tag_id</th>\n",
       "    </tr>\n",
       "  </thead>\n",
       "  <tbody>\n",
       "    <tr>\n",
       "      <th>cb43ebee01364c68ac61d347a393ae39</th>\n",
       "      <th>28930</th>\n",
       "    </tr>\n",
       "    <tr>\n",
       "      <th>47f55e85ce944242a5a347ab85a8ffb4</th>\n",
       "      <th>28930</th>\n",
       "    </tr>\n",
       "    <tr>\n",
       "      <th>ccc30a033a0f4dfdb2eb987012f25792</th>\n",
       "      <th>28930</th>\n",
       "    </tr>\n",
       "    <tr>\n",
       "      <th>e30b274e48d741f7bf50eb5e7171a3c0</th>\n",
       "      <th>28930</th>\n",
       "    </tr>\n",
       "    <tr>\n",
       "      <th>3d22742052df4989b311b4195cbb0f1a</th>\n",
       "      <th>28930</th>\n",
       "    </tr>\n",
       "  </tbody>\n",
       "</table>\n",
       "</div>"
      ],
      "text/plain": [
       "Empty DataFrame\n",
       "Columns: []\n",
       "Index: [(cb43ebee01364c68ac61d347a393ae39, 28930), (47f55e85ce944242a5a347ab85a8ffb4, 28930), (ccc30a033a0f4dfdb2eb987012f25792, 28930), (e30b274e48d741f7bf50eb5e7171a3c0, 28930), (3d22742052df4989b311b4195cbb0f1a, 28930)]"
      ]
     },
     "execution_count": 41,
     "metadata": {},
     "output_type": "execute_result"
    }
   ],
   "source": [
    "tag_questions.set_index(['tag_questions_question_id', 'tag_questions_tag_id']).head()"
   ]
  },
  {
   "cell_type": "code",
   "execution_count": 69,
   "metadata": {},
   "outputs": [],
   "source": [
    "tag_groups_dict = tag_questions.groupby('tag_questions_question_id').groups"
   ]
  },
  {
   "cell_type": "code",
   "execution_count": 80,
   "metadata": {},
   "outputs": [
    {
     "name": "stdout",
     "output_type": "stream",
     "text": [
      "0003e7bf48f24b5c985f8fce96e611f3 : [12839, 23735, 29372, 48543, 59166, 59956]\n",
      "0006609dd4da40dcaa5a83e0499aba14 : [42995, 43792]\n",
      "000af224bc2f4e94a19f8b62ba279cc4 : [7919, 32359]\n",
      "000b30fb534b41f7b716fa9ebf9c3f35 : [5633, 30173, 34018, 74570]\n",
      "0018752e44b44e26bb74a0a43232b4d6 : [21722, 57042]\n"
     ]
    }
   ],
   "source": [
    "i = 0\n",
    "for question, tags in tag_groups_dict.items():\n",
    "    tag_groups_dict[question] = list(tags)\n",
    "    \n",
    "    if (i < 5):\n",
    "        print(question, ':', list(tags))\n",
    "    i += 1"
   ]
  },
  {
   "cell_type": "code",
   "execution_count": 82,
   "metadata": {},
   "outputs": [
    {
     "data": {
      "text/html": [
       "<div>\n",
       "<style scoped>\n",
       "    .dataframe tbody tr th:only-of-type {\n",
       "        vertical-align: middle;\n",
       "    }\n",
       "\n",
       "    .dataframe tbody tr th {\n",
       "        vertical-align: top;\n",
       "    }\n",
       "\n",
       "    .dataframe thead th {\n",
       "        text-align: right;\n",
       "    }\n",
       "</style>\n",
       "<table border=\"1\" class=\"dataframe\">\n",
       "  <thead>\n",
       "    <tr style=\"text-align: right;\">\n",
       "      <th></th>\n",
       "      <th>emails_id</th>\n",
       "      <th>emails_recipient_id</th>\n",
       "      <th>emails_date_sent</th>\n",
       "      <th>emails_frequency_level</th>\n",
       "    </tr>\n",
       "  </thead>\n",
       "  <tbody>\n",
       "    <tr>\n",
       "      <th>0</th>\n",
       "      <td>2337714</td>\n",
       "      <td>0c673e046d824ec0ad0ebe012a0673e4</td>\n",
       "      <td>2018-12-07 01:05:40 UTC+0000</td>\n",
       "      <td>email_notification_daily</td>\n",
       "    </tr>\n",
       "    <tr>\n",
       "      <th>1</th>\n",
       "      <td>2336077</td>\n",
       "      <td>0c673e046d824ec0ad0ebe012a0673e4</td>\n",
       "      <td>2018-12-06 01:14:15 UTC+0000</td>\n",
       "      <td>email_notification_daily</td>\n",
       "    </tr>\n",
       "    <tr>\n",
       "      <th>2</th>\n",
       "      <td>2314660</td>\n",
       "      <td>0c673e046d824ec0ad0ebe012a0673e4</td>\n",
       "      <td>2018-11-17 00:38:27 UTC+0000</td>\n",
       "      <td>email_notification_daily</td>\n",
       "    </tr>\n",
       "    <tr>\n",
       "      <th>3</th>\n",
       "      <td>2312639</td>\n",
       "      <td>0c673e046d824ec0ad0ebe012a0673e4</td>\n",
       "      <td>2018-11-16 00:32:19 UTC+0000</td>\n",
       "      <td>email_notification_daily</td>\n",
       "    </tr>\n",
       "    <tr>\n",
       "      <th>4</th>\n",
       "      <td>2299700</td>\n",
       "      <td>0c673e046d824ec0ad0ebe012a0673e4</td>\n",
       "      <td>2018-11-08 00:16:40 UTC+0000</td>\n",
       "      <td>email_notification_daily</td>\n",
       "    </tr>\n",
       "  </tbody>\n",
       "</table>\n",
       "</div>"
      ],
      "text/plain": [
       "   emails_id               emails_recipient_id              emails_date_sent  \\\n",
       "0    2337714  0c673e046d824ec0ad0ebe012a0673e4  2018-12-07 01:05:40 UTC+0000   \n",
       "1    2336077  0c673e046d824ec0ad0ebe012a0673e4  2018-12-06 01:14:15 UTC+0000   \n",
       "2    2314660  0c673e046d824ec0ad0ebe012a0673e4  2018-11-17 00:38:27 UTC+0000   \n",
       "3    2312639  0c673e046d824ec0ad0ebe012a0673e4  2018-11-16 00:32:19 UTC+0000   \n",
       "4    2299700  0c673e046d824ec0ad0ebe012a0673e4  2018-11-08 00:16:40 UTC+0000   \n",
       "\n",
       "     emails_frequency_level  \n",
       "0  email_notification_daily  \n",
       "1  email_notification_daily  \n",
       "2  email_notification_daily  \n",
       "3  email_notification_daily  \n",
       "4  email_notification_daily  "
      ]
     },
     "execution_count": 82,
     "metadata": {},
     "output_type": "execute_result"
    }
   ],
   "source": [
    "emails.head()"
   ]
  },
  {
   "cell_type": "code",
   "execution_count": 110,
   "metadata": {},
   "outputs": [
    {
     "data": {
      "text/plain": [
       "0.0915032679738562"
      ]
     },
     "execution_count": 110,
     "metadata": {},
     "output_type": "execute_result"
    }
   ],
   "source": [
    "professionals.professionals_industry.isna().mean()"
   ]
  },
  {
   "cell_type": "code",
   "execution_count": 126,
   "metadata": {
    "scrolled": true
   },
   "outputs": [],
   "source": [
    "qa = questions.merge(answers, how='right', left_on='questions_id', right_on='answers_question_id')"
   ]
  },
  {
   "cell_type": "code",
   "execution_count": 125,
   "metadata": {},
   "outputs": [
    {
     "data": {
      "text/html": [
       "<div>\n",
       "<style scoped>\n",
       "    .dataframe tbody tr th:only-of-type {\n",
       "        vertical-align: middle;\n",
       "    }\n",
       "\n",
       "    .dataframe tbody tr th {\n",
       "        vertical-align: top;\n",
       "    }\n",
       "\n",
       "    .dataframe thead th {\n",
       "        text-align: right;\n",
       "    }\n",
       "</style>\n",
       "<table border=\"1\" class=\"dataframe\">\n",
       "  <thead>\n",
       "    <tr style=\"text-align: right;\">\n",
       "      <th></th>\n",
       "      <th>questions_id</th>\n",
       "      <th>questions_title</th>\n",
       "      <th>questions_date_added</th>\n",
       "      <th>answers_date_added</th>\n",
       "      <th>professionals_id</th>\n",
       "      <th>professionals_industry</th>\n",
       "    </tr>\n",
       "  </thead>\n",
       "  <tbody>\n",
       "    <tr>\n",
       "      <th>0</th>\n",
       "      <td>332a511f1569444485cf7a7a556a5e54</td>\n",
       "      <td>Teacher   career   question</td>\n",
       "      <td>2016-04-26 11:14:26 UTC+0000</td>\n",
       "      <td>2016-04-29 19:40:14 UTC+0000</td>\n",
       "      <td>36ff3b3666df400f956f8335cf53e09e</td>\n",
       "      <td>Mental Health Care</td>\n",
       "    </tr>\n",
       "    <tr>\n",
       "      <th>1</th>\n",
       "      <td>0f1d6a4f276c4a05878dd48e03e52289</td>\n",
       "      <td>what kind of  college could i go  to for a soc...</td>\n",
       "      <td>2016-05-19 22:16:25 UTC+0000</td>\n",
       "      <td>2016-07-31 15:35:54 UTC+0000</td>\n",
       "      <td>36ff3b3666df400f956f8335cf53e09e</td>\n",
       "      <td>Mental Health Care</td>\n",
       "    </tr>\n",
       "    <tr>\n",
       "      <th>2</th>\n",
       "      <td>0149c6d63e214040b44d4a3789bb00ba</td>\n",
       "      <td>What is the best way to prepare for studying e...</td>\n",
       "      <td>2018-04-12 17:13:45 UTC+0000</td>\n",
       "      <td>2018-04-15 23:08:46 UTC+0000</td>\n",
       "      <td>36ff3b3666df400f956f8335cf53e09e</td>\n",
       "      <td>Mental Health Care</td>\n",
       "    </tr>\n",
       "    <tr>\n",
       "      <th>3</th>\n",
       "      <td>acc611cfb5c44daa8a3d7d65dfffa5ff</td>\n",
       "      <td>How should I prepare myself for my job search ...</td>\n",
       "      <td>2018-08-14 04:49:33 UTC+0000</td>\n",
       "      <td>2018-08-14 10:37:01 UTC+0000</td>\n",
       "      <td>36ff3b3666df400f956f8335cf53e09e</td>\n",
       "      <td>Mental Health Care</td>\n",
       "    </tr>\n",
       "    <tr>\n",
       "      <th>4</th>\n",
       "      <td>b44409c0c83a43578f4f2d0a0e4d8ead</td>\n",
       "      <td>What majors do you recommend in order to be an...</td>\n",
       "      <td>2016-12-07 20:43:41 UTC+0000</td>\n",
       "      <td>2016-12-08 02:26:05 UTC+0000</td>\n",
       "      <td>36ff3b3666df400f956f8335cf53e09e</td>\n",
       "      <td>Mental Health Care</td>\n",
       "    </tr>\n",
       "  </tbody>\n",
       "</table>\n",
       "</div>"
      ],
      "text/plain": [
       "                       questions_id  \\\n",
       "0  332a511f1569444485cf7a7a556a5e54   \n",
       "1  0f1d6a4f276c4a05878dd48e03e52289   \n",
       "2  0149c6d63e214040b44d4a3789bb00ba   \n",
       "3  acc611cfb5c44daa8a3d7d65dfffa5ff   \n",
       "4  b44409c0c83a43578f4f2d0a0e4d8ead   \n",
       "\n",
       "                                     questions_title  \\\n",
       "0                        Teacher   career   question   \n",
       "1  what kind of  college could i go  to for a soc...   \n",
       "2  What is the best way to prepare for studying e...   \n",
       "3  How should I prepare myself for my job search ...   \n",
       "4  What majors do you recommend in order to be an...   \n",
       "\n",
       "           questions_date_added            answers_date_added  \\\n",
       "0  2016-04-26 11:14:26 UTC+0000  2016-04-29 19:40:14 UTC+0000   \n",
       "1  2016-05-19 22:16:25 UTC+0000  2016-07-31 15:35:54 UTC+0000   \n",
       "2  2018-04-12 17:13:45 UTC+0000  2018-04-15 23:08:46 UTC+0000   \n",
       "3  2018-08-14 04:49:33 UTC+0000  2018-08-14 10:37:01 UTC+0000   \n",
       "4  2016-12-07 20:43:41 UTC+0000  2016-12-08 02:26:05 UTC+0000   \n",
       "\n",
       "                   professionals_id professionals_industry  \n",
       "0  36ff3b3666df400f956f8335cf53e09e     Mental Health Care  \n",
       "1  36ff3b3666df400f956f8335cf53e09e     Mental Health Care  \n",
       "2  36ff3b3666df400f956f8335cf53e09e     Mental Health Care  \n",
       "3  36ff3b3666df400f956f8335cf53e09e     Mental Health Care  \n",
       "4  36ff3b3666df400f956f8335cf53e09e     Mental Health Care  "
      ]
     },
     "execution_count": 125,
     "metadata": {},
     "output_type": "execute_result"
    }
   ],
   "source": [
    "qap = qa.merge(professionals, left_on='answers_author_id', right_on='professionals_id')\n",
    "qap = qap[['questions_id', 'questions_title', 'questions_date_added', 'answers_date_added',\n",
    "           'professionals_id', 'professionals_industry']]\n",
    "qap.head()"
   ]
  },
  {
   "cell_type": "code",
   "execution_count": null,
   "metadata": {},
   "outputs": [],
   "source": []
  },
  {
   "cell_type": "code",
   "execution_count": null,
   "metadata": {},
   "outputs": [],
   "source": []
  },
  {
   "cell_type": "code",
   "execution_count": 128,
   "metadata": {},
   "outputs": [
    {
     "data": {
      "text/html": [
       "<div>\n",
       "<style scoped>\n",
       "    .dataframe tbody tr th:only-of-type {\n",
       "        vertical-align: middle;\n",
       "    }\n",
       "\n",
       "    .dataframe tbody tr th {\n",
       "        vertical-align: top;\n",
       "    }\n",
       "\n",
       "    .dataframe thead th {\n",
       "        text-align: right;\n",
       "    }\n",
       "</style>\n",
       "<table border=\"1\" class=\"dataframe\">\n",
       "  <thead>\n",
       "    <tr style=\"text-align: right;\">\n",
       "      <th></th>\n",
       "      <th>emails_id</th>\n",
       "      <th>emails_recipient_id</th>\n",
       "      <th>emails_date_sent</th>\n",
       "      <th>emails_frequency_level</th>\n",
       "    </tr>\n",
       "  </thead>\n",
       "  <tbody>\n",
       "    <tr>\n",
       "      <th>0</th>\n",
       "      <td>2337714</td>\n",
       "      <td>0c673e046d824ec0ad0ebe012a0673e4</td>\n",
       "      <td>2018-12-07 01:05:40 UTC+0000</td>\n",
       "      <td>email_notification_daily</td>\n",
       "    </tr>\n",
       "    <tr>\n",
       "      <th>1</th>\n",
       "      <td>2336077</td>\n",
       "      <td>0c673e046d824ec0ad0ebe012a0673e4</td>\n",
       "      <td>2018-12-06 01:14:15 UTC+0000</td>\n",
       "      <td>email_notification_daily</td>\n",
       "    </tr>\n",
       "    <tr>\n",
       "      <th>2</th>\n",
       "      <td>2314660</td>\n",
       "      <td>0c673e046d824ec0ad0ebe012a0673e4</td>\n",
       "      <td>2018-11-17 00:38:27 UTC+0000</td>\n",
       "      <td>email_notification_daily</td>\n",
       "    </tr>\n",
       "    <tr>\n",
       "      <th>3</th>\n",
       "      <td>2312639</td>\n",
       "      <td>0c673e046d824ec0ad0ebe012a0673e4</td>\n",
       "      <td>2018-11-16 00:32:19 UTC+0000</td>\n",
       "      <td>email_notification_daily</td>\n",
       "    </tr>\n",
       "    <tr>\n",
       "      <th>4</th>\n",
       "      <td>2299700</td>\n",
       "      <td>0c673e046d824ec0ad0ebe012a0673e4</td>\n",
       "      <td>2018-11-08 00:16:40 UTC+0000</td>\n",
       "      <td>email_notification_daily</td>\n",
       "    </tr>\n",
       "  </tbody>\n",
       "</table>\n",
       "</div>"
      ],
      "text/plain": [
       "   emails_id               emails_recipient_id              emails_date_sent  \\\n",
       "0    2337714  0c673e046d824ec0ad0ebe012a0673e4  2018-12-07 01:05:40 UTC+0000   \n",
       "1    2336077  0c673e046d824ec0ad0ebe012a0673e4  2018-12-06 01:14:15 UTC+0000   \n",
       "2    2314660  0c673e046d824ec0ad0ebe012a0673e4  2018-11-17 00:38:27 UTC+0000   \n",
       "3    2312639  0c673e046d824ec0ad0ebe012a0673e4  2018-11-16 00:32:19 UTC+0000   \n",
       "4    2299700  0c673e046d824ec0ad0ebe012a0673e4  2018-11-08 00:16:40 UTC+0000   \n",
       "\n",
       "     emails_frequency_level  \n",
       "0  email_notification_daily  \n",
       "1  email_notification_daily  \n",
       "2  email_notification_daily  \n",
       "3  email_notification_daily  \n",
       "4  email_notification_daily  "
      ]
     },
     "execution_count": 128,
     "metadata": {},
     "output_type": "execute_result"
    }
   ],
   "source": [
    "emails.head()"
   ]
  },
  {
   "cell_type": "code",
   "execution_count": 145,
   "metadata": {},
   "outputs": [
    {
     "name": "stdout",
     "output_type": "stream",
     "text": [
      "106 : [3348214]\n",
      "107 : [3348215]\n",
      "108 : [3348216]\n",
      "110 : [3348217]\n",
      "277 : [1408486]\n"
     ]
    }
   ],
   "source": [
    "matches_groups_dict = matches.groupby('matches_email_id').groups\n",
    "\n",
    "i = 0\n",
    "for email, questions in matches_groups_dict.items():\n",
    "    matches_groups_dict[email] = list(questions)\n",
    "    \n",
    "    if (i < 5):\n",
    "        print(email, ':', list(questions))\n",
    "    i += 1"
   ]
  },
  {
   "cell_type": "code",
   "execution_count": 147,
   "metadata": {},
   "outputs": [],
   "source": [
    "email_questions_dict = matches_groups_dict"
   ]
  },
  {
   "cell_type": "code",
   "execution_count": 146,
   "metadata": {},
   "outputs": [
    {
     "data": {
      "text/plain": [
       "3     986681\n",
       "1     645047\n",
       "2     126182\n",
       "19     12320\n",
       "4       5535\n",
       "Name: matches_question_id, dtype: int64"
      ]
     },
     "execution_count": 146,
     "metadata": {},
     "output_type": "execute_result"
    }
   ],
   "source": [
    "counts.matches_question_id.value_counts().head()"
   ]
  },
  {
   "cell_type": "code",
   "execution_count": 129,
   "metadata": {
    "scrolled": false
   },
   "outputs": [
    {
     "data": {
      "text/html": [
       "<div>\n",
       "<style scoped>\n",
       "    .dataframe tbody tr th:only-of-type {\n",
       "        vertical-align: middle;\n",
       "    }\n",
       "\n",
       "    .dataframe tbody tr th {\n",
       "        vertical-align: top;\n",
       "    }\n",
       "\n",
       "    .dataframe thead th {\n",
       "        text-align: right;\n",
       "    }\n",
       "</style>\n",
       "<table border=\"1\" class=\"dataframe\">\n",
       "  <thead>\n",
       "    <tr style=\"text-align: right;\">\n",
       "      <th></th>\n",
       "      <th>matches_email_id</th>\n",
       "      <th>matches_question_id</th>\n",
       "    </tr>\n",
       "  </thead>\n",
       "  <tbody>\n",
       "    <tr>\n",
       "      <th>0</th>\n",
       "      <td>1721939</td>\n",
       "      <td>332a511f1569444485cf7a7a556a5e54</td>\n",
       "    </tr>\n",
       "    <tr>\n",
       "      <th>1</th>\n",
       "      <td>1665388</td>\n",
       "      <td>332a511f1569444485cf7a7a556a5e54</td>\n",
       "    </tr>\n",
       "    <tr>\n",
       "      <th>2</th>\n",
       "      <td>1636634</td>\n",
       "      <td>332a511f1569444485cf7a7a556a5e54</td>\n",
       "    </tr>\n",
       "    <tr>\n",
       "      <th>3</th>\n",
       "      <td>1635498</td>\n",
       "      <td>332a511f1569444485cf7a7a556a5e54</td>\n",
       "    </tr>\n",
       "    <tr>\n",
       "      <th>4</th>\n",
       "      <td>1620298</td>\n",
       "      <td>332a511f1569444485cf7a7a556a5e54</td>\n",
       "    </tr>\n",
       "  </tbody>\n",
       "</table>\n",
       "</div>"
      ],
      "text/plain": [
       "   matches_email_id               matches_question_id\n",
       "0           1721939  332a511f1569444485cf7a7a556a5e54\n",
       "1           1665388  332a511f1569444485cf7a7a556a5e54\n",
       "2           1636634  332a511f1569444485cf7a7a556a5e54\n",
       "3           1635498  332a511f1569444485cf7a7a556a5e54\n",
       "4           1620298  332a511f1569444485cf7a7a556a5e54"
      ]
     },
     "execution_count": 129,
     "metadata": {},
     "output_type": "execute_result"
    }
   ],
   "source": [
    "matches.head()"
   ]
  },
  {
   "cell_type": "code",
   "execution_count": null,
   "metadata": {},
   "outputs": [],
   "source": []
  },
  {
   "cell_type": "code",
   "execution_count": null,
   "metadata": {},
   "outputs": [],
   "source": []
  },
  {
   "cell_type": "code",
   "execution_count": null,
   "metadata": {},
   "outputs": [],
   "source": []
  },
  {
   "cell_type": "code",
   "execution_count": null,
   "metadata": {},
   "outputs": [],
   "source": []
  },
  {
   "cell_type": "code",
   "execution_count": null,
   "metadata": {},
   "outputs": [],
   "source": []
  },
  {
   "cell_type": "code",
   "execution_count": null,
   "metadata": {},
   "outputs": [],
   "source": []
  },
  {
   "cell_type": "code",
   "execution_count": null,
   "metadata": {},
   "outputs": [],
   "source": []
  },
  {
   "cell_type": "code",
   "execution_count": null,
   "metadata": {},
   "outputs": [],
   "source": []
  },
  {
   "cell_type": "code",
   "execution_count": null,
   "metadata": {},
   "outputs": [],
   "source": []
  },
  {
   "cell_type": "code",
   "execution_count": null,
   "metadata": {},
   "outputs": [],
   "source": []
  },
  {
   "cell_type": "code",
   "execution_count": null,
   "metadata": {},
   "outputs": [],
   "source": []
  },
  {
   "cell_type": "code",
   "execution_count": null,
   "metadata": {},
   "outputs": [],
   "source": []
  },
  {
   "cell_type": "code",
   "execution_count": null,
   "metadata": {},
   "outputs": [],
   "source": []
  },
  {
   "cell_type": "code",
   "execution_count": null,
   "metadata": {},
   "outputs": [],
   "source": []
  }
 ],
 "metadata": {
  "kernelspec": {
   "display_name": "Python 3",
   "language": "python",
   "name": "python3"
  },
  "language_info": {
   "codemirror_mode": {
    "name": "ipython",
    "version": 3
   },
   "file_extension": ".py",
   "mimetype": "text/x-python",
   "name": "python",
   "nbconvert_exporter": "python",
   "pygments_lexer": "ipython3",
   "version": "3.6.4"
  }
 },
 "nbformat": 4,
 "nbformat_minor": 2
}
