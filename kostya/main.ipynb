{
 "cells": [
  {
   "cell_type": "code",
   "execution_count": 1,
   "metadata": {},
   "outputs": [],
   "source": [
    "import numpy as np\n",
    "import pandas as pd\n",
    "import seaborn as sns\n",
    "import matplotlib.pyplot as plt\n",
    "%matplotlib inline"
   ]
  },
  {
   "cell_type": "code",
   "execution_count": 2,
   "metadata": {},
   "outputs": [],
   "source": [
    "emails = pd.read_csv('../../data/emails.csv')\n",
    "questions = pd.read_csv('../../data/questions.csv')\n",
    "professionals = pd.read_csv('../../data/professionals.csv')\n",
    "comments = pd.read_csv('../../data/comments.csv')\n",
    "tag_users = pd.read_csv('../../data/tag_users.csv')\n",
    "group_memberships = pd.read_csv('../../data/group_memberships.csv')\n",
    "tags = pd.read_csv('../../data/tags.csv')\n",
    "students = pd.read_csv('../../data/students.csv')\n",
    "groups = pd.read_csv('../../data/groups.csv')\n",
    "tag_questions = pd.read_csv('../../data/tag_questions.csv')\n",
    "matches = pd.read_csv('../../data/matches.csv')\n",
    "answers = pd.read_csv('../../data/answers.csv')\n",
    "school_memberships = pd.read_csv('../../data/school_memberships.csv')"
   ]
  },
  {
   "cell_type": "markdown",
   "metadata": {},
   "source": [
    "---"
   ]
  },
  {
   "cell_type": "markdown",
   "metadata": {},
   "source": [
    "# Explaratory data analysis"
   ]
  },
  {
   "cell_type": "code",
   "execution_count": 4,
   "metadata": {
    "scrolled": false
   },
   "outputs": [
    {
     "data": {
      "text/plain": [
       "(23110, 1)"
      ]
     },
     "execution_count": 4,
     "metadata": {},
     "output_type": "execute_result"
    }
   ],
   "source": [
    "answered_questions = pd.DataFrame(answers.answers_question_id.unique())\n",
    "answered_questions.shape"
   ]
  },
  {
   "cell_type": "code",
   "execution_count": 5,
   "metadata": {
    "scrolled": true
   },
   "outputs": [
    {
     "data": {
      "text/plain": [
       "(23931, 5)"
      ]
     },
     "execution_count": 5,
     "metadata": {},
     "output_type": "execute_result"
    }
   ],
   "source": [
    "questions.shape"
   ]
  },
  {
   "cell_type": "code",
   "execution_count": null,
   "metadata": {},
   "outputs": [],
   "source": []
  },
  {
   "cell_type": "code",
   "execution_count": 6,
   "metadata": {},
   "outputs": [
    {
     "data": {
      "text/html": [
       "<div>\n",
       "<style scoped>\n",
       "    .dataframe tbody tr th:only-of-type {\n",
       "        vertical-align: middle;\n",
       "    }\n",
       "\n",
       "    .dataframe tbody tr th {\n",
       "        vertical-align: top;\n",
       "    }\n",
       "\n",
       "    .dataframe thead th {\n",
       "        text-align: right;\n",
       "    }\n",
       "</style>\n",
       "<table border=\"1\" class=\"dataframe\">\n",
       "  <thead>\n",
       "    <tr style=\"text-align: right;\">\n",
       "      <th></th>\n",
       "      <th>number_of_tags</th>\n",
       "      <th>number_of_questions</th>\n",
       "    </tr>\n",
       "  </thead>\n",
       "  <tbody>\n",
       "    <tr>\n",
       "      <th>0</th>\n",
       "      <td>1</td>\n",
       "      <td>5056</td>\n",
       "    </tr>\n",
       "    <tr>\n",
       "      <th>1</th>\n",
       "      <td>2</td>\n",
       "      <td>4652</td>\n",
       "    </tr>\n",
       "    <tr>\n",
       "      <th>2</th>\n",
       "      <td>3</td>\n",
       "      <td>4510</td>\n",
       "    </tr>\n",
       "    <tr>\n",
       "      <th>3</th>\n",
       "      <td>4</td>\n",
       "      <td>3524</td>\n",
       "    </tr>\n",
       "    <tr>\n",
       "      <th>4</th>\n",
       "      <td>5</td>\n",
       "      <td>2466</td>\n",
       "    </tr>\n",
       "  </tbody>\n",
       "</table>\n",
       "</div>"
      ],
      "text/plain": [
       "   number_of_tags  number_of_questions\n",
       "0               1                 5056\n",
       "1               2                 4652\n",
       "2               3                 4510\n",
       "3               4                 3524\n",
       "4               5                 2466"
      ]
     },
     "execution_count": 6,
     "metadata": {},
     "output_type": "execute_result"
    }
   ],
   "source": [
    "# Number of questions with given number of tags \n",
    "(tag_questions.groupby('tag_questions_question_id').count().reset_index()\n",
    " .groupby('tag_questions_tag_id').count().reset_index().rename(\n",
    "     columns={'tag_questions_question_id': 'number_of_questions',\n",
    "              'tag_questions_tag_id': 'number_of_tags'\n",
    "             })).head()"
   ]
  },
  {
   "cell_type": "code",
   "execution_count": null,
   "metadata": {},
   "outputs": [],
   "source": []
  },
  {
   "cell_type": "code",
   "execution_count": 7,
   "metadata": {
    "scrolled": true
   },
   "outputs": [
    {
     "data": {
      "text/plain": [
       "51123"
      ]
     },
     "execution_count": 7,
     "metadata": {},
     "output_type": "execute_result"
    }
   ],
   "source": [
    "qa = questions.merge(answers, how='right', left_on='questions_id', right_on='answers_question_id')\n",
    "qa.shape[0]"
   ]
  },
  {
   "cell_type": "code",
   "execution_count": null,
   "metadata": {},
   "outputs": [],
   "source": [
    "# Check how much we lose by removing professional who change status to students and vise versa"
   ]
  },
  {
   "cell_type": "code",
   "execution_count": 13,
   "metadata": {
    "scrolled": false
   },
   "outputs": [
    {
     "name": "stdout",
     "output_type": "stream",
     "text": [
      "50106\n",
      "49723\n"
     ]
    },
    {
     "data": {
      "text/html": [
       "<div>\n",
       "<style scoped>\n",
       "    .dataframe tbody tr th:only-of-type {\n",
       "        vertical-align: middle;\n",
       "    }\n",
       "\n",
       "    .dataframe tbody tr th {\n",
       "        vertical-align: top;\n",
       "    }\n",
       "\n",
       "    .dataframe thead th {\n",
       "        text-align: right;\n",
       "    }\n",
       "</style>\n",
       "<table border=\"1\" class=\"dataframe\">\n",
       "  <thead>\n",
       "    <tr style=\"text-align: right;\">\n",
       "      <th></th>\n",
       "      <th>questions_id</th>\n",
       "      <th>questions_title</th>\n",
       "      <th>questions_date_added</th>\n",
       "      <th>questions_body</th>\n",
       "      <th>answers_id</th>\n",
       "      <th>answers_date_added</th>\n",
       "      <th>answers_body</th>\n",
       "      <th>professionals_id</th>\n",
       "      <th>professionals_location</th>\n",
       "      <th>professionals_industry</th>\n",
       "      <th>professionals_headline</th>\n",
       "      <th>professionals_date_joined</th>\n",
       "      <th>students_id</th>\n",
       "      <th>students_location</th>\n",
       "      <th>students_date_joined</th>\n",
       "    </tr>\n",
       "  </thead>\n",
       "  <tbody>\n",
       "    <tr>\n",
       "      <th>0</th>\n",
       "      <td>332a511f1569444485cf7a7a556a5e54</td>\n",
       "      <td>Teacher   career   question</td>\n",
       "      <td>2016-04-26 11:14:26 UTC+0000</td>\n",
       "      <td>What  is  a  maths  teacher?   what  is  a  ma...</td>\n",
       "      <td>4e5f01128cae4f6d8fd697cec5dca60c</td>\n",
       "      <td>2016-04-29 19:40:14 UTC+0000</td>\n",
       "      <td>&lt;p&gt;Hi!&lt;/p&gt;\\n&lt;p&gt;You are asking a very interesti...</td>\n",
       "      <td>36ff3b3666df400f956f8335cf53e09e</td>\n",
       "      <td>Cleveland, Ohio</td>\n",
       "      <td>Mental Health Care</td>\n",
       "      <td>Assist with Recognizing and Developing Potential</td>\n",
       "      <td>2015-10-19 20:56:49 UTC+0000</td>\n",
       "      <td>8f6f374ffd834d258ab69d376dd998f5</td>\n",
       "      <td>Coimbatore, Tamil Nadu, India</td>\n",
       "      <td>2016-04-22 10:07:32 UTC+0000</td>\n",
       "    </tr>\n",
       "  </tbody>\n",
       "</table>\n",
       "</div>"
      ],
      "text/plain": [
       "                       questions_id              questions_title  \\\n",
       "0  332a511f1569444485cf7a7a556a5e54  Teacher   career   question   \n",
       "\n",
       "           questions_date_added  \\\n",
       "0  2016-04-26 11:14:26 UTC+0000   \n",
       "\n",
       "                                      questions_body  \\\n",
       "0  What  is  a  maths  teacher?   what  is  a  ma...   \n",
       "\n",
       "                         answers_id            answers_date_added  \\\n",
       "0  4e5f01128cae4f6d8fd697cec5dca60c  2016-04-29 19:40:14 UTC+0000   \n",
       "\n",
       "                                        answers_body  \\\n",
       "0  <p>Hi!</p>\\n<p>You are asking a very interesti...   \n",
       "\n",
       "                   professionals_id professionals_location  \\\n",
       "0  36ff3b3666df400f956f8335cf53e09e        Cleveland, Ohio   \n",
       "\n",
       "  professionals_industry                            professionals_headline  \\\n",
       "0     Mental Health Care  Assist with Recognizing and Developing Potential   \n",
       "\n",
       "      professionals_date_joined                       students_id  \\\n",
       "0  2015-10-19 20:56:49 UTC+0000  8f6f374ffd834d258ab69d376dd998f5   \n",
       "\n",
       "               students_location          students_date_joined  \n",
       "0  Coimbatore, Tamil Nadu, India  2016-04-22 10:07:32 UTC+0000  "
      ]
     },
     "execution_count": 13,
     "metadata": {},
     "output_type": "execute_result"
    }
   ],
   "source": [
    "# Check how much we lose by removing professional who change status to students and vise versa\n",
    "temp = qa\n",
    "temp = temp.merge(professionals, how='inner', left_on='answers_author_id', right_on='professionals_id')\n",
    "print(temp.shape[0])\n",
    "temp = temp.merge(students, how='inner', left_on='questions_author_id', right_on='students_id')\n",
    "print(temp.shape[0])\n",
    "\n",
    "# Create que-ans-pro dataset\n",
    "qap = temp[[\n",
    "    'questions_id', 'questions_title', 'questions_date_added', 'questions_body', 'answers_id',\n",
    "    'answers_date_added', 'answers_body', 'professionals_id', 'professionals_location',\n",
    "    'professionals_industry', 'professionals_headline', 'professionals_date_joined',\n",
    "    'students_id', 'students_location', 'students_date_joined'\n",
    "]]\n",
    "qap.head(1)"
   ]
  },
  {
   "cell_type": "markdown",
   "metadata": {},
   "source": [
    "---"
   ]
  },
  {
   "cell_type": "markdown",
   "metadata": {},
   "source": [
    "# Get tag id string for each question"
   ]
  },
  {
   "cell_type": "code",
   "execution_count": 9,
   "metadata": {},
   "outputs": [
    {
     "data": {
      "text/html": [
       "<div>\n",
       "<style scoped>\n",
       "    .dataframe tbody tr th:only-of-type {\n",
       "        vertical-align: middle;\n",
       "    }\n",
       "\n",
       "    .dataframe tbody tr th {\n",
       "        vertical-align: top;\n",
       "    }\n",
       "\n",
       "    .dataframe thead th {\n",
       "        text-align: right;\n",
       "    }\n",
       "</style>\n",
       "<table border=\"1\" class=\"dataframe\">\n",
       "  <thead>\n",
       "    <tr style=\"text-align: right;\">\n",
       "      <th></th>\n",
       "      <th>questions_id</th>\n",
       "      <th>questions_tags</th>\n",
       "    </tr>\n",
       "  </thead>\n",
       "  <tbody>\n",
       "    <tr>\n",
       "      <th>0</th>\n",
       "      <td>0003e7bf48f24b5c985f8fce96e611f3</td>\n",
       "      <td>1707,18073,27330,27510,33630,29649</td>\n",
       "    </tr>\n",
       "    <tr>\n",
       "      <th>1</th>\n",
       "      <td>0006609dd4da40dcaa5a83e0499aba14</td>\n",
       "      <td>18360,18370</td>\n",
       "    </tr>\n",
       "    <tr>\n",
       "      <th>2</th>\n",
       "      <td>000af224bc2f4e94a19f8b62ba279cc4</td>\n",
       "      <td>51,18156</td>\n",
       "    </tr>\n",
       "    <tr>\n",
       "      <th>3</th>\n",
       "      <td>000b30fb534b41f7b716fa9ebf9c3f35</td>\n",
       "      <td>29,12217,18216,25883</td>\n",
       "    </tr>\n",
       "    <tr>\n",
       "      <th>4</th>\n",
       "      <td>0018752e44b44e26bb74a0a43232b4d6</td>\n",
       "      <td>18032,33245</td>\n",
       "    </tr>\n",
       "  </tbody>\n",
       "</table>\n",
       "</div>"
      ],
      "text/plain": [
       "                       questions_id                      questions_tags\n",
       "0  0003e7bf48f24b5c985f8fce96e611f3  1707,18073,27330,27510,33630,29649\n",
       "1  0006609dd4da40dcaa5a83e0499aba14                         18360,18370\n",
       "2  000af224bc2f4e94a19f8b62ba279cc4                            51,18156\n",
       "3  000b30fb534b41f7b716fa9ebf9c3f35                29,12217,18216,25883\n",
       "4  0018752e44b44e26bb74a0a43232b4d6                         18032,33245"
      ]
     },
     "execution_count": 9,
     "metadata": {},
     "output_type": "execute_result"
    }
   ],
   "source": [
    "# Get tags for each question in lists\n",
    "tag_groups = tag_questions.groupby('tag_questions_question_id')\n",
    "tag_groups_dict = {}\n",
    "\n",
    "# Concatenate tag lists in single strings\n",
    "for question_id, tags in tag_groups:\n",
    "    tag_list = tags['tag_questions_tag_id'].apply(str)\n",
    "    tag_groups_dict[question_id] = ','.join(list(tag_list))\n",
    "\n",
    "# Create a DataFrame storing tags for questions in strings\n",
    "tag_groups = pd.DataFrame.from_dict(tag_groups_dict, orient='index').reset_index()\n",
    "tag_groups.rename({'index': 'questions_id', 0: 'questions_tags'}, axis=1, inplace=True)\n",
    "tag_groups.head()\n",
    "\n",
    "# Add question tags to qa_data\n",
    "# qa_data = qa_data.merge(tag_groups, how='left', on='questions_id')"
   ]
  },
  {
   "cell_type": "markdown",
   "metadata": {},
   "source": [
    "---"
   ]
  },
  {
   "cell_type": "markdown",
   "metadata": {},
   "source": [
    "# Compute email_activated feature"
   ]
  },
  {
   "cell_type": "code",
   "execution_count": 19,
   "metadata": {
    "scrolled": true
   },
   "outputs": [
    {
     "data": {
      "text/html": [
       "<div>\n",
       "<style scoped>\n",
       "    .dataframe tbody tr th:only-of-type {\n",
       "        vertical-align: middle;\n",
       "    }\n",
       "\n",
       "    .dataframe tbody tr th {\n",
       "        vertical-align: top;\n",
       "    }\n",
       "\n",
       "    .dataframe thead th {\n",
       "        text-align: right;\n",
       "    }\n",
       "</style>\n",
       "<table border=\"1\" class=\"dataframe\">\n",
       "  <thead>\n",
       "    <tr style=\"text-align: right;\">\n",
       "      <th></th>\n",
       "      <th>professionals_id</th>\n",
       "      <th>professionals_location</th>\n",
       "      <th>professionals_industry</th>\n",
       "      <th>professionals_headline</th>\n",
       "      <th>professionals_date_joined</th>\n",
       "      <th>emails_id</th>\n",
       "      <th>emails_recipient_id</th>\n",
       "      <th>emails_date_sent</th>\n",
       "      <th>emails_frequency_level</th>\n",
       "    </tr>\n",
       "  </thead>\n",
       "  <tbody>\n",
       "    <tr>\n",
       "      <th>0</th>\n",
       "      <td>0c673e046d824ec0ad0ebe012a0673e4</td>\n",
       "      <td>New York, New York</td>\n",
       "      <td>NaN</td>\n",
       "      <td>NaN</td>\n",
       "      <td>2011-10-18 17:31:26 UTC+0000</td>\n",
       "      <td>2337714</td>\n",
       "      <td>0c673e046d824ec0ad0ebe012a0673e4</td>\n",
       "      <td>2018-12-07 01:05:40 UTC+0000</td>\n",
       "      <td>email_notification_daily</td>\n",
       "    </tr>\n",
       "    <tr>\n",
       "      <th>1</th>\n",
       "      <td>0c673e046d824ec0ad0ebe012a0673e4</td>\n",
       "      <td>New York, New York</td>\n",
       "      <td>NaN</td>\n",
       "      <td>NaN</td>\n",
       "      <td>2011-10-18 17:31:26 UTC+0000</td>\n",
       "      <td>2336077</td>\n",
       "      <td>0c673e046d824ec0ad0ebe012a0673e4</td>\n",
       "      <td>2018-12-06 01:14:15 UTC+0000</td>\n",
       "      <td>email_notification_daily</td>\n",
       "    </tr>\n",
       "    <tr>\n",
       "      <th>2</th>\n",
       "      <td>0c673e046d824ec0ad0ebe012a0673e4</td>\n",
       "      <td>New York, New York</td>\n",
       "      <td>NaN</td>\n",
       "      <td>NaN</td>\n",
       "      <td>2011-10-18 17:31:26 UTC+0000</td>\n",
       "      <td>2314660</td>\n",
       "      <td>0c673e046d824ec0ad0ebe012a0673e4</td>\n",
       "      <td>2018-11-17 00:38:27 UTC+0000</td>\n",
       "      <td>email_notification_daily</td>\n",
       "    </tr>\n",
       "    <tr>\n",
       "      <th>3</th>\n",
       "      <td>0c673e046d824ec0ad0ebe012a0673e4</td>\n",
       "      <td>New York, New York</td>\n",
       "      <td>NaN</td>\n",
       "      <td>NaN</td>\n",
       "      <td>2011-10-18 17:31:26 UTC+0000</td>\n",
       "      <td>2312639</td>\n",
       "      <td>0c673e046d824ec0ad0ebe012a0673e4</td>\n",
       "      <td>2018-11-16 00:32:19 UTC+0000</td>\n",
       "      <td>email_notification_daily</td>\n",
       "    </tr>\n",
       "    <tr>\n",
       "      <th>4</th>\n",
       "      <td>0c673e046d824ec0ad0ebe012a0673e4</td>\n",
       "      <td>New York, New York</td>\n",
       "      <td>NaN</td>\n",
       "      <td>NaN</td>\n",
       "      <td>2011-10-18 17:31:26 UTC+0000</td>\n",
       "      <td>2299700</td>\n",
       "      <td>0c673e046d824ec0ad0ebe012a0673e4</td>\n",
       "      <td>2018-11-08 00:16:40 UTC+0000</td>\n",
       "      <td>email_notification_daily</td>\n",
       "    </tr>\n",
       "  </tbody>\n",
       "</table>\n",
       "</div>"
      ],
      "text/plain": [
       "                   professionals_id professionals_location  \\\n",
       "0  0c673e046d824ec0ad0ebe012a0673e4     New York, New York   \n",
       "1  0c673e046d824ec0ad0ebe012a0673e4     New York, New York   \n",
       "2  0c673e046d824ec0ad0ebe012a0673e4     New York, New York   \n",
       "3  0c673e046d824ec0ad0ebe012a0673e4     New York, New York   \n",
       "4  0c673e046d824ec0ad0ebe012a0673e4     New York, New York   \n",
       "\n",
       "  professionals_industry professionals_headline     professionals_date_joined  \\\n",
       "0                    NaN                    NaN  2011-10-18 17:31:26 UTC+0000   \n",
       "1                    NaN                    NaN  2011-10-18 17:31:26 UTC+0000   \n",
       "2                    NaN                    NaN  2011-10-18 17:31:26 UTC+0000   \n",
       "3                    NaN                    NaN  2011-10-18 17:31:26 UTC+0000   \n",
       "4                    NaN                    NaN  2011-10-18 17:31:26 UTC+0000   \n",
       "\n",
       "   emails_id               emails_recipient_id              emails_date_sent  \\\n",
       "0    2337714  0c673e046d824ec0ad0ebe012a0673e4  2018-12-07 01:05:40 UTC+0000   \n",
       "1    2336077  0c673e046d824ec0ad0ebe012a0673e4  2018-12-06 01:14:15 UTC+0000   \n",
       "2    2314660  0c673e046d824ec0ad0ebe012a0673e4  2018-11-17 00:38:27 UTC+0000   \n",
       "3    2312639  0c673e046d824ec0ad0ebe012a0673e4  2018-11-16 00:32:19 UTC+0000   \n",
       "4    2299700  0c673e046d824ec0ad0ebe012a0673e4  2018-11-08 00:16:40 UTC+0000   \n",
       "\n",
       "     emails_frequency_level  \n",
       "0  email_notification_daily  \n",
       "1  email_notification_daily  \n",
       "2  email_notification_daily  \n",
       "3  email_notification_daily  \n",
       "4  email_notification_daily  "
      ]
     },
     "execution_count": 19,
     "metadata": {},
     "output_type": "execute_result"
    }
   ],
   "source": [
    "prof_emails_received = pd.merge(professionals, emails, how='inner', left_on='professionals_id', right_on='emails_recipient_id')\n",
    "prof_emails_received.head()"
   ]
  },
  {
   "cell_type": "code",
   "execution_count": 20,
   "metadata": {},
   "outputs": [
    {
     "data": {
      "text/plain": [
       "(1850101, 9)"
      ]
     },
     "execution_count": 20,
     "metadata": {},
     "output_type": "execute_result"
    }
   ],
   "source": [
    "prof_emails_received.shape"
   ]
  },
  {
   "cell_type": "code",
   "execution_count": 21,
   "metadata": {},
   "outputs": [
    {
     "data": {
      "text/html": [
       "<div>\n",
       "<style scoped>\n",
       "    .dataframe tbody tr th:only-of-type {\n",
       "        vertical-align: middle;\n",
       "    }\n",
       "\n",
       "    .dataframe tbody tr th {\n",
       "        vertical-align: top;\n",
       "    }\n",
       "\n",
       "    .dataframe thead th {\n",
       "        text-align: right;\n",
       "    }\n",
       "</style>\n",
       "<table border=\"1\" class=\"dataframe\">\n",
       "  <thead>\n",
       "    <tr style=\"text-align: right;\">\n",
       "      <th></th>\n",
       "      <th>professionals_id</th>\n",
       "      <th>emails_id</th>\n",
       "      <th>emails_frequency_level</th>\n",
       "      <th>emails_date_sent</th>\n",
       "    </tr>\n",
       "  </thead>\n",
       "  <tbody>\n",
       "    <tr>\n",
       "      <th>0</th>\n",
       "      <td>0c673e046d824ec0ad0ebe012a0673e4</td>\n",
       "      <td>2337714</td>\n",
       "      <td>email_notification_daily</td>\n",
       "      <td>2018-12-07 01:05:40 UTC+0000</td>\n",
       "    </tr>\n",
       "    <tr>\n",
       "      <th>1</th>\n",
       "      <td>0c673e046d824ec0ad0ebe012a0673e4</td>\n",
       "      <td>2336077</td>\n",
       "      <td>email_notification_daily</td>\n",
       "      <td>2018-12-06 01:14:15 UTC+0000</td>\n",
       "    </tr>\n",
       "    <tr>\n",
       "      <th>2</th>\n",
       "      <td>0c673e046d824ec0ad0ebe012a0673e4</td>\n",
       "      <td>2314660</td>\n",
       "      <td>email_notification_daily</td>\n",
       "      <td>2018-11-17 00:38:27 UTC+0000</td>\n",
       "    </tr>\n",
       "    <tr>\n",
       "      <th>3</th>\n",
       "      <td>0c673e046d824ec0ad0ebe012a0673e4</td>\n",
       "      <td>2312639</td>\n",
       "      <td>email_notification_daily</td>\n",
       "      <td>2018-11-16 00:32:19 UTC+0000</td>\n",
       "    </tr>\n",
       "    <tr>\n",
       "      <th>4</th>\n",
       "      <td>0c673e046d824ec0ad0ebe012a0673e4</td>\n",
       "      <td>2299700</td>\n",
       "      <td>email_notification_daily</td>\n",
       "      <td>2018-11-08 00:16:40 UTC+0000</td>\n",
       "    </tr>\n",
       "  </tbody>\n",
       "</table>\n",
       "</div>"
      ],
      "text/plain": [
       "                   professionals_id  emails_id    emails_frequency_level  \\\n",
       "0  0c673e046d824ec0ad0ebe012a0673e4    2337714  email_notification_daily   \n",
       "1  0c673e046d824ec0ad0ebe012a0673e4    2336077  email_notification_daily   \n",
       "2  0c673e046d824ec0ad0ebe012a0673e4    2314660  email_notification_daily   \n",
       "3  0c673e046d824ec0ad0ebe012a0673e4    2312639  email_notification_daily   \n",
       "4  0c673e046d824ec0ad0ebe012a0673e4    2299700  email_notification_daily   \n",
       "\n",
       "               emails_date_sent  \n",
       "0  2018-12-07 01:05:40 UTC+0000  \n",
       "1  2018-12-06 01:14:15 UTC+0000  \n",
       "2  2018-11-17 00:38:27 UTC+0000  \n",
       "3  2018-11-16 00:32:19 UTC+0000  \n",
       "4  2018-11-08 00:16:40 UTC+0000  "
      ]
     },
     "execution_count": 21,
     "metadata": {},
     "output_type": "execute_result"
    }
   ],
   "source": [
    "prof_emails = prof_emails_received[['professionals_id', 'emails_id', 'emails_frequency_level', 'emails_date_sent']]\n",
    "prof_emails.head()"
   ]
  },
  {
   "cell_type": "code",
   "execution_count": 22,
   "metadata": {},
   "outputs": [
    {
     "data": {
      "text/plain": [
       "(4316275, 6)"
      ]
     },
     "execution_count": 22,
     "metadata": {},
     "output_type": "execute_result"
    }
   ],
   "source": [
    "prof_email_questions = prof_emails.merge(\n",
    "    matches, how='inner', left_on='emails_id', right_on='matches_email_id')\n",
    "prof_email_questions.shape"
   ]
  },
  {
   "cell_type": "code",
   "execution_count": 23,
   "metadata": {},
   "outputs": [
    {
     "data": {
      "text/plain": [
       "(49723, 4)"
      ]
     },
     "execution_count": 23,
     "metadata": {},
     "output_type": "execute_result"
    }
   ],
   "source": [
    "prof_answered_questions = qap[['professionals_id', 'questions_id', 'questions_date_added', 'answers_date_added']]\n",
    "prof_answered_questions.shape"
   ]
  },
  {
   "cell_type": "code",
   "execution_count": 72,
   "metadata": {},
   "outputs": [
    {
     "data": {
      "text/plain": [
       "(17518, 9)"
      ]
     },
     "execution_count": 72,
     "metadata": {},
     "output_type": "execute_result"
    }
   ],
   "source": [
    "questions_answered_from_emails = pd.merge(\n",
    "    prof_email_questions, prof_answered_questions, how='inner',\n",
    "    left_on=['professionals_id', 'matches_question_id'],\n",
    "    right_on=['professionals_id', 'questions_id'])\n",
    "\n",
    "questions_answered_from_emails.shape"
   ]
  },
  {
   "cell_type": "code",
   "execution_count": 73,
   "metadata": {
    "scrolled": false
   },
   "outputs": [
    {
     "data": {
      "text/html": [
       "<div>\n",
       "<style scoped>\n",
       "    .dataframe tbody tr th:only-of-type {\n",
       "        vertical-align: middle;\n",
       "    }\n",
       "\n",
       "    .dataframe tbody tr th {\n",
       "        vertical-align: top;\n",
       "    }\n",
       "\n",
       "    .dataframe thead th {\n",
       "        text-align: right;\n",
       "    }\n",
       "</style>\n",
       "<table border=\"1\" class=\"dataframe\">\n",
       "  <thead>\n",
       "    <tr style=\"text-align: right;\">\n",
       "      <th></th>\n",
       "      <th>professionals_id</th>\n",
       "      <th>emails_id</th>\n",
       "      <th>emails_frequency_level</th>\n",
       "      <th>emails_date_sent</th>\n",
       "      <th>matches_email_id</th>\n",
       "      <th>matches_question_id</th>\n",
       "      <th>questions_id</th>\n",
       "      <th>questions_date_added</th>\n",
       "      <th>answers_date_added</th>\n",
       "    </tr>\n",
       "  </thead>\n",
       "  <tbody>\n",
       "    <tr>\n",
       "      <th>0</th>\n",
       "      <td>81999d5ad93549dab55636a545e84f2a</td>\n",
       "      <td>1394664</td>\n",
       "      <td>email_notification_daily</td>\n",
       "      <td>2017-09-30 04:16:01 UTC+0000</td>\n",
       "      <td>1394664</td>\n",
       "      <td>5cb6040f85d34c03a95f27244bc40e29</td>\n",
       "      <td>5cb6040f85d34c03a95f27244bc40e29</td>\n",
       "      <td>2017-09-29 12:45:43 UTC+0000</td>\n",
       "      <td>2017-09-30 15:35:03 UTC+0000</td>\n",
       "    </tr>\n",
       "    <tr>\n",
       "      <th>1</th>\n",
       "      <td>81999d5ad93549dab55636a545e84f2a</td>\n",
       "      <td>560470</td>\n",
       "      <td>email_notification_daily</td>\n",
       "      <td>2016-05-25 23:26:05 UTC+0000</td>\n",
       "      <td>560470</td>\n",
       "      <td>2c7bb1973510493aa8daf75e08bbe773</td>\n",
       "      <td>2c7bb1973510493aa8daf75e08bbe773</td>\n",
       "      <td>2016-05-25 17:49:15 UTC+0000</td>\n",
       "      <td>2016-05-27 22:41:28 UTC+0000</td>\n",
       "    </tr>\n",
       "    <tr>\n",
       "      <th>2</th>\n",
       "      <td>7d425e8d7cfb4fe7b0702fff4d6d84e7</td>\n",
       "      <td>919741</td>\n",
       "      <td>email_notification_daily</td>\n",
       "      <td>2016-11-07 23:09:02 UTC+0000</td>\n",
       "      <td>919741</td>\n",
       "      <td>0803ed6276ae43eb80fd1a2e2386a526</td>\n",
       "      <td>0803ed6276ae43eb80fd1a2e2386a526</td>\n",
       "      <td>2016-10-31 21:43:59 UTC+0000</td>\n",
       "      <td>2016-11-08 00:47:24 UTC+0000</td>\n",
       "    </tr>\n",
       "    <tr>\n",
       "      <th>3</th>\n",
       "      <td>7d425e8d7cfb4fe7b0702fff4d6d84e7</td>\n",
       "      <td>916502</td>\n",
       "      <td>email_notification_daily</td>\n",
       "      <td>2016-11-05 23:45:31 UTC+0000</td>\n",
       "      <td>916502</td>\n",
       "      <td>384c809662f348daa8a8019f7a10ded4</td>\n",
       "      <td>384c809662f348daa8a8019f7a10ded4</td>\n",
       "      <td>2016-10-31 04:49:58 UTC+0000</td>\n",
       "      <td>2016-11-06 16:18:33 UTC+0000</td>\n",
       "    </tr>\n",
       "    <tr>\n",
       "      <th>4</th>\n",
       "      <td>7d425e8d7cfb4fe7b0702fff4d6d84e7</td>\n",
       "      <td>883636</td>\n",
       "      <td>email_notification_daily</td>\n",
       "      <td>2016-10-26 23:18:27 UTC+0000</td>\n",
       "      <td>883636</td>\n",
       "      <td>c4e51d0e3e9440d6b4bec6a352426c30</td>\n",
       "      <td>c4e51d0e3e9440d6b4bec6a352426c30</td>\n",
       "      <td>2016-05-16 21:52:09 UTC+0000</td>\n",
       "      <td>2016-10-26 23:20:25 UTC+0000</td>\n",
       "    </tr>\n",
       "  </tbody>\n",
       "</table>\n",
       "</div>"
      ],
      "text/plain": [
       "                   professionals_id  emails_id    emails_frequency_level  \\\n",
       "0  81999d5ad93549dab55636a545e84f2a    1394664  email_notification_daily   \n",
       "1  81999d5ad93549dab55636a545e84f2a     560470  email_notification_daily   \n",
       "2  7d425e8d7cfb4fe7b0702fff4d6d84e7     919741  email_notification_daily   \n",
       "3  7d425e8d7cfb4fe7b0702fff4d6d84e7     916502  email_notification_daily   \n",
       "4  7d425e8d7cfb4fe7b0702fff4d6d84e7     883636  email_notification_daily   \n",
       "\n",
       "               emails_date_sent  matches_email_id  \\\n",
       "0  2017-09-30 04:16:01 UTC+0000           1394664   \n",
       "1  2016-05-25 23:26:05 UTC+0000            560470   \n",
       "2  2016-11-07 23:09:02 UTC+0000            919741   \n",
       "3  2016-11-05 23:45:31 UTC+0000            916502   \n",
       "4  2016-10-26 23:18:27 UTC+0000            883636   \n",
       "\n",
       "                matches_question_id                      questions_id  \\\n",
       "0  5cb6040f85d34c03a95f27244bc40e29  5cb6040f85d34c03a95f27244bc40e29   \n",
       "1  2c7bb1973510493aa8daf75e08bbe773  2c7bb1973510493aa8daf75e08bbe773   \n",
       "2  0803ed6276ae43eb80fd1a2e2386a526  0803ed6276ae43eb80fd1a2e2386a526   \n",
       "3  384c809662f348daa8a8019f7a10ded4  384c809662f348daa8a8019f7a10ded4   \n",
       "4  c4e51d0e3e9440d6b4bec6a352426c30  c4e51d0e3e9440d6b4bec6a352426c30   \n",
       "\n",
       "           questions_date_added            answers_date_added  \n",
       "0  2017-09-29 12:45:43 UTC+0000  2017-09-30 15:35:03 UTC+0000  \n",
       "1  2016-05-25 17:49:15 UTC+0000  2016-05-27 22:41:28 UTC+0000  \n",
       "2  2016-10-31 21:43:59 UTC+0000  2016-11-08 00:47:24 UTC+0000  \n",
       "3  2016-10-31 04:49:58 UTC+0000  2016-11-06 16:18:33 UTC+0000  \n",
       "4  2016-05-16 21:52:09 UTC+0000  2016-10-26 23:20:25 UTC+0000  "
      ]
     },
     "execution_count": 73,
     "metadata": {},
     "output_type": "execute_result"
    }
   ],
   "source": [
    "questions_answered_from_emails.head()"
   ]
  },
  {
   "cell_type": "code",
   "execution_count": 74,
   "metadata": {},
   "outputs": [
    {
     "data": {
      "text/plain": [
       "(3746, 1)"
      ]
     },
     "execution_count": 74,
     "metadata": {},
     "output_type": "execute_result"
    }
   ],
   "source": [
    "email_activated = (questions_answered_from_emails\n",
    "                   .groupby('professionals_id')[['questions_id']].count()\n",
    "                   .rename(columns={'questions_id': 'professionals_email_activated'}))\n",
    "email_activated.shape"
   ]
  },
  {
   "cell_type": "markdown",
   "metadata": {},
   "source": [
    "## Consider a particular professional"
   ]
  },
  {
   "cell_type": "code",
   "execution_count": 46,
   "metadata": {},
   "outputs": [],
   "source": [
    "prof_id = '369f1c8646b649f6997eae7809696bd5'"
   ]
  },
  {
   "cell_type": "code",
   "execution_count": 47,
   "metadata": {},
   "outputs": [],
   "source": [
    "particular_prof_emails = prof_emails_received[prof_emails_received.professionals_id == prof_id]"
   ]
  },
  {
   "cell_type": "code",
   "execution_count": 48,
   "metadata": {},
   "outputs": [
    {
     "data": {
      "text/plain": [
       "(930, 9)"
      ]
     },
     "execution_count": 48,
     "metadata": {},
     "output_type": "execute_result"
    }
   ],
   "source": [
    "particular_prof_emails.shape"
   ]
  },
  {
   "cell_type": "code",
   "execution_count": 49,
   "metadata": {},
   "outputs": [
    {
     "data": {
      "text/plain": [
       "(930, 4)"
      ]
     },
     "execution_count": 49,
     "metadata": {},
     "output_type": "execute_result"
    }
   ],
   "source": [
    "particular_prof_emails = particular_prof_emails[['professionals_date_joined', 'emails_id',\n",
    "                                                 'emails_frequency_level', 'emails_date_sent']]\n",
    "particular_prof_emails.shape"
   ]
  },
  {
   "cell_type": "code",
   "execution_count": 50,
   "metadata": {
    "scrolled": true
   },
   "outputs": [
    {
     "data": {
      "text/plain": [
       "(2160, 6)"
      ]
     },
     "execution_count": 50,
     "metadata": {},
     "output_type": "execute_result"
    }
   ],
   "source": [
    "particular_prof_email_questions = particular_prof_emails.merge(\n",
    "    matches, how='inner', left_on='emails_id', right_on='matches_email_id')\n",
    "particular_prof_email_questions.shape"
   ]
  },
  {
   "cell_type": "code",
   "execution_count": 51,
   "metadata": {},
   "outputs": [],
   "source": [
    "particular_prof_answered_questions = qap[qap.professionals_id == prof_id]\n",
    "particular_prof_answered_questions = particular_prof_answered_questions[['questions_id', 'questions_date_added',\n",
    "                                                                         'answers_date_added']]"
   ]
  },
  {
   "cell_type": "code",
   "execution_count": 52,
   "metadata": {},
   "outputs": [
    {
     "data": {
      "text/plain": [
       "(401, 3)"
      ]
     },
     "execution_count": 52,
     "metadata": {},
     "output_type": "execute_result"
    }
   ],
   "source": [
    "particular_prof_answered_questions.shape"
   ]
  },
  {
   "cell_type": "code",
   "execution_count": 53,
   "metadata": {},
   "outputs": [
    {
     "data": {
      "text/plain": [
       "(60, 7)"
      ]
     },
     "execution_count": 53,
     "metadata": {},
     "output_type": "execute_result"
    }
   ],
   "source": [
    "questions_answered_from_emails = pd.merge(\n",
    "    particular_prof_email_questions, particular_prof_answered_questions,\n",
    "    how='inner', left_on='matches_question_id', right_on='questions_id')\n",
    "questions_answered_from_emails = questions_answered_from_emails[[\n",
    "    'professionals_date_joined', 'emails_id', 'emails_frequency_level', 'emails_date_sent',\n",
    "    'questions_id', 'questions_date_added', 'answers_date_added'\n",
    "]]\n",
    "questions_answered_from_emails.shape"
   ]
  },
  {
   "cell_type": "code",
   "execution_count": 55,
   "metadata": {},
   "outputs": [
    {
     "data": {
      "text/html": [
       "<div>\n",
       "<style scoped>\n",
       "    .dataframe tbody tr th:only-of-type {\n",
       "        vertical-align: middle;\n",
       "    }\n",
       "\n",
       "    .dataframe tbody tr th {\n",
       "        vertical-align: top;\n",
       "    }\n",
       "\n",
       "    .dataframe thead th {\n",
       "        text-align: right;\n",
       "    }\n",
       "</style>\n",
       "<table border=\"1\" class=\"dataframe\">\n",
       "  <thead>\n",
       "    <tr style=\"text-align: right;\">\n",
       "      <th></th>\n",
       "      <th>professionals_date_joined</th>\n",
       "      <th>emails_id</th>\n",
       "      <th>emails_frequency_level</th>\n",
       "      <th>emails_date_sent</th>\n",
       "      <th>questions_id</th>\n",
       "      <th>questions_date_added</th>\n",
       "      <th>answers_date_added</th>\n",
       "    </tr>\n",
       "  </thead>\n",
       "  <tbody>\n",
       "    <tr>\n",
       "      <th>0</th>\n",
       "      <td>2015-02-05 17:52:38 UTC+0000</td>\n",
       "      <td>970937</td>\n",
       "      <td>email_notification_daily</td>\n",
       "      <td>2016-12-13 23:12:40 UTC+0000</td>\n",
       "      <td>6bfc3c65b5744801bd440538ee8b297c</td>\n",
       "      <td>2016-12-05 21:20:22 UTC+0000</td>\n",
       "      <td>2016-12-15 17:46:34 UTC+0000</td>\n",
       "    </tr>\n",
       "  </tbody>\n",
       "</table>\n",
       "</div>"
      ],
      "text/plain": [
       "      professionals_date_joined  emails_id    emails_frequency_level  \\\n",
       "0  2015-02-05 17:52:38 UTC+0000     970937  email_notification_daily   \n",
       "\n",
       "               emails_date_sent                      questions_id  \\\n",
       "0  2016-12-13 23:12:40 UTC+0000  6bfc3c65b5744801bd440538ee8b297c   \n",
       "\n",
       "           questions_date_added            answers_date_added  \n",
       "0  2016-12-05 21:20:22 UTC+0000  2016-12-15 17:46:34 UTC+0000  "
      ]
     },
     "execution_count": 55,
     "metadata": {},
     "output_type": "execute_result"
    }
   ],
   "source": [
    "questions_answered_from_emails.head(1)"
   ]
  },
  {
   "cell_type": "markdown",
   "metadata": {},
   "source": [
    "---"
   ]
  },
  {
   "cell_type": "markdown",
   "metadata": {},
   "source": [
    "# Compute number of answered questions and average question age"
   ]
  },
  {
   "cell_type": "code",
   "execution_count": 97,
   "metadata": {
    "scrolled": true
   },
   "outputs": [],
   "source": [
    "all_data = qap"
   ]
  },
  {
   "cell_type": "code",
   "execution_count": 99,
   "metadata": {},
   "outputs": [],
   "source": [
    "# Transform all dates from string representation to python datetime object\n",
    "# and add question_time_to_answer feature\n",
    "all_data.answers_date_added = pd.to_datetime(all_data.answers_date_added)\n",
    "all_data.questions_date_added = pd.to_datetime(all_data.questions_date_added)\n",
    "all_data['questions_age'] = all_data.answers_date_added - all_data.questions_date_added"
   ]
  },
  {
   "cell_type": "code",
   "execution_count": 106,
   "metadata": {
    "scrolled": true
   },
   "outputs": [
    {
     "data": {
      "text/html": [
       "<div>\n",
       "<style scoped>\n",
       "    .dataframe tbody tr th:only-of-type {\n",
       "        vertical-align: middle;\n",
       "    }\n",
       "\n",
       "    .dataframe tbody tr th {\n",
       "        vertical-align: top;\n",
       "    }\n",
       "\n",
       "    .dataframe thead th {\n",
       "        text-align: right;\n",
       "    }\n",
       "</style>\n",
       "<table border=\"1\" class=\"dataframe\">\n",
       "  <thead>\n",
       "    <tr style=\"text-align: right;\">\n",
       "      <th></th>\n",
       "      <th>professionals_questions_answered</th>\n",
       "    </tr>\n",
       "    <tr>\n",
       "      <th>professionals_id</th>\n",
       "      <th></th>\n",
       "    </tr>\n",
       "  </thead>\n",
       "  <tbody>\n",
       "    <tr>\n",
       "      <th>00009a0f9bda43eba47104e9ac62aff5</th>\n",
       "      <td>3</td>\n",
       "    </tr>\n",
       "    <tr>\n",
       "      <th>000d4635e5da41e3bfd83677ee11dda4</th>\n",
       "      <td>3</td>\n",
       "    </tr>\n",
       "    <tr>\n",
       "      <th>00271cc10e0245fba4a35e76e669c281</th>\n",
       "      <td>24</td>\n",
       "    </tr>\n",
       "    <tr>\n",
       "      <th>003cc21be89d4e42bc4424131a378e86</th>\n",
       "      <td>4</td>\n",
       "    </tr>\n",
       "    <tr>\n",
       "      <th>0046ab8089c04b3a8df3f8c28621a818</th>\n",
       "      <td>5</td>\n",
       "    </tr>\n",
       "  </tbody>\n",
       "</table>\n",
       "</div>"
      ],
      "text/plain": [
       "                                  professionals_questions_answered\n",
       "professionals_id                                                  \n",
       "00009a0f9bda43eba47104e9ac62aff5                                 3\n",
       "000d4635e5da41e3bfd83677ee11dda4                                 3\n",
       "00271cc10e0245fba4a35e76e669c281                                24\n",
       "003cc21be89d4e42bc4424131a378e86                                 4\n",
       "0046ab8089c04b3a8df3f8c28621a818                                 5"
      ]
     },
     "execution_count": 106,
     "metadata": {},
     "output_type": "execute_result"
    }
   ],
   "source": [
    "number_answered = all_data[['questions_id', 'professionals_id']].groupby('professionals_id').count()\n",
    "number_answered = number_answered.rename({'questions_id': 'professionals_questions_answered'}, axis=1)\n",
    "number_answered.head()"
   ]
  },
  {
   "cell_type": "code",
   "execution_count": 118,
   "metadata": {},
   "outputs": [
    {
     "data": {
      "text/html": [
       "<div>\n",
       "<style scoped>\n",
       "    .dataframe tbody tr th:only-of-type {\n",
       "        vertical-align: middle;\n",
       "    }\n",
       "\n",
       "    .dataframe tbody tr th {\n",
       "        vertical-align: top;\n",
       "    }\n",
       "\n",
       "    .dataframe thead th {\n",
       "        text-align: right;\n",
       "    }\n",
       "</style>\n",
       "<table border=\"1\" class=\"dataframe\">\n",
       "  <thead>\n",
       "    <tr style=\"text-align: right;\">\n",
       "      <th></th>\n",
       "      <th>professionals_id</th>\n",
       "    </tr>\n",
       "  </thead>\n",
       "  <tbody>\n",
       "    <tr>\n",
       "      <th>0</th>\n",
       "      <td>36ff3b3666df400f956f8335cf53e09e</td>\n",
       "    </tr>\n",
       "    <tr>\n",
       "      <th>1</th>\n",
       "      <td>05ab77d4c6a141b999044ebbf5415b0d</td>\n",
       "    </tr>\n",
       "    <tr>\n",
       "      <th>2</th>\n",
       "      <td>58fa5e95fe9e480a9349bbb1d7faaddb</td>\n",
       "    </tr>\n",
       "    <tr>\n",
       "      <th>3</th>\n",
       "      <td>97556cfd2ee14bada22d55cf172c299e</td>\n",
       "    </tr>\n",
       "    <tr>\n",
       "      <th>4</th>\n",
       "      <td>dfbfda742bee4f5b8df7024c66cf77b4</td>\n",
       "    </tr>\n",
       "  </tbody>\n",
       "</table>\n",
       "</div>"
      ],
      "text/plain": [
       "                   professionals_id\n",
       "0  36ff3b3666df400f956f8335cf53e09e\n",
       "1  05ab77d4c6a141b999044ebbf5415b0d\n",
       "2  58fa5e95fe9e480a9349bbb1d7faaddb\n",
       "3  97556cfd2ee14bada22d55cf172c299e\n",
       "4  dfbfda742bee4f5b8df7024c66cf77b4"
      ]
     },
     "execution_count": 118,
     "metadata": {},
     "output_type": "execute_result"
    }
   ],
   "source": [
    "active_professionals = pd.DataFrame({'professionals_id': all_data.professionals_id.unique()})\n",
    "active_professionals.head()"
   ]
  },
  {
   "cell_type": "code",
   "execution_count": 119,
   "metadata": {},
   "outputs": [],
   "source": [
    "prof_data = professionals.merge(active_professionals, how='right', on='professionals_id')\n",
    "prof_data.professionals_date_joined = pd.to_datetime(prof_data.professionals_date_joined)"
   ]
  },
  {
   "cell_type": "code",
   "execution_count": 120,
   "metadata": {},
   "outputs": [],
   "source": [
    "prof_data = prof_data.merge(number_answered, left_on='professionals_id', right_index=True)"
   ]
  },
  {
   "cell_type": "code",
   "execution_count": 121,
   "metadata": {
    "scrolled": true
   },
   "outputs": [
    {
     "data": {
      "text/html": [
       "<div>\n",
       "<style scoped>\n",
       "    .dataframe tbody tr th:only-of-type {\n",
       "        vertical-align: middle;\n",
       "    }\n",
       "\n",
       "    .dataframe tbody tr th {\n",
       "        vertical-align: top;\n",
       "    }\n",
       "\n",
       "    .dataframe thead th {\n",
       "        text-align: right;\n",
       "    }\n",
       "</style>\n",
       "<table border=\"1\" class=\"dataframe\">\n",
       "  <thead>\n",
       "    <tr style=\"text-align: right;\">\n",
       "      <th></th>\n",
       "      <th>professionals_id</th>\n",
       "      <th>professionals_location</th>\n",
       "      <th>professionals_industry</th>\n",
       "      <th>professionals_headline</th>\n",
       "      <th>professionals_date_joined</th>\n",
       "      <th>professionals_questions_answered</th>\n",
       "    </tr>\n",
       "  </thead>\n",
       "  <tbody>\n",
       "    <tr>\n",
       "      <th>0</th>\n",
       "      <td>0c673e046d824ec0ad0ebe012a0673e4</td>\n",
       "      <td>New York, New York</td>\n",
       "      <td>NaN</td>\n",
       "      <td>NaN</td>\n",
       "      <td>2011-10-18 17:31:26</td>\n",
       "      <td>34</td>\n",
       "    </tr>\n",
       "    <tr>\n",
       "      <th>1</th>\n",
       "      <td>977428d851b24183b223be0eb8619a8c</td>\n",
       "      <td>Boston, Massachusetts</td>\n",
       "      <td>NaN</td>\n",
       "      <td>NaN</td>\n",
       "      <td>2011-11-09 20:39:29</td>\n",
       "      <td>23</td>\n",
       "    </tr>\n",
       "    <tr>\n",
       "      <th>2</th>\n",
       "      <td>c9bfa93898594cbbace436deca644c64</td>\n",
       "      <td>NaN</td>\n",
       "      <td>NaN</td>\n",
       "      <td>NaN</td>\n",
       "      <td>2011-12-12 14:25:46</td>\n",
       "      <td>1</td>\n",
       "    </tr>\n",
       "    <tr>\n",
       "      <th>3</th>\n",
       "      <td>5a4a16842ec64430ac3f916aacf35fe1</td>\n",
       "      <td>NaN</td>\n",
       "      <td>NaN</td>\n",
       "      <td>NaN</td>\n",
       "      <td>2011-12-26 05:00:00</td>\n",
       "      <td>1</td>\n",
       "    </tr>\n",
       "    <tr>\n",
       "      <th>4</th>\n",
       "      <td>81999d5ad93549dab55636a545e84f2a</td>\n",
       "      <td>NaN</td>\n",
       "      <td>NaN</td>\n",
       "      <td>NaN</td>\n",
       "      <td>2011-12-26 05:00:00</td>\n",
       "      <td>3</td>\n",
       "    </tr>\n",
       "  </tbody>\n",
       "</table>\n",
       "</div>"
      ],
      "text/plain": [
       "                   professionals_id professionals_location  \\\n",
       "0  0c673e046d824ec0ad0ebe012a0673e4     New York, New York   \n",
       "1  977428d851b24183b223be0eb8619a8c  Boston, Massachusetts   \n",
       "2  c9bfa93898594cbbace436deca644c64                    NaN   \n",
       "3  5a4a16842ec64430ac3f916aacf35fe1                    NaN   \n",
       "4  81999d5ad93549dab55636a545e84f2a                    NaN   \n",
       "\n",
       "  professionals_industry professionals_headline professionals_date_joined  \\\n",
       "0                    NaN                    NaN       2011-10-18 17:31:26   \n",
       "1                    NaN                    NaN       2011-11-09 20:39:29   \n",
       "2                    NaN                    NaN       2011-12-12 14:25:46   \n",
       "3                    NaN                    NaN       2011-12-26 05:00:00   \n",
       "4                    NaN                    NaN       2011-12-26 05:00:00   \n",
       "\n",
       "   professionals_questions_answered  \n",
       "0                                34  \n",
       "1                                23  \n",
       "2                                 1  \n",
       "3                                 1  \n",
       "4                                 3  "
      ]
     },
     "execution_count": 121,
     "metadata": {},
     "output_type": "execute_result"
    }
   ],
   "source": [
    "prof_data.head()"
   ]
  },
  {
   "cell_type": "code",
   "execution_count": 93,
   "metadata": {},
   "outputs": [],
   "source": [
    "average_question_age = (\n",
    "    all_data.groupby('professionals_id')\n",
    "    .questions_age.mean(numeric_only=False)\n",
    ")"
   ]
  },
  {
   "cell_type": "code",
   "execution_count": 94,
   "metadata": {},
   "outputs": [
    {
     "data": {
      "text/html": [
       "<div>\n",
       "<style scoped>\n",
       "    .dataframe tbody tr th:only-of-type {\n",
       "        vertical-align: middle;\n",
       "    }\n",
       "\n",
       "    .dataframe tbody tr th {\n",
       "        vertical-align: top;\n",
       "    }\n",
       "\n",
       "    .dataframe thead th {\n",
       "        text-align: right;\n",
       "    }\n",
       "</style>\n",
       "<table border=\"1\" class=\"dataframe\">\n",
       "  <thead>\n",
       "    <tr style=\"text-align: right;\">\n",
       "      <th></th>\n",
       "      <th>professionals_average_question_age</th>\n",
       "    </tr>\n",
       "    <tr>\n",
       "      <th>professionals_id</th>\n",
       "      <th></th>\n",
       "    </tr>\n",
       "  </thead>\n",
       "  <tbody>\n",
       "    <tr>\n",
       "      <th>00009a0f9bda43eba47104e9ac62aff5</th>\n",
       "      <td>283 days 02:55:40.666666</td>\n",
       "    </tr>\n",
       "    <tr>\n",
       "      <th>000d4635e5da41e3bfd83677ee11dda4</th>\n",
       "      <td>133 days 03:54:34.666666</td>\n",
       "    </tr>\n",
       "    <tr>\n",
       "      <th>00271cc10e0245fba4a35e76e669c281</th>\n",
       "      <td>218 days 05:22:24.458333</td>\n",
       "    </tr>\n",
       "    <tr>\n",
       "      <th>003cc21be89d4e42bc4424131a378e86</th>\n",
       "      <td>398 days 22:50:44</td>\n",
       "    </tr>\n",
       "    <tr>\n",
       "      <th>0046ab8089c04b3a8df3f8c28621a818</th>\n",
       "      <td>117 days 19:17:26</td>\n",
       "    </tr>\n",
       "  </tbody>\n",
       "</table>\n",
       "</div>"
      ],
      "text/plain": [
       "                                 professionals_average_question_age\n",
       "professionals_id                                                   \n",
       "00009a0f9bda43eba47104e9ac62aff5           283 days 02:55:40.666666\n",
       "000d4635e5da41e3bfd83677ee11dda4           133 days 03:54:34.666666\n",
       "00271cc10e0245fba4a35e76e669c281           218 days 05:22:24.458333\n",
       "003cc21be89d4e42bc4424131a378e86                  398 days 22:50:44\n",
       "0046ab8089c04b3a8df3f8c28621a818                  117 days 19:17:26"
      ]
     },
     "execution_count": 94,
     "metadata": {},
     "output_type": "execute_result"
    }
   ],
   "source": [
    "average_question_age = pd.DataFrame({'professionals_average_question_age': average_question_age})\n",
    "average_question_age.head()"
   ]
  },
  {
   "cell_type": "code",
   "execution_count": 113,
   "metadata": {},
   "outputs": [
    {
     "data": {
      "text/html": [
       "<div>\n",
       "<style scoped>\n",
       "    .dataframe tbody tr th:only-of-type {\n",
       "        vertical-align: middle;\n",
       "    }\n",
       "\n",
       "    .dataframe tbody tr th {\n",
       "        vertical-align: top;\n",
       "    }\n",
       "\n",
       "    .dataframe thead th {\n",
       "        text-align: right;\n",
       "    }\n",
       "</style>\n",
       "<table border=\"1\" class=\"dataframe\">\n",
       "  <thead>\n",
       "    <tr style=\"text-align: right;\">\n",
       "      <th></th>\n",
       "      <th>professionals_id</th>\n",
       "      <th>professionals_location</th>\n",
       "      <th>professionals_industry</th>\n",
       "      <th>professionals_headline</th>\n",
       "      <th>professionals_date_joined</th>\n",
       "      <th>professionals_questions_answered</th>\n",
       "      <th>professionals_average_question_age</th>\n",
       "    </tr>\n",
       "  </thead>\n",
       "  <tbody>\n",
       "    <tr>\n",
       "      <th>0</th>\n",
       "      <td>0c673e046d824ec0ad0ebe012a0673e4</td>\n",
       "      <td>New York, New York</td>\n",
       "      <td>NaN</td>\n",
       "      <td>NaN</td>\n",
       "      <td>2011-10-18 17:31:26</td>\n",
       "      <td>34</td>\n",
       "      <td>15 days 06:42:05.764705</td>\n",
       "    </tr>\n",
       "    <tr>\n",
       "      <th>1</th>\n",
       "      <td>0c673e046d824ec0ad0ebe012a0673e4</td>\n",
       "      <td>New York, New York</td>\n",
       "      <td>NaN</td>\n",
       "      <td>NaN</td>\n",
       "      <td>2011-10-18 17:31:26</td>\n",
       "      <td>34</td>\n",
       "      <td>15 days 06:42:05.764705</td>\n",
       "    </tr>\n",
       "    <tr>\n",
       "      <th>2</th>\n",
       "      <td>0c673e046d824ec0ad0ebe012a0673e4</td>\n",
       "      <td>New York, New York</td>\n",
       "      <td>NaN</td>\n",
       "      <td>NaN</td>\n",
       "      <td>2011-10-18 17:31:26</td>\n",
       "      <td>34</td>\n",
       "      <td>15 days 06:42:05.764705</td>\n",
       "    </tr>\n",
       "    <tr>\n",
       "      <th>3</th>\n",
       "      <td>0c673e046d824ec0ad0ebe012a0673e4</td>\n",
       "      <td>New York, New York</td>\n",
       "      <td>NaN</td>\n",
       "      <td>NaN</td>\n",
       "      <td>2011-10-18 17:31:26</td>\n",
       "      <td>34</td>\n",
       "      <td>15 days 06:42:05.764705</td>\n",
       "    </tr>\n",
       "    <tr>\n",
       "      <th>4</th>\n",
       "      <td>0c673e046d824ec0ad0ebe012a0673e4</td>\n",
       "      <td>New York, New York</td>\n",
       "      <td>NaN</td>\n",
       "      <td>NaN</td>\n",
       "      <td>2011-10-18 17:31:26</td>\n",
       "      <td>34</td>\n",
       "      <td>15 days 06:42:05.764705</td>\n",
       "    </tr>\n",
       "  </tbody>\n",
       "</table>\n",
       "</div>"
      ],
      "text/plain": [
       "                   professionals_id professionals_location  \\\n",
       "0  0c673e046d824ec0ad0ebe012a0673e4     New York, New York   \n",
       "1  0c673e046d824ec0ad0ebe012a0673e4     New York, New York   \n",
       "2  0c673e046d824ec0ad0ebe012a0673e4     New York, New York   \n",
       "3  0c673e046d824ec0ad0ebe012a0673e4     New York, New York   \n",
       "4  0c673e046d824ec0ad0ebe012a0673e4     New York, New York   \n",
       "\n",
       "  professionals_industry professionals_headline professionals_date_joined  \\\n",
       "0                    NaN                    NaN       2011-10-18 17:31:26   \n",
       "1                    NaN                    NaN       2011-10-18 17:31:26   \n",
       "2                    NaN                    NaN       2011-10-18 17:31:26   \n",
       "3                    NaN                    NaN       2011-10-18 17:31:26   \n",
       "4                    NaN                    NaN       2011-10-18 17:31:26   \n",
       "\n",
       "   professionals_questions_answered professionals_average_question_age  \n",
       "0                                34            15 days 06:42:05.764705  \n",
       "1                                34            15 days 06:42:05.764705  \n",
       "2                                34            15 days 06:42:05.764705  \n",
       "3                                34            15 days 06:42:05.764705  \n",
       "4                                34            15 days 06:42:05.764705  "
      ]
     },
     "execution_count": 113,
     "metadata": {},
     "output_type": "execute_result"
    }
   ],
   "source": [
    "prof_data = prof_data.merge(average_question_age, on='professionals_id')\n",
    "prof_data.head()"
   ]
  },
  {
   "cell_type": "code",
   "execution_count": null,
   "metadata": {},
   "outputs": [],
   "source": []
  },
  {
   "cell_type": "code",
   "execution_count": 140,
   "metadata": {},
   "outputs": [
    {
     "data": {
      "text/html": [
       "<div>\n",
       "<style scoped>\n",
       "    .dataframe tbody tr th:only-of-type {\n",
       "        vertical-align: middle;\n",
       "    }\n",
       "\n",
       "    .dataframe tbody tr th {\n",
       "        vertical-align: top;\n",
       "    }\n",
       "\n",
       "    .dataframe thead th {\n",
       "        text-align: right;\n",
       "    }\n",
       "</style>\n",
       "<table border=\"1\" class=\"dataframe\">\n",
       "  <thead>\n",
       "    <tr style=\"text-align: right;\">\n",
       "      <th></th>\n",
       "      <th>students_id</th>\n",
       "    </tr>\n",
       "  </thead>\n",
       "  <tbody>\n",
       "    <tr>\n",
       "      <th>0</th>\n",
       "      <td>8f6f374ffd834d258ab69d376dd998f5</td>\n",
       "    </tr>\n",
       "    <tr>\n",
       "      <th>1</th>\n",
       "      <td>585ac233015447cc9e9a217044e515e1</td>\n",
       "    </tr>\n",
       "    <tr>\n",
       "      <th>2</th>\n",
       "      <td>34217a1861d640a58c85e033414cf9cb</td>\n",
       "    </tr>\n",
       "    <tr>\n",
       "      <th>3</th>\n",
       "      <td>5b751a8ee4a047f7a08ce9eb5e43e5a2</td>\n",
       "    </tr>\n",
       "    <tr>\n",
       "      <th>4</th>\n",
       "      <td>2fe767de78fa4dfd83f0021cf7712064</td>\n",
       "    </tr>\n",
       "  </tbody>\n",
       "</table>\n",
       "</div>"
      ],
      "text/plain": [
       "                        students_id\n",
       "0  8f6f374ffd834d258ab69d376dd998f5\n",
       "1  585ac233015447cc9e9a217044e515e1\n",
       "2  34217a1861d640a58c85e033414cf9cb\n",
       "3  5b751a8ee4a047f7a08ce9eb5e43e5a2\n",
       "4  2fe767de78fa4dfd83f0021cf7712064"
      ]
     },
     "execution_count": 140,
     "metadata": {},
     "output_type": "execute_result"
    }
   ],
   "source": [
    "# Now the same for students\n",
    "active_students = pd.DataFrame({'students_id': all_data.students_id.unique()})\n",
    "active_students.head()"
   ]
  },
  {
   "cell_type": "code",
   "execution_count": 141,
   "metadata": {},
   "outputs": [
    {
     "data": {
      "text/html": [
       "<div>\n",
       "<style scoped>\n",
       "    .dataframe tbody tr th:only-of-type {\n",
       "        vertical-align: middle;\n",
       "    }\n",
       "\n",
       "    .dataframe tbody tr th {\n",
       "        vertical-align: top;\n",
       "    }\n",
       "\n",
       "    .dataframe thead th {\n",
       "        text-align: right;\n",
       "    }\n",
       "</style>\n",
       "<table border=\"1\" class=\"dataframe\">\n",
       "  <thead>\n",
       "    <tr style=\"text-align: right;\">\n",
       "      <th></th>\n",
       "      <th>students_questions_asked</th>\n",
       "    </tr>\n",
       "    <tr>\n",
       "      <th>students_id</th>\n",
       "      <th></th>\n",
       "    </tr>\n",
       "  </thead>\n",
       "  <tbody>\n",
       "    <tr>\n",
       "      <th>0001a66883f74e8d91884fc6ea0d66a7</th>\n",
       "      <td>4</td>\n",
       "    </tr>\n",
       "    <tr>\n",
       "      <th>0004592176864233990d949862baa2f3</th>\n",
       "      <td>2</td>\n",
       "    </tr>\n",
       "    <tr>\n",
       "      <th>001bd6f7f1ac4897b0b35dc665c64d2e</th>\n",
       "      <td>7</td>\n",
       "    </tr>\n",
       "    <tr>\n",
       "      <th>001d1629d09d441a8f09e3bfa884e6b9</th>\n",
       "      <td>2</td>\n",
       "    </tr>\n",
       "    <tr>\n",
       "      <th>001df2a2cfb74ef78f3053ddee305ba6</th>\n",
       "      <td>4</td>\n",
       "    </tr>\n",
       "  </tbody>\n",
       "</table>\n",
       "</div>"
      ],
      "text/plain": [
       "                                  students_questions_asked\n",
       "students_id                                               \n",
       "0001a66883f74e8d91884fc6ea0d66a7                         4\n",
       "0004592176864233990d949862baa2f3                         2\n",
       "001bd6f7f1ac4897b0b35dc665c64d2e                         7\n",
       "001d1629d09d441a8f09e3bfa884e6b9                         2\n",
       "001df2a2cfb74ef78f3053ddee305ba6                         4"
      ]
     },
     "execution_count": 141,
     "metadata": {},
     "output_type": "execute_result"
    }
   ],
   "source": [
    "number_asked = all_data[['questions_id', 'students_id']].groupby('students_id').count()\n",
    "number_asked = number_asked.rename({'questions_id': 'students_questions_asked'}, axis=1)\n",
    "number_asked.head()"
   ]
  },
  {
   "cell_type": "code",
   "execution_count": 142,
   "metadata": {},
   "outputs": [
    {
     "data": {
      "text/html": [
       "<div>\n",
       "<style scoped>\n",
       "    .dataframe tbody tr th:only-of-type {\n",
       "        vertical-align: middle;\n",
       "    }\n",
       "\n",
       "    .dataframe tbody tr th {\n",
       "        vertical-align: top;\n",
       "    }\n",
       "\n",
       "    .dataframe thead th {\n",
       "        text-align: right;\n",
       "    }\n",
       "</style>\n",
       "<table border=\"1\" class=\"dataframe\">\n",
       "  <thead>\n",
       "    <tr style=\"text-align: right;\">\n",
       "      <th></th>\n",
       "      <th>students_id</th>\n",
       "      <th>students_location</th>\n",
       "      <th>students_date_joined</th>\n",
       "    </tr>\n",
       "  </thead>\n",
       "  <tbody>\n",
       "    <tr>\n",
       "      <th>0</th>\n",
       "      <td>12a89e96755a4dba83ff03e03043d9c0</td>\n",
       "      <td>NaN</td>\n",
       "      <td>2011-12-16 14:19:24</td>\n",
       "    </tr>\n",
       "    <tr>\n",
       "      <th>1</th>\n",
       "      <td>5bdd2eb44dd944a9a7ab9aba068d1ef2</td>\n",
       "      <td>NaN</td>\n",
       "      <td>2012-01-01 05:00:00</td>\n",
       "    </tr>\n",
       "    <tr>\n",
       "      <th>2</th>\n",
       "      <td>9658267bc2564a85bad1e802de5fb597</td>\n",
       "      <td>Wayne, Pennsylvania</td>\n",
       "      <td>2012-01-01 05:00:00</td>\n",
       "    </tr>\n",
       "    <tr>\n",
       "      <th>3</th>\n",
       "      <td>7b1900c458e34573bfeb0d57ffbd260a</td>\n",
       "      <td>NaN</td>\n",
       "      <td>2012-01-01 05:00:00</td>\n",
       "    </tr>\n",
       "    <tr>\n",
       "      <th>4</th>\n",
       "      <td>e9efc4d6e06e49c7ae5afe1aad8c5bd5</td>\n",
       "      <td>NaN</td>\n",
       "      <td>2012-01-01 05:00:00</td>\n",
       "    </tr>\n",
       "  </tbody>\n",
       "</table>\n",
       "</div>"
      ],
      "text/plain": [
       "                        students_id    students_location students_date_joined\n",
       "0  12a89e96755a4dba83ff03e03043d9c0                  NaN  2011-12-16 14:19:24\n",
       "1  5bdd2eb44dd944a9a7ab9aba068d1ef2                  NaN  2012-01-01 05:00:00\n",
       "2  9658267bc2564a85bad1e802de5fb597  Wayne, Pennsylvania  2012-01-01 05:00:00\n",
       "3  7b1900c458e34573bfeb0d57ffbd260a                  NaN  2012-01-01 05:00:00\n",
       "4  e9efc4d6e06e49c7ae5afe1aad8c5bd5                  NaN  2012-01-01 05:00:00"
      ]
     },
     "execution_count": 142,
     "metadata": {},
     "output_type": "execute_result"
    }
   ],
   "source": [
    "stud_data = students.merge(active_students, how='right', on='students_id')\n",
    "stud_data.students_date_joined = pd.to_datetime(stud_data.students_date_joined)\n",
    "stud_data.head()"
   ]
  },
  {
   "cell_type": "code",
   "execution_count": 143,
   "metadata": {},
   "outputs": [
    {
     "data": {
      "text/html": [
       "<div>\n",
       "<style scoped>\n",
       "    .dataframe tbody tr th:only-of-type {\n",
       "        vertical-align: middle;\n",
       "    }\n",
       "\n",
       "    .dataframe tbody tr th {\n",
       "        vertical-align: top;\n",
       "    }\n",
       "\n",
       "    .dataframe thead th {\n",
       "        text-align: right;\n",
       "    }\n",
       "</style>\n",
       "<table border=\"1\" class=\"dataframe\">\n",
       "  <thead>\n",
       "    <tr style=\"text-align: right;\">\n",
       "      <th></th>\n",
       "      <th>students_id</th>\n",
       "      <th>students_location</th>\n",
       "      <th>students_date_joined</th>\n",
       "      <th>students_questions_asked</th>\n",
       "    </tr>\n",
       "  </thead>\n",
       "  <tbody>\n",
       "    <tr>\n",
       "      <th>0</th>\n",
       "      <td>12a89e96755a4dba83ff03e03043d9c0</td>\n",
       "      <td>NaN</td>\n",
       "      <td>2011-12-16 14:19:24</td>\n",
       "      <td>2</td>\n",
       "    </tr>\n",
       "    <tr>\n",
       "      <th>1</th>\n",
       "      <td>5bdd2eb44dd944a9a7ab9aba068d1ef2</td>\n",
       "      <td>NaN</td>\n",
       "      <td>2012-01-01 05:00:00</td>\n",
       "      <td>2</td>\n",
       "    </tr>\n",
       "    <tr>\n",
       "      <th>2</th>\n",
       "      <td>9658267bc2564a85bad1e802de5fb597</td>\n",
       "      <td>Wayne, Pennsylvania</td>\n",
       "      <td>2012-01-01 05:00:00</td>\n",
       "      <td>6</td>\n",
       "    </tr>\n",
       "    <tr>\n",
       "      <th>3</th>\n",
       "      <td>7b1900c458e34573bfeb0d57ffbd260a</td>\n",
       "      <td>NaN</td>\n",
       "      <td>2012-01-01 05:00:00</td>\n",
       "      <td>3</td>\n",
       "    </tr>\n",
       "    <tr>\n",
       "      <th>4</th>\n",
       "      <td>e9efc4d6e06e49c7ae5afe1aad8c5bd5</td>\n",
       "      <td>NaN</td>\n",
       "      <td>2012-01-01 05:00:00</td>\n",
       "      <td>1</td>\n",
       "    </tr>\n",
       "  </tbody>\n",
       "</table>\n",
       "</div>"
      ],
      "text/plain": [
       "                        students_id    students_location students_date_joined  \\\n",
       "0  12a89e96755a4dba83ff03e03043d9c0                  NaN  2011-12-16 14:19:24   \n",
       "1  5bdd2eb44dd944a9a7ab9aba068d1ef2                  NaN  2012-01-01 05:00:00   \n",
       "2  9658267bc2564a85bad1e802de5fb597  Wayne, Pennsylvania  2012-01-01 05:00:00   \n",
       "3  7b1900c458e34573bfeb0d57ffbd260a                  NaN  2012-01-01 05:00:00   \n",
       "4  e9efc4d6e06e49c7ae5afe1aad8c5bd5                  NaN  2012-01-01 05:00:00   \n",
       "\n",
       "   students_questions_asked  \n",
       "0                         2  \n",
       "1                         2  \n",
       "2                         6  \n",
       "3                         3  \n",
       "4                         1  "
      ]
     },
     "execution_count": 143,
     "metadata": {},
     "output_type": "execute_result"
    }
   ],
   "source": [
    "stud_data = stud_data.merge(number_asked, left_on='students_id', right_index=True)\n",
    "stud_data.head()"
   ]
  },
  {
   "cell_type": "code",
   "execution_count": 144,
   "metadata": {},
   "outputs": [],
   "source": [
    "average_question_age = (\n",
    "    all_data.groupby('students_id')\n",
    "    .questions_age.mean(numeric_only=False)\n",
    ")"
   ]
  },
  {
   "cell_type": "code",
   "execution_count": 145,
   "metadata": {},
   "outputs": [
    {
     "data": {
      "text/html": [
       "<div>\n",
       "<style scoped>\n",
       "    .dataframe tbody tr th:only-of-type {\n",
       "        vertical-align: middle;\n",
       "    }\n",
       "\n",
       "    .dataframe tbody tr th {\n",
       "        vertical-align: top;\n",
       "    }\n",
       "\n",
       "    .dataframe thead th {\n",
       "        text-align: right;\n",
       "    }\n",
       "</style>\n",
       "<table border=\"1\" class=\"dataframe\">\n",
       "  <thead>\n",
       "    <tr style=\"text-align: right;\">\n",
       "      <th></th>\n",
       "      <th>students_average_question_age</th>\n",
       "    </tr>\n",
       "    <tr>\n",
       "      <th>students_id</th>\n",
       "      <th></th>\n",
       "    </tr>\n",
       "  </thead>\n",
       "  <tbody>\n",
       "    <tr>\n",
       "      <th>0001a66883f74e8d91884fc6ea0d66a7</th>\n",
       "      <td>9 days 15:59:08</td>\n",
       "    </tr>\n",
       "    <tr>\n",
       "      <th>0004592176864233990d949862baa2f3</th>\n",
       "      <td>218 days 05:37:10.500000</td>\n",
       "    </tr>\n",
       "    <tr>\n",
       "      <th>001bd6f7f1ac4897b0b35dc665c64d2e</th>\n",
       "      <td>43 days 09:56:39.571428</td>\n",
       "    </tr>\n",
       "    <tr>\n",
       "      <th>001d1629d09d441a8f09e3bfa884e6b9</th>\n",
       "      <td>45 days 09:36:57</td>\n",
       "    </tr>\n",
       "    <tr>\n",
       "      <th>001df2a2cfb74ef78f3053ddee305ba6</th>\n",
       "      <td>214 days 14:00:50.750000</td>\n",
       "    </tr>\n",
       "  </tbody>\n",
       "</table>\n",
       "</div>"
      ],
      "text/plain": [
       "                                 students_average_question_age\n",
       "students_id                                                   \n",
       "0001a66883f74e8d91884fc6ea0d66a7               9 days 15:59:08\n",
       "0004592176864233990d949862baa2f3      218 days 05:37:10.500000\n",
       "001bd6f7f1ac4897b0b35dc665c64d2e       43 days 09:56:39.571428\n",
       "001d1629d09d441a8f09e3bfa884e6b9              45 days 09:36:57\n",
       "001df2a2cfb74ef78f3053ddee305ba6      214 days 14:00:50.750000"
      ]
     },
     "execution_count": 145,
     "metadata": {},
     "output_type": "execute_result"
    }
   ],
   "source": [
    "average_question_age = pd.DataFrame({'students_average_question_age': average_question_age})\n",
    "average_question_age.head()"
   ]
  },
  {
   "cell_type": "code",
   "execution_count": 146,
   "metadata": {},
   "outputs": [
    {
     "data": {
      "text/html": [
       "<div>\n",
       "<style scoped>\n",
       "    .dataframe tbody tr th:only-of-type {\n",
       "        vertical-align: middle;\n",
       "    }\n",
       "\n",
       "    .dataframe tbody tr th {\n",
       "        vertical-align: top;\n",
       "    }\n",
       "\n",
       "    .dataframe thead th {\n",
       "        text-align: right;\n",
       "    }\n",
       "</style>\n",
       "<table border=\"1\" class=\"dataframe\">\n",
       "  <thead>\n",
       "    <tr style=\"text-align: right;\">\n",
       "      <th></th>\n",
       "      <th>students_id</th>\n",
       "      <th>students_location</th>\n",
       "      <th>students_date_joined</th>\n",
       "      <th>students_questions_asked</th>\n",
       "      <th>students_average_question_age</th>\n",
       "    </tr>\n",
       "  </thead>\n",
       "  <tbody>\n",
       "    <tr>\n",
       "      <th>0</th>\n",
       "      <td>12a89e96755a4dba83ff03e03043d9c0</td>\n",
       "      <td>NaN</td>\n",
       "      <td>2011-12-16 14:19:24</td>\n",
       "      <td>2</td>\n",
       "      <td>794 days 06:00:53</td>\n",
       "    </tr>\n",
       "    <tr>\n",
       "      <th>1</th>\n",
       "      <td>5bdd2eb44dd944a9a7ab9aba068d1ef2</td>\n",
       "      <td>NaN</td>\n",
       "      <td>2012-01-01 05:00:00</td>\n",
       "      <td>2</td>\n",
       "      <td>2 days 16:05:06.500000</td>\n",
       "    </tr>\n",
       "    <tr>\n",
       "      <th>2</th>\n",
       "      <td>9658267bc2564a85bad1e802de5fb597</td>\n",
       "      <td>Wayne, Pennsylvania</td>\n",
       "      <td>2012-01-01 05:00:00</td>\n",
       "      <td>6</td>\n",
       "      <td>377 days 15:36:03</td>\n",
       "    </tr>\n",
       "    <tr>\n",
       "      <th>3</th>\n",
       "      <td>7b1900c458e34573bfeb0d57ffbd260a</td>\n",
       "      <td>NaN</td>\n",
       "      <td>2012-01-01 05:00:00</td>\n",
       "      <td>3</td>\n",
       "      <td>8 days 13:05:38</td>\n",
       "    </tr>\n",
       "    <tr>\n",
       "      <th>4</th>\n",
       "      <td>e9efc4d6e06e49c7ae5afe1aad8c5bd5</td>\n",
       "      <td>NaN</td>\n",
       "      <td>2012-01-01 05:00:00</td>\n",
       "      <td>1</td>\n",
       "      <td>21 days 21:56:35</td>\n",
       "    </tr>\n",
       "  </tbody>\n",
       "</table>\n",
       "</div>"
      ],
      "text/plain": [
       "                        students_id    students_location students_date_joined  \\\n",
       "0  12a89e96755a4dba83ff03e03043d9c0                  NaN  2011-12-16 14:19:24   \n",
       "1  5bdd2eb44dd944a9a7ab9aba068d1ef2                  NaN  2012-01-01 05:00:00   \n",
       "2  9658267bc2564a85bad1e802de5fb597  Wayne, Pennsylvania  2012-01-01 05:00:00   \n",
       "3  7b1900c458e34573bfeb0d57ffbd260a                  NaN  2012-01-01 05:00:00   \n",
       "4  e9efc4d6e06e49c7ae5afe1aad8c5bd5                  NaN  2012-01-01 05:00:00   \n",
       "\n",
       "   students_questions_asked students_average_question_age  \n",
       "0                         2             794 days 06:00:53  \n",
       "1                         2        2 days 16:05:06.500000  \n",
       "2                         6             377 days 15:36:03  \n",
       "3                         3               8 days 13:05:38  \n",
       "4                         1              21 days 21:56:35  "
      ]
     },
     "execution_count": 146,
     "metadata": {},
     "output_type": "execute_result"
    }
   ],
   "source": [
    "stud_data = stud_data.merge(average_question_age, on='students_id')\n",
    "stud_data.head()"
   ]
  },
  {
   "cell_type": "markdown",
   "metadata": {},
   "source": [
    "---"
   ]
  },
  {
   "cell_type": "markdown",
   "metadata": {},
   "source": [
    "# Load preprocessed data"
   ]
  },
  {
   "cell_type": "code",
   "execution_count": 77,
   "metadata": {
    "scrolled": true
   },
   "outputs": [],
   "source": [
    "qa_data = pd.read_csv('../../data/qa_data.csv')\n",
    "stud_data = pd.read_csv('../../data/stud_data.csv')\n",
    "prof_data = pd.read_csv('../../data/prof_data.csv')"
   ]
  },
  {
   "cell_type": "code",
   "execution_count": 89,
   "metadata": {},
   "outputs": [],
   "source": [
    "qa_data.questions_date_added = pd.to_datetime(qa_data.questions_date_added)"
   ]
  },
  {
   "cell_type": "code",
   "execution_count": 91,
   "metadata": {},
   "outputs": [
    {
     "data": {
      "text/plain": [
       "117"
      ]
     },
     "execution_count": 91,
     "metadata": {},
     "output_type": "execute_result"
    }
   ],
   "source": [
    "qa_data.questions_date_added.loc[0].dayofyear"
   ]
  },
  {
   "cell_type": "markdown",
   "metadata": {},
   "source": [
    "# Choose number of categories"
   ]
  },
  {
   "cell_type": "code",
   "execution_count": 213,
   "metadata": {},
   "outputs": [],
   "source": [
    "ques_by_loc = stud_data.groupby('students_state').students_questions_asked.sum().sort_values(ascending=False)"
   ]
  },
  {
   "cell_type": "code",
   "execution_count": 222,
   "metadata": {
    "scrolled": true
   },
   "outputs": [
    {
     "data": {
      "text/plain": [
       "students_state\n",
       "Spain          144\n",
       "Mississippi    135\n",
       "Nebraska       128\n",
       "New Mexico     109\n",
       "Vermont        100\n",
       "Name: students_questions_asked, dtype: int64"
      ]
     },
     "execution_count": 222,
     "metadata": {},
     "output_type": "execute_result"
    }
   ],
   "source": [
    "ques_by_loc.iloc[40:].head()"
   ]
  },
  {
   "cell_type": "code",
   "execution_count": 215,
   "metadata": {},
   "outputs": [
    {
     "data": {
      "image/png": "[encoded data removed]",
      "text/plain": [
       "<Figure size 432x288 with 1 Axes>"
      ]
     },
     "metadata": {
      "needs_background": "light"
     },
     "output_type": "display_data"
    }
   ],
   "source": [
    "plt.plot(ques_by_loc.values.cumsum());"
   ]
  },
  {
   "cell_type": "code",
   "execution_count": 221,
   "metadata": {},
   "outputs": [
    {
     "data": {
      "text/plain": [
       "45300"
      ]
     },
     "execution_count": 221,
     "metadata": {},
     "output_type": "execute_result"
    }
   ],
   "source": [
    "ques_by_loc.values.cumsum()[40]"
   ]
  },
  {
   "cell_type": "code",
   "execution_count": null,
   "metadata": {},
   "outputs": [],
   "source": []
  },
  {
   "cell_type": "code",
   "execution_count": 223,
   "metadata": {},
   "outputs": [],
   "source": [
    "ques_by_loc = prof_data.groupby('professionals_state').professionals_questions_answered.sum().sort_values(ascending=False)"
   ]
  },
  {
   "cell_type": "code",
   "execution_count": 224,
   "metadata": {},
   "outputs": [
    {
     "data": {
      "image/png": "[encoded data removed]",
      "text/plain": [
       "<Figure size 432x288 with 1 Axes>"
      ]
     },
     "metadata": {
      "needs_background": "light"
     },
     "output_type": "display_data"
    }
   ],
   "source": [
    "plt.plot(ques_by_loc.values.cumsum());"
   ]
  },
  {
   "cell_type": "code",
   "execution_count": 236,
   "metadata": {},
   "outputs": [
    {
     "data": {
      "text/plain": [
       "42847"
      ]
     },
     "execution_count": 236,
     "metadata": {},
     "output_type": "execute_result"
    }
   ],
   "source": [
    "ques_by_loc.values.cumsum()[40]"
   ]
  },
  {
   "cell_type": "code",
   "execution_count": 240,
   "metadata": {},
   "outputs": [
    {
     "data": {
      "text/plain": [
       "professionals_state\n",
       "Minnesota                     172\n",
       "Wisconsin                     165\n",
       "Washington D.C. Metro Area    160\n",
       "South Carolina                160\n",
       "Missouri                      154\n",
       "Name: professionals_questions_answered, dtype: int64"
      ]
     },
     "execution_count": 240,
     "metadata": {},
     "output_type": "execute_result"
    }
   ],
   "source": [
    "ques_by_loc.iloc[40:].head()"
   ]
  },
  {
   "cell_type": "code",
   "execution_count": null,
   "metadata": {},
   "outputs": [],
   "source": []
  },
  {
   "cell_type": "code",
   "execution_count": 241,
   "metadata": {},
   "outputs": [],
   "source": [
    "ques_by_loc = prof_data.groupby('professionals_industry').professionals_questions_answered.sum().sort_values(ascending=False)"
   ]
  },
  {
   "cell_type": "code",
   "execution_count": 242,
   "metadata": {},
   "outputs": [
    {
     "data": {
      "image/png": "[encoded data removed]",
      "text/plain": [
       "<Figure size 432x288 with 1 Axes>"
      ]
     },
     "metadata": {
      "needs_background": "light"
     },
     "output_type": "display_data"
    }
   ],
   "source": [
    "plt.plot(ques_by_loc.values.cumsum());"
   ]
  },
  {
   "cell_type": "code",
   "execution_count": 254,
   "metadata": {},
   "outputs": [
    {
     "data": {
      "text/plain": [
       "38934"
      ]
     },
     "execution_count": 254,
     "metadata": {},
     "output_type": "execute_result"
    }
   ],
   "source": [
    "ques_by_loc.values.cumsum()[100]"
   ]
  },
  {
   "cell_type": "markdown",
   "metadata": {},
   "source": [
    "---"
   ]
  },
  {
   "cell_type": "markdown",
   "metadata": {},
   "source": [
    "# Count the number of words in each question"
   ]
  },
  {
   "cell_type": "code",
   "execution_count": 137,
   "metadata": {},
   "outputs": [
    {
     "data": {
      "text/plain": [
       "35"
      ]
     },
     "execution_count": 137,
     "metadata": {},
     "output_type": "execute_result"
    }
   ],
   "source": [
    "import re\n",
    "ques = qa_data.answers_body.loc[0]\n",
    "ques = re.sub(r'(<[^>]*[/]?>|[\\r]?\\n)', ' ', ques)\n",
    "ques = re.sub(r' +', ' ', ques).strip()\n",
    "ques_len = len(ques.split(' '))\n",
    "ques_len"
   ]
  },
  {
   "cell_type": "code",
   "execution_count": 106,
   "metadata": {
    "scrolled": false
   },
   "outputs": [
    {
     "data": {
      "text/plain": [
       "0    <p>Hi!</p>\\r\\n<p>You are asking a very interes...\n",
       "1    <p>It's helpful to take higher-level classes i...\n",
       "2    <p>Essentially, treat them like human beings. ...\n",
       "3    <p>Check the link below.</p>\\r\\n<p>http://www....\n",
       "4    <p>Hi Rodrigo!</p>\\r\\n<p>The important thing t...\n",
       "Name: answers_body, dtype: object"
      ]
     },
     "execution_count": 106,
     "metadata": {},
     "output_type": "execute_result"
    }
   ],
   "source": [
    "qa_data.answers_body.head()"
   ]
  },
  {
   "cell_type": "code",
   "execution_count": 122,
   "metadata": {
    "scrolled": true
   },
   "outputs": [
    {
     "data": {
      "text/plain": [
       "0    Hi! You are asking a very interesting question...\n",
       "1    It's helpful to take higher-level classes in S...\n",
       "2    Essentially, treat them like human beings. You...\n",
       "3    Check the link below. http://www.educationinfo...\n",
       "4    Hi Rodrigo! The important thing to remember if...\n",
       "Name: answers_body, dtype: object"
      ]
     },
     "execution_count": 122,
     "metadata": {},
     "output_type": "execute_result"
    }
   ],
   "source": [
    "qa_data.answers_body = (qa_data.answers_body\n",
    "                        .apply(lambda x: re.sub(r'(<[^>]*[/]?>|[\\r]?\\n)', ' ', str(x)))\n",
    "                        .apply(lambda x: re.sub(r' +', ' ', x).strip()))\n",
    "qa_data.answers_body.head()"
   ]
  },
  {
   "cell_type": "code",
   "execution_count": 128,
   "metadata": {},
   "outputs": [
    {
     "data": {
      "text/plain": [
       "0    What is a maths teacher? what is a maths teach...\n",
       "1    Hi I am doing my 10th Standard. What are the q...\n",
       "2    Hi I am doing my 10th Standard. What are the q...\n",
       "3    Hi I am doing my 10th Standard. What are the q...\n",
       "4    I like soccer because i been playing sense i w...\n",
       "Name: questions_body, dtype: object"
      ]
     },
     "execution_count": 128,
     "metadata": {},
     "output_type": "execute_result"
    }
   ],
   "source": [
    "qa_data.questions_body = (qa_data.questions_body\n",
    "                         .apply(lambda x: re.sub(r'(<[^>]*[/]?>|[\\r]?\\n)', ' ', str(x)))\n",
    "                         .apply(lambda x: re.sub(r' +', ' ', x).strip()))\n",
    "qa_data.questions_body.head()"
   ]
  },
  {
   "cell_type": "code",
   "execution_count": 130,
   "metadata": {},
   "outputs": [
    {
     "data": {
      "text/html": [
       "<div>\n",
       "<style scoped>\n",
       "    .dataframe tbody tr th:only-of-type {\n",
       "        vertical-align: middle;\n",
       "    }\n",
       "\n",
       "    .dataframe tbody tr th {\n",
       "        vertical-align: top;\n",
       "    }\n",
       "\n",
       "    .dataframe thead th {\n",
       "        text-align: right;\n",
       "    }\n",
       "</style>\n",
       "<table border=\"1\" class=\"dataframe\">\n",
       "  <thead>\n",
       "    <tr style=\"text-align: right;\">\n",
       "      <th></th>\n",
       "      <th>students_id</th>\n",
       "      <th>questions_id</th>\n",
       "      <th>questions_title</th>\n",
       "      <th>questions_body</th>\n",
       "      <th>questions_date_added</th>\n",
       "      <th>professionals_id</th>\n",
       "      <th>answers_id</th>\n",
       "      <th>answers_body</th>\n",
       "      <th>professionals_last_answer_date</th>\n",
       "      <th>questions_body_length</th>\n",
       "    </tr>\n",
       "  </thead>\n",
       "  <tbody>\n",
       "    <tr>\n",
       "      <th>0</th>\n",
       "      <td>8f6f374ffd834d258ab69d376dd998f5</td>\n",
       "      <td>332a511f1569444485cf7a7a556a5e54</td>\n",
       "      <td>Teacher   career   question</td>\n",
       "      <td>What is a maths teacher? what is a maths teach...</td>\n",
       "      <td>2016-04-26 11:14:26</td>\n",
       "      <td>36ff3b3666df400f956f8335cf53e09e</td>\n",
       "      <td>4e5f01128cae4f6d8fd697cec5dca60c</td>\n",
       "      <td>Hi! You are asking a very interesting question...</td>\n",
       "      <td>2016-04-29 14:15:00</td>\n",
       "      <td>14</td>\n",
       "    </tr>\n",
       "    <tr>\n",
       "      <th>1</th>\n",
       "      <td>8f6f374ffd834d258ab69d376dd998f5</td>\n",
       "      <td>7a0d4bc67b1c492fb06fe455b1c07faf</td>\n",
       "      <td>Teacher's Qualification</td>\n",
       "      <td>Hi I am doing my 10th Standard. What are the q...</td>\n",
       "      <td>2016-04-26 10:59:44</td>\n",
       "      <td>05ab77d4c6a141b999044ebbf5415b0d</td>\n",
       "      <td>334f6735d31e45589e43da5ae7056e50</td>\n",
       "      <td>It's helpful to take higher-level classes in S...</td>\n",
       "      <td>2018-03-08 18:23:01</td>\n",
       "      <td>27</td>\n",
       "    </tr>\n",
       "    <tr>\n",
       "      <th>2</th>\n",
       "      <td>8f6f374ffd834d258ab69d376dd998f5</td>\n",
       "      <td>7a0d4bc67b1c492fb06fe455b1c07faf</td>\n",
       "      <td>Teacher's Qualification</td>\n",
       "      <td>Hi I am doing my 10th Standard. What are the q...</td>\n",
       "      <td>2016-04-26 10:59:44</td>\n",
       "      <td>05ab77d4c6a141b999044ebbf5415b0d</td>\n",
       "      <td>e5d66281cc314675b95ddbb799b75473</td>\n",
       "      <td>Essentially, treat them like human beings. You...</td>\n",
       "      <td>2018-03-08 18:23:36</td>\n",
       "      <td>27</td>\n",
       "    </tr>\n",
       "    <tr>\n",
       "      <th>3</th>\n",
       "      <td>8f6f374ffd834d258ab69d376dd998f5</td>\n",
       "      <td>7a0d4bc67b1c492fb06fe455b1c07faf</td>\n",
       "      <td>Teacher's Qualification</td>\n",
       "      <td>Hi I am doing my 10th Standard. What are the q...</td>\n",
       "      <td>2016-04-26 10:59:44</td>\n",
       "      <td>58fa5e95fe9e480a9349bbb1d7faaddb</td>\n",
       "      <td>e5c0da2a29ff414fa76b9da6e86337fc</td>\n",
       "      <td>Check the link below. http://www.educationinfo...</td>\n",
       "      <td>2016-07-03 18:09:58</td>\n",
       "      <td>27</td>\n",
       "    </tr>\n",
       "    <tr>\n",
       "      <th>4</th>\n",
       "      <td>585ac233015447cc9e9a217044e515e1</td>\n",
       "      <td>0f1d6a4f276c4a05878dd48e03e52289</td>\n",
       "      <td>what kind of  college could i go  to for a soc...</td>\n",
       "      <td>I like soccer because i been playing sense i w...</td>\n",
       "      <td>2016-05-19 22:16:25</td>\n",
       "      <td>36ff3b3666df400f956f8335cf53e09e</td>\n",
       "      <td>f3519ab99a1a4a13a8a9ecb814287d2a</td>\n",
       "      <td>Hi Rodrigo! The important thing to remember if...</td>\n",
       "      <td>2016-07-31 15:10:27</td>\n",
       "      <td>27</td>\n",
       "    </tr>\n",
       "  </tbody>\n",
       "</table>\n",
       "</div>"
      ],
      "text/plain": [
       "                        students_id                      questions_id  \\\n",
       "0  8f6f374ffd834d258ab69d376dd998f5  332a511f1569444485cf7a7a556a5e54   \n",
       "1  8f6f374ffd834d258ab69d376dd998f5  7a0d4bc67b1c492fb06fe455b1c07faf   \n",
       "2  8f6f374ffd834d258ab69d376dd998f5  7a0d4bc67b1c492fb06fe455b1c07faf   \n",
       "3  8f6f374ffd834d258ab69d376dd998f5  7a0d4bc67b1c492fb06fe455b1c07faf   \n",
       "4  585ac233015447cc9e9a217044e515e1  0f1d6a4f276c4a05878dd48e03e52289   \n",
       "\n",
       "                                     questions_title  \\\n",
       "0                        Teacher   career   question   \n",
       "1                            Teacher's Qualification   \n",
       "2                            Teacher's Qualification   \n",
       "3                            Teacher's Qualification   \n",
       "4  what kind of  college could i go  to for a soc...   \n",
       "\n",
       "                                      questions_body questions_date_added  \\\n",
       "0  What is a maths teacher? what is a maths teach...  2016-04-26 11:14:26   \n",
       "1  Hi I am doing my 10th Standard. What are the q...  2016-04-26 10:59:44   \n",
       "2  Hi I am doing my 10th Standard. What are the q...  2016-04-26 10:59:44   \n",
       "3  Hi I am doing my 10th Standard. What are the q...  2016-04-26 10:59:44   \n",
       "4  I like soccer because i been playing sense i w...  2016-05-19 22:16:25   \n",
       "\n",
       "                   professionals_id                        answers_id  \\\n",
       "0  36ff3b3666df400f956f8335cf53e09e  4e5f01128cae4f6d8fd697cec5dca60c   \n",
       "1  05ab77d4c6a141b999044ebbf5415b0d  334f6735d31e45589e43da5ae7056e50   \n",
       "2  05ab77d4c6a141b999044ebbf5415b0d  e5d66281cc314675b95ddbb799b75473   \n",
       "3  58fa5e95fe9e480a9349bbb1d7faaddb  e5c0da2a29ff414fa76b9da6e86337fc   \n",
       "4  36ff3b3666df400f956f8335cf53e09e  f3519ab99a1a4a13a8a9ecb814287d2a   \n",
       "\n",
       "                                        answers_body  \\\n",
       "0  Hi! You are asking a very interesting question...   \n",
       "1  It's helpful to take higher-level classes in S...   \n",
       "2  Essentially, treat them like human beings. You...   \n",
       "3  Check the link below. http://www.educationinfo...   \n",
       "4  Hi Rodrigo! The important thing to remember if...   \n",
       "\n",
       "  professionals_last_answer_date  questions_body_length  \n",
       "0            2016-04-29 14:15:00                     14  \n",
       "1            2018-03-08 18:23:01                     27  \n",
       "2            2018-03-08 18:23:36                     27  \n",
       "3            2016-07-03 18:09:58                     27  \n",
       "4            2016-07-31 15:10:27                     27  "
      ]
     },
     "execution_count": 130,
     "metadata": {},
     "output_type": "execute_result"
    }
   ],
   "source": [
    "qa_data['questions_body_length'] = qa_data.questions_body.apply(lambda x: len(x.split(' ')))\n",
    "qa_data.head()"
   ]
  },
  {
   "cell_type": "code",
   "execution_count": 131,
   "metadata": {},
   "outputs": [
    {
     "data": {
      "text/html": [
       "<div>\n",
       "<style scoped>\n",
       "    .dataframe tbody tr th:only-of-type {\n",
       "        vertical-align: middle;\n",
       "    }\n",
       "\n",
       "    .dataframe tbody tr th {\n",
       "        vertical-align: top;\n",
       "    }\n",
       "\n",
       "    .dataframe thead th {\n",
       "        text-align: right;\n",
       "    }\n",
       "</style>\n",
       "<table border=\"1\" class=\"dataframe\">\n",
       "  <thead>\n",
       "    <tr style=\"text-align: right;\">\n",
       "      <th></th>\n",
       "      <th>students_id</th>\n",
       "      <th>questions_id</th>\n",
       "      <th>questions_title</th>\n",
       "      <th>questions_body</th>\n",
       "      <th>questions_date_added</th>\n",
       "      <th>professionals_id</th>\n",
       "      <th>answers_id</th>\n",
       "      <th>answers_body</th>\n",
       "      <th>professionals_last_answer_date</th>\n",
       "      <th>questions_body_length</th>\n",
       "      <th>answers_body_length</th>\n",
       "    </tr>\n",
       "  </thead>\n",
       "  <tbody>\n",
       "    <tr>\n",
       "      <th>0</th>\n",
       "      <td>8f6f374ffd834d258ab69d376dd998f5</td>\n",
       "      <td>332a511f1569444485cf7a7a556a5e54</td>\n",
       "      <td>Teacher   career   question</td>\n",
       "      <td>What is a maths teacher? what is a maths teach...</td>\n",
       "      <td>2016-04-26 11:14:26</td>\n",
       "      <td>36ff3b3666df400f956f8335cf53e09e</td>\n",
       "      <td>4e5f01128cae4f6d8fd697cec5dca60c</td>\n",
       "      <td>Hi! You are asking a very interesting question...</td>\n",
       "      <td>2016-04-29 14:15:00</td>\n",
       "      <td>14</td>\n",
       "      <td>35</td>\n",
       "    </tr>\n",
       "    <tr>\n",
       "      <th>1</th>\n",
       "      <td>8f6f374ffd834d258ab69d376dd998f5</td>\n",
       "      <td>7a0d4bc67b1c492fb06fe455b1c07faf</td>\n",
       "      <td>Teacher's Qualification</td>\n",
       "      <td>Hi I am doing my 10th Standard. What are the q...</td>\n",
       "      <td>2016-04-26 10:59:44</td>\n",
       "      <td>05ab77d4c6a141b999044ebbf5415b0d</td>\n",
       "      <td>334f6735d31e45589e43da5ae7056e50</td>\n",
       "      <td>It's helpful to take higher-level classes in S...</td>\n",
       "      <td>2018-03-08 18:23:01</td>\n",
       "      <td>27</td>\n",
       "      <td>268</td>\n",
       "    </tr>\n",
       "    <tr>\n",
       "      <th>2</th>\n",
       "      <td>8f6f374ffd834d258ab69d376dd998f5</td>\n",
       "      <td>7a0d4bc67b1c492fb06fe455b1c07faf</td>\n",
       "      <td>Teacher's Qualification</td>\n",
       "      <td>Hi I am doing my 10th Standard. What are the q...</td>\n",
       "      <td>2016-04-26 10:59:44</td>\n",
       "      <td>05ab77d4c6a141b999044ebbf5415b0d</td>\n",
       "      <td>e5d66281cc314675b95ddbb799b75473</td>\n",
       "      <td>Essentially, treat them like human beings. You...</td>\n",
       "      <td>2018-03-08 18:23:36</td>\n",
       "      <td>27</td>\n",
       "      <td>88</td>\n",
       "    </tr>\n",
       "    <tr>\n",
       "      <th>3</th>\n",
       "      <td>8f6f374ffd834d258ab69d376dd998f5</td>\n",
       "      <td>7a0d4bc67b1c492fb06fe455b1c07faf</td>\n",
       "      <td>Teacher's Qualification</td>\n",
       "      <td>Hi I am doing my 10th Standard. What are the q...</td>\n",
       "      <td>2016-04-26 10:59:44</td>\n",
       "      <td>58fa5e95fe9e480a9349bbb1d7faaddb</td>\n",
       "      <td>e5c0da2a29ff414fa76b9da6e86337fc</td>\n",
       "      <td>Check the link below. http://www.educationinfo...</td>\n",
       "      <td>2016-07-03 18:09:58</td>\n",
       "      <td>27</td>\n",
       "      <td>5</td>\n",
       "    </tr>\n",
       "    <tr>\n",
       "      <th>4</th>\n",
       "      <td>585ac233015447cc9e9a217044e515e1</td>\n",
       "      <td>0f1d6a4f276c4a05878dd48e03e52289</td>\n",
       "      <td>what kind of  college could i go  to for a soc...</td>\n",
       "      <td>I like soccer because i been playing sense i w...</td>\n",
       "      <td>2016-05-19 22:16:25</td>\n",
       "      <td>36ff3b3666df400f956f8335cf53e09e</td>\n",
       "      <td>f3519ab99a1a4a13a8a9ecb814287d2a</td>\n",
       "      <td>Hi Rodrigo! The important thing to remember if...</td>\n",
       "      <td>2016-07-31 15:10:27</td>\n",
       "      <td>27</td>\n",
       "      <td>73</td>\n",
       "    </tr>\n",
       "  </tbody>\n",
       "</table>\n",
       "</div>"
      ],
      "text/plain": [
       "                        students_id                      questions_id  \\\n",
       "0  8f6f374ffd834d258ab69d376dd998f5  332a511f1569444485cf7a7a556a5e54   \n",
       "1  8f6f374ffd834d258ab69d376dd998f5  7a0d4bc67b1c492fb06fe455b1c07faf   \n",
       "2  8f6f374ffd834d258ab69d376dd998f5  7a0d4bc67b1c492fb06fe455b1c07faf   \n",
       "3  8f6f374ffd834d258ab69d376dd998f5  7a0d4bc67b1c492fb06fe455b1c07faf   \n",
       "4  585ac233015447cc9e9a217044e515e1  0f1d6a4f276c4a05878dd48e03e52289   \n",
       "\n",
       "                                     questions_title  \\\n",
       "0                        Teacher   career   question   \n",
       "1                            Teacher's Qualification   \n",
       "2                            Teacher's Qualification   \n",
       "3                            Teacher's Qualification   \n",
       "4  what kind of  college could i go  to for a soc...   \n",
       "\n",
       "                                      questions_body questions_date_added  \\\n",
       "0  What is a maths teacher? what is a maths teach...  2016-04-26 11:14:26   \n",
       "1  Hi I am doing my 10th Standard. What are the q...  2016-04-26 10:59:44   \n",
       "2  Hi I am doing my 10th Standard. What are the q...  2016-04-26 10:59:44   \n",
       "3  Hi I am doing my 10th Standard. What are the q...  2016-04-26 10:59:44   \n",
       "4  I like soccer because i been playing sense i w...  2016-05-19 22:16:25   \n",
       "\n",
       "                   professionals_id                        answers_id  \\\n",
       "0  36ff3b3666df400f956f8335cf53e09e  4e5f01128cae4f6d8fd697cec5dca60c   \n",
       "1  05ab77d4c6a141b999044ebbf5415b0d  334f6735d31e45589e43da5ae7056e50   \n",
       "2  05ab77d4c6a141b999044ebbf5415b0d  e5d66281cc314675b95ddbb799b75473   \n",
       "3  58fa5e95fe9e480a9349bbb1d7faaddb  e5c0da2a29ff414fa76b9da6e86337fc   \n",
       "4  36ff3b3666df400f956f8335cf53e09e  f3519ab99a1a4a13a8a9ecb814287d2a   \n",
       "\n",
       "                                        answers_body  \\\n",
       "0  Hi! You are asking a very interesting question...   \n",
       "1  It's helpful to take higher-level classes in S...   \n",
       "2  Essentially, treat them like human beings. You...   \n",
       "3  Check the link below. http://www.educationinfo...   \n",
       "4  Hi Rodrigo! The important thing to remember if...   \n",
       "\n",
       "  professionals_last_answer_date  questions_body_length  answers_body_length  \n",
       "0            2016-04-29 14:15:00                     14                   35  \n",
       "1            2018-03-08 18:23:01                     27                  268  \n",
       "2            2018-03-08 18:23:36                     27                   88  \n",
       "3            2016-07-03 18:09:58                     27                    5  \n",
       "4            2016-07-31 15:10:27                     27                   73  "
      ]
     },
     "execution_count": 131,
     "metadata": {},
     "output_type": "execute_result"
    }
   ],
   "source": [
    "qa_data['answers_body_length'] = qa_data.answers_body.apply(lambda x: len(x.split(' ')))\n",
    "qa_data.head()"
   ]
  },
  {
   "cell_type": "code",
   "execution_count": null,
   "metadata": {},
   "outputs": [],
   "source": []
  },
  {
   "cell_type": "code",
   "execution_count": null,
   "metadata": {},
   "outputs": [],
   "source": []
  },
  {
   "cell_type": "code",
   "execution_count": null,
   "metadata": {},
   "outputs": [],
   "source": []
  },
  {
   "cell_type": "code",
   "execution_count": null,
   "metadata": {},
   "outputs": [],
   "source": []
  },
  {
   "cell_type": "code",
   "execution_count": null,
   "metadata": {},
   "outputs": [],
   "source": []
  },
  {
   "cell_type": "code",
   "execution_count": null,
   "metadata": {},
   "outputs": [],
   "source": []
  },
  {
   "cell_type": "code",
   "execution_count": null,
   "metadata": {},
   "outputs": [],
   "source": []
  },
  {
   "cell_type": "code",
   "execution_count": null,
   "metadata": {},
   "outputs": [],
   "source": []
  },
  {
   "cell_type": "code",
   "execution_count": null,
   "metadata": {},
   "outputs": [],
   "source": []
  },
  {
   "cell_type": "code",
   "execution_count": null,
   "metadata": {},
   "outputs": [],
   "source": []
  },
  {
   "cell_type": "code",
   "execution_count": null,
   "metadata": {},
   "outputs": [],
   "source": []
  },
  {
   "cell_type": "code",
   "execution_count": null,
   "metadata": {},
   "outputs": [],
   "source": []
  },
  {
   "cell_type": "code",
   "execution_count": null,
   "metadata": {},
   "outputs": [],
   "source": []
  },
  {
   "cell_type": "code",
   "execution_count": null,
   "metadata": {},
   "outputs": [],
   "source": []
  },
  {
   "cell_type": "code",
   "execution_count": null,
   "metadata": {},
   "outputs": [],
   "source": []
  },
  {
   "cell_type": "code",
   "execution_count": null,
   "metadata": {},
   "outputs": [],
   "source": []
  },
  {
   "cell_type": "code",
   "execution_count": null,
   "metadata": {},
   "outputs": [],
   "source": []
  }
 ],
 "metadata": {
  "kernelspec": {
   "display_name": "Python 3",
   "language": "python",
   "name": "python3"
  },
  "language_info": {
   "codemirror_mode": {
    "name": "ipython",
    "version": 3
   },
   "file_extension": ".py",
   "mimetype": "text/x-python",
   "name": "python",
   "nbconvert_exporter": "python",
   "pygments_lexer": "ipython3",
   "version": "3.6.4"
  }
 },
 "nbformat": 4,
 "nbformat_minor": 2
}
