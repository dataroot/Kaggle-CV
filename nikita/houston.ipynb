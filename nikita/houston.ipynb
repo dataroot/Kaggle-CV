{
 "cells": [
  {
   "cell_type": "code",
   "execution_count": 32,
   "metadata": {
    "ExecuteTime": {
     "end_time": "2019-03-20T10:13:46.245937Z",
     "start_time": "2019-03-20T10:13:46.231523Z"
    }
   },
   "outputs": [],
   "source": [
    "import pickle\n",
    "import random\n",
    "\n",
    "import keras\n",
    "import pandas as pd\n",
    "import numpy as np\n",
    "\n",
    "from modelling import *\n",
    "from evaluating import *\n",
    "from utils import TextProcessor"
   ]
  },
  {
   "cell_type": "code",
   "execution_count": 142,
   "metadata": {
    "ExecuteTime": {
     "end_time": "2019-03-20T11:08:36.142782Z",
     "start_time": "2019-03-20T11:08:36.106579Z"
    }
   },
   "outputs": [],
   "source": [
    "class BatchGenerator(keras.utils.Sequence):\n",
    "    def __init__(self, pos_size, neg_size, data_path):\n",
    "        self.pos_size = pos_size\n",
    "        self.neg_size = neg_size\n",
    "        \n",
    "        que = pd.read_csv(data_path + 'questions.csv')\n",
    "        tag_que = pd.read_csv(data_path + 'tag_questions.csv')\n",
    "        tags = pd.read_csv(data_path + 'tags.csv')\n",
    "        pro = pd.read_csv(data_path + 'professionals.csv')\n",
    "        ans = pd.read_csv(data_path + 'answers.csv')\n",
    "        \n",
    "        self.tp = TextProcessor()\n",
    "        pro['professionals_industry'] = pro['professionals_industry'].apply(self.tp.process)\n",
    "        pro['professionals_industry'] = pro['professionals_industry'].apply(lambda x: ' '.join(x))\n",
    "        \n",
    "        self.pro_ind = {row['professionals_id']: row['professionals_industry'] for i, row in pro.iterrows()}\n",
    "        \n",
    "        que_tags = que.merge(tag_que, left_on = 'questions_id', right_on = 'tag_questions_question_id').merge(tags, left_on = 'tag_questions_tag_id', right_on = 'tags_tag_id')\n",
    "        que_tags = que_tags[['questions_id', 'tags_tag_name']].groupby(by = 'questions_id', as_index = False).aggregate(lambda x: ' '.join(x))\n",
    "        self.que_tag = {row['questions_id']: row['tags_tag_name'].split() for i, row in que_tags.iterrows()}\n",
    "        \n",
    "        ans_que = ans.merge(que, left_on = 'answers_question_id', right_on = 'questions_id')\n",
    "        ans_que_pro = ans_que.merge(pro, left_on = 'answers_author_id', right_on = 'professionals_id')\n",
    "        \n",
    "        self.ques = list(set(ans_que_pro['questions_id']))\n",
    "        self.pros = list(set(ans_que_pro['professionals_id']))\n",
    "        \n",
    "        self.que_pro_set = {(row['questions_id'], row['professionals_id']) for i, row in ans_que_pro.iterrows()}\n",
    "        self.que_pro_list = list(self.que_pro_set)\n",
    "        \n",
    "        with open('tags_embs.pickle', 'rb') as file:\n",
    "            self.tag_emb = pickle.load(file)\n",
    "        with open('industries_embs.pickle', 'rb') as file:\n",
    "            self.ind_emb = pickle.load(file)\n",
    "        \n",
    "    def __len__(self):\n",
    "        return len(self.que_pro_list) // self.pos_size\n",
    "    \n",
    "    def __convert(self, pairs):\n",
    "        x_que, x_pro = [], []\n",
    "        for que, pro in pairs:\n",
    "            tmp = []\n",
    "            for tag in self.que_tag.get(que, ['#']):\n",
    "                tmp.append(self.tag_emb.get(tag, np.zeros(10)))\n",
    "            x_que.append(np.vstack(tmp).mean(axis = 0))\n",
    "            x_pro.append(self.ind_emb.get(self.pro_ind[pro], np.zeros(10)))\n",
    "        return np.vstack(x_que), np.vstack(x_pro)\n",
    "            \n",
    "    def __getitem__(self, index):\n",
    "        pos_pairs = self.que_pro_list[self.pos_size * index: self.pos_size * (index + 1)]\n",
    "        neg_pairs = []\n",
    "        for i in range(self.neg_size):\n",
    "            while True:\n",
    "                que = random.choice(self.ques)\n",
    "                pro = random.choice(self.pros)\n",
    "                if (que, pro) not in self.que_pro_set:\n",
    "                    neg_pairs.append((que, pro))\n",
    "                    break\n",
    "        x_pos_que, x_pos_pro = self.__convert(pos_pairs)\n",
    "        x_neg_que, x_neg_pro = self.__convert(neg_pairs)\n",
    "        \n",
    "        return [np.vstack([x_pos_que, x_neg_que]), np.vstack([x_pos_pro, x_neg_pro])], \\\n",
    "                np.vstack([np.ones((len(x_pos_que), 1)), np.zeros((len(x_neg_que), 1))])\n",
    "    \n",
    "    def on_epoch_end(self):\n",
    "        self.que_pro_list = random.sample(self.que_pro_list, len(self.que_pro_list))"
   ]
  },
  {
   "cell_type": "code",
   "execution_count": 143,
   "metadata": {
    "ExecuteTime": {
     "end_time": "2019-03-20T11:08:45.531064Z",
     "start_time": "2019-03-20T11:08:36.313904Z"
    }
   },
   "outputs": [],
   "source": [
    "bg = BatchGenerator(64, 64, '../../data/')"
   ]
  },
  {
   "cell_type": "code",
   "execution_count": 144,
   "metadata": {
    "ExecuteTime": {
     "end_time": "2019-03-20T11:08:45.561815Z",
     "start_time": "2019-03-20T11:08:45.549916Z"
    }
   },
   "outputs": [
    {
     "data": {
      "text/plain": [
       "773"
      ]
     },
     "execution_count": 144,
     "metadata": {},
     "output_type": "execute_result"
    }
   ],
   "source": [
    "len(bg)"
   ]
  },
  {
   "cell_type": "code",
   "execution_count": 145,
   "metadata": {
    "ExecuteTime": {
     "end_time": "2019-03-20T11:08:46.601788Z",
     "start_time": "2019-03-20T11:08:46.582411Z"
    }
   },
   "outputs": [
    {
     "data": {
      "text/plain": [
       "([array([[-0.09613705,  0.21159824, -0.0252068 , ..., -0.10991801,\n",
       "           0.47798666,  0.35002603],\n",
       "         [-0.4919048 ,  0.31844521,  0.00869839, ...,  0.32226032,\n",
       "          -0.5686155 ,  0.92960918],\n",
       "         [-0.61165535, -0.00737908, -0.17614603, ..., -0.42834923,\n",
       "           1.25261104,  0.23862971],\n",
       "         ...,\n",
       "         [-0.60735184,  0.11329423, -0.02505915, ..., -0.16446325,\n",
       "           0.40958168,  0.78099154],\n",
       "         [-0.68318015,  0.44432926,  0.48859978, ...,  0.38601133,\n",
       "          -0.17467406,  1.41676748],\n",
       "         [ 0.        ,  0.        ,  0.        , ...,  0.        ,\n",
       "           0.        ,  0.        ]]),\n",
       "  array([[ 0.75101042,  0.59809995, -0.15109728, ..., -1.29697061,\n",
       "          -0.41889337,  0.15616894],\n",
       "         [ 0.25563693, -0.05060307,  0.62323833, ..., -1.52895582,\n",
       "          -0.89223313,  1.18154633],\n",
       "         [ 1.0357312 , -0.12629689, -1.36398983, ..., -1.06989944,\n",
       "          -0.59437275,  0.42159066],\n",
       "         ...,\n",
       "         [ 0.98593777,  0.3946355 , -1.14235198, ..., -0.54251355,\n",
       "          -0.43786365,  0.05267866],\n",
       "         [ 1.46550286, -0.09100927,  0.55101943, ..., -1.46670663,\n",
       "           0.33472565,  0.37002432],\n",
       "         [ 1.12953472,  0.30759695, -0.06185105, ..., -0.93799216,\n",
       "          -0.67566746,  0.54554206]])],\n",
       " array([[1.],\n",
       "        [1.],\n",
       "        [1.],\n",
       "        [1.],\n",
       "        [1.],\n",
       "        [1.],\n",
       "        [1.],\n",
       "        [1.],\n",
       "        [1.],\n",
       "        [1.],\n",
       "        [1.],\n",
       "        [1.],\n",
       "        [1.],\n",
       "        [1.],\n",
       "        [1.],\n",
       "        [1.],\n",
       "        [1.],\n",
       "        [1.],\n",
       "        [1.],\n",
       "        [1.],\n",
       "        [1.],\n",
       "        [1.],\n",
       "        [1.],\n",
       "        [1.],\n",
       "        [1.],\n",
       "        [1.],\n",
       "        [1.],\n",
       "        [1.],\n",
       "        [1.],\n",
       "        [1.],\n",
       "        [1.],\n",
       "        [1.],\n",
       "        [1.],\n",
       "        [1.],\n",
       "        [1.],\n",
       "        [1.],\n",
       "        [1.],\n",
       "        [1.],\n",
       "        [1.],\n",
       "        [1.],\n",
       "        [1.],\n",
       "        [1.],\n",
       "        [1.],\n",
       "        [1.],\n",
       "        [1.],\n",
       "        [1.],\n",
       "        [1.],\n",
       "        [1.],\n",
       "        [1.],\n",
       "        [1.],\n",
       "        [1.],\n",
       "        [1.],\n",
       "        [1.],\n",
       "        [1.],\n",
       "        [1.],\n",
       "        [1.],\n",
       "        [1.],\n",
       "        [1.],\n",
       "        [1.],\n",
       "        [1.],\n",
       "        [1.],\n",
       "        [1.],\n",
       "        [1.],\n",
       "        [1.],\n",
       "        [0.],\n",
       "        [0.],\n",
       "        [0.],\n",
       "        [0.],\n",
       "        [0.],\n",
       "        [0.],\n",
       "        [0.],\n",
       "        [0.],\n",
       "        [0.],\n",
       "        [0.],\n",
       "        [0.],\n",
       "        [0.],\n",
       "        [0.],\n",
       "        [0.],\n",
       "        [0.],\n",
       "        [0.],\n",
       "        [0.],\n",
       "        [0.],\n",
       "        [0.],\n",
       "        [0.],\n",
       "        [0.],\n",
       "        [0.],\n",
       "        [0.],\n",
       "        [0.],\n",
       "        [0.],\n",
       "        [0.],\n",
       "        [0.],\n",
       "        [0.],\n",
       "        [0.],\n",
       "        [0.],\n",
       "        [0.],\n",
       "        [0.],\n",
       "        [0.],\n",
       "        [0.],\n",
       "        [0.],\n",
       "        [0.],\n",
       "        [0.],\n",
       "        [0.],\n",
       "        [0.],\n",
       "        [0.],\n",
       "        [0.],\n",
       "        [0.],\n",
       "        [0.],\n",
       "        [0.],\n",
       "        [0.],\n",
       "        [0.],\n",
       "        [0.],\n",
       "        [0.],\n",
       "        [0.],\n",
       "        [0.],\n",
       "        [0.],\n",
       "        [0.],\n",
       "        [0.],\n",
       "        [0.],\n",
       "        [0.],\n",
       "        [0.],\n",
       "        [0.],\n",
       "        [0.],\n",
       "        [0.],\n",
       "        [0.],\n",
       "        [0.],\n",
       "        [0.],\n",
       "        [0.],\n",
       "        [0.]]))"
      ]
     },
     "execution_count": 145,
     "metadata": {},
     "output_type": "execute_result"
    }
   ],
   "source": [
    "bg.__getitem__(0)"
   ]
  },
  {
   "cell_type": "code",
   "execution_count": null,
   "metadata": {},
   "outputs": [],
   "source": []
  },
  {
   "cell_type": "code",
   "execution_count": null,
   "metadata": {},
   "outputs": [],
   "source": []
  },
  {
   "cell_type": "code",
   "execution_count": null,
   "metadata": {},
   "outputs": [],
   "source": []
  },
  {
   "cell_type": "code",
   "execution_count": null,
   "metadata": {},
   "outputs": [],
   "source": []
  },
  {
   "cell_type": "code",
   "execution_count": null,
   "metadata": {},
   "outputs": [],
   "source": []
  }
 ],
 "metadata": {
  "kernelspec": {
   "display_name": "Python 3",
   "language": "python",
   "name": "python3"
  },
  "language_info": {
   "codemirror_mode": {
    "name": "ipython",
    "version": 3
   },
   "file_extension": ".py",
   "mimetype": "text/x-python",
   "name": "python",
   "nbconvert_exporter": "python",
   "pygments_lexer": "ipython3",
   "version": "3.6.7"
  },
  "toc": {
   "base_numbering": 1,
   "nav_menu": {},
   "number_sections": true,
   "sideBar": true,
   "skip_h1_title": false,
   "title_cell": "Table of Contents",
   "title_sidebar": "Contents",
   "toc_cell": false,
   "toc_position": {},
   "toc_section_display": true,
   "toc_window_display": false
  },
  "varInspector": {
   "cols": {
    "lenName": 16,
    "lenType": 16,
    "lenVar": 40
   },
   "kernels_config": {
    "python": {
     "delete_cmd_postfix": "",
     "delete_cmd_prefix": "del ",
     "library": "var_list.py",
     "varRefreshCmd": "print(var_dic_list())"
    },
    "r": {
     "delete_cmd_postfix": ") ",
     "delete_cmd_prefix": "rm(",
     "library": "var_list.r",
     "varRefreshCmd": "cat(var_dic_list()) "
    }
   },
   "types_to_exclude": [
    "module",
    "function",
    "builtin_function_or_method",
    "instance",
    "_Feature"
   ],
   "window_display": false
  }
 },
 "nbformat": 4,
 "nbformat_minor": 2
}
