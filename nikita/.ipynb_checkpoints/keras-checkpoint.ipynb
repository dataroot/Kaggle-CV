{
 "cells": [
  {
   "cell_type": "code",
   "execution_count": 1,
   "metadata": {
    "ExecuteTime": {
     "end_time": "2019-03-18T22:09:30.918643Z",
     "start_time": "2019-03-18T22:09:20.101076Z"
    }
   },
   "outputs": [
    {
     "name": "stderr",
     "output_type": "stream",
     "text": [
      "Using TensorFlow backend.\n"
     ]
    }
   ],
   "source": [
    "import tensorflow as tf\n",
    "from keras.models import Model\n",
    "from keras.layers import Input, Dense, Lambda, Embedding, Concatenate"
   ]
  },
  {
   "cell_type": "code",
   "execution_count": 2,
   "metadata": {
    "ExecuteTime": {
     "end_time": "2019-03-18T22:09:30.934266Z",
     "start_time": "2019-03-18T22:09:30.918643Z"
    }
   },
   "outputs": [],
   "source": [
    "class Encoder(Model):\n",
    "    def __init__(self, input_dim: int, output_dim: int, emb_input_dims: list, emb_output_dims: list):\n",
    "        inputs = Input((input_dim, ))\n",
    "        \n",
    "        n_embs = len(emb_input_dims)\n",
    "        embs = []\n",
    "        for i, nunique, dim in zip(range(n_embs), emb_input_dims, emb_output_dims):\n",
    "            tmp = Lambda(lambda x: x[:, i])(inputs)\n",
    "            embs.append(Embedding(nunique, dim)(tmp))\n",
    "        embs.append(Lambda(lambda x: x[:, n_embs:])(inputs))\n",
    "        \n",
    "        self.inter = Concatenate()(embs)\n",
    "        outputs = Dense(output_dim)(self.inter)\n",
    "        \n",
    "        super().__init__(inputs, outputs)"
   ]
  },
  {
   "cell_type": "code",
   "execution_count": 3,
   "metadata": {
    "ExecuteTime": {
     "end_time": "2019-03-18T22:09:30.949889Z",
     "start_time": "2019-03-18T22:09:30.934266Z"
    }
   },
   "outputs": [],
   "source": [
    "class Merger(Model):\n",
    "    def __init__(self, dim):\n",
    "        inputs_que = Input((dim, ))\n",
    "        inputs_pro = Input((dim, ))\n",
    "        \n",
    "        # Purely experimental approach for loss function construction\n",
    "        self.merged = Lambda(lambda x: tf.reduce_sum(tf.square(x[0]-x[1]), axis = -1))([inputs_que, inputs_pro])\n",
    "        outputs = Lambda(lambda x: tf.exp(-self.merged))(self.merged)\n",
    "        \n",
    "        super().__init__([inputs_que, inputs_pro], outputs)"
   ]
  },
  {
   "cell_type": "code",
   "execution_count": 4,
   "metadata": {
    "ExecuteTime": {
     "end_time": "2019-03-18T22:09:30.965532Z",
     "start_time": "2019-03-18T22:09:30.949889Z"
    }
   },
   "outputs": [],
   "source": [
    "class Mothership(Model):\n",
    "    def __init__(self, que_dim: int, que_input_embs: list, pro_dim: int, pro_input_embs: list, inter_dim: int, \\\n",
    "                que_output_embs: list, pro_output_embs: list):\n",
    "        super().__init__() # idk y\n",
    "        \n",
    "        self.que_model = Encoder(que_dim, inter_dim, que_input_embs, que_output_embs)\n",
    "        self.pro_model = Encoder(pro_dim, inter_dim, pro_input_embs, pro_output_embs)\n",
    "        self.merge_model = Merger(inter_dim)\n",
    "        \n",
    "        super().__init__([self.que_model.inputs[0], self.pro_model.inputs[0]], \n",
    "                         self.merge_model([self.pro_model.outputs[0], self.que_model.outputs[0]]))"
   ]
  },
  {
   "cell_type": "code",
   "execution_count": 5,
   "metadata": {
    "ExecuteTime": {
     "end_time": "2019-03-18T22:09:31.231066Z",
     "start_time": "2019-03-18T22:09:30.965532Z"
    },
    "scrolled": false
   },
   "outputs": [
    {
     "name": "stdout",
     "output_type": "stream",
     "text": [
      "__________________________________________________________________________________________________\n",
      "Layer (type)                    Output Shape         Param #     Connected to                     \n",
      "==================================================================================================\n",
      "input_2 (InputLayer)            (None, 13)           0                                            \n",
      "__________________________________________________________________________________________________\n",
      "input_1 (InputLayer)            (None, 17)           0                                            \n",
      "__________________________________________________________________________________________________\n",
      "lambda_4 (Lambda)               (None,)              0           input_2[0][0]                    \n",
      "__________________________________________________________________________________________________\n",
      "lambda_1 (Lambda)               (None,)              0           input_1[0][0]                    \n",
      "__________________________________________________________________________________________________\n",
      "lambda_2 (Lambda)               (None,)              0           input_1[0][0]                    \n",
      "__________________________________________________________________________________________________\n",
      "embedding_3 (Embedding)         (None, 1)            5           lambda_4[0][0]                   \n",
      "__________________________________________________________________________________________________\n",
      "lambda_5 (Lambda)               (None, 12)           0           input_2[0][0]                    \n",
      "__________________________________________________________________________________________________\n",
      "embedding_1 (Embedding)         (None, 1)            2           lambda_1[0][0]                   \n",
      "__________________________________________________________________________________________________\n",
      "embedding_2 (Embedding)         (None, 1)            3           lambda_2[0][0]                   \n",
      "__________________________________________________________________________________________________\n",
      "lambda_3 (Lambda)               (None, 15)           0           input_1[0][0]                    \n",
      "__________________________________________________________________________________________________\n",
      "concatenate_2 (Concatenate)     (None, 13)           0           embedding_3[0][0]                \n",
      "                                                                 lambda_5[0][0]                   \n",
      "__________________________________________________________________________________________________\n",
      "concatenate_1 (Concatenate)     (None, 17)           0           embedding_1[0][0]                \n",
      "                                                                 embedding_2[0][0]                \n",
      "                                                                 lambda_3[0][0]                   \n",
      "__________________________________________________________________________________________________\n",
      "dense_2 (Dense)                 (None, 16)           224         concatenate_2[0][0]              \n",
      "__________________________________________________________________________________________________\n",
      "dense_1 (Dense)                 (None, 16)           288         concatenate_1[0][0]              \n",
      "__________________________________________________________________________________________________\n",
      "merger_1 (Merger)               (None,)              0           dense_2[0][0]                    \n",
      "                                                                 dense_1[0][0]                    \n",
      "==================================================================================================\n",
      "Total params: 522\n",
      "Trainable params: 522\n",
      "Non-trainable params: 0\n",
      "__________________________________________________________________________________________________\n"
     ]
    }
   ],
   "source": [
    "Mothership(17, [2, 3], 13, [5], 16, [1, 1], [1]).summary()"
   ]
  },
  {
   "cell_type": "code",
   "execution_count": null,
   "metadata": {},
   "outputs": [],
   "source": []
  },
  {
   "cell_type": "code",
   "execution_count": null,
   "metadata": {},
   "outputs": [],
   "source": []
  },
  {
   "cell_type": "code",
   "execution_count": null,
   "metadata": {},
   "outputs": [],
   "source": []
  }
 ],
 "metadata": {
  "kernelspec": {
   "display_name": "Python 3",
   "language": "python",
   "name": "python3"
  },
  "language_info": {
   "codemirror_mode": {
    "name": "ipython",
    "version": 3
   },
   "file_extension": ".py",
   "mimetype": "text/x-python",
   "name": "python",
   "nbconvert_exporter": "python",
   "pygments_lexer": "ipython3",
   "version": "3.6.7"
  },
  "toc": {
   "base_numbering": 1,
   "nav_menu": {},
   "number_sections": true,
   "sideBar": true,
   "skip_h1_title": false,
   "title_cell": "Table of Contents",
   "title_sidebar": "Contents",
   "toc_cell": false,
   "toc_position": {},
   "toc_section_display": true,
   "toc_window_display": false
  },
  "varInspector": {
   "cols": {
    "lenName": 16,
    "lenType": 16,
    "lenVar": 40
   },
   "kernels_config": {
    "python": {
     "delete_cmd_postfix": "",
     "delete_cmd_prefix": "del ",
     "library": "var_list.py",
     "varRefreshCmd": "print(var_dic_list())"
    },
    "r": {
     "delete_cmd_postfix": ") ",
     "delete_cmd_prefix": "rm(",
     "library": "var_list.r",
     "varRefreshCmd": "cat(var_dic_list()) "
    }
   },
   "types_to_exclude": [
    "module",
    "function",
    "builtin_function_or_method",
    "instance",
    "_Feature"
   ],
   "window_display": false
  }
 },
 "nbformat": 4,
 "nbformat_minor": 2
}
